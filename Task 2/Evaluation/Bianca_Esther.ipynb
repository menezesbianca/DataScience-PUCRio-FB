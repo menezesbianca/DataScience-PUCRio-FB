{
  "nbformat": 4,
  "nbformat_minor": 0,
  "metadata": {
    "colab": {
      "provenance": [],
      "authorship_tag": "ABX9TyOtEjdGLNM6INoJxvfN+heU",
      "include_colab_link": true
    },
    "kernelspec": {
      "name": "ir",
      "display_name": "R"
    },
    "language_info": {
      "name": "R"
    }
  },
  "cells": [
    {
      "cell_type": "markdown",
      "metadata": {
        "id": "view-in-github",
        "colab_type": "text"
      },
      "source": [
        "<a href=\"https://colab.research.google.com/github/renatoquiliche/DataScience-PUCRio-FB/blob/main/Task%202/Evaluation/Bianca_Esther.ipynb\" target=\"_parent\"><img src=\"https://colab.research.google.com/assets/colab-badge.svg\" alt=\"Open In Colab\"/></a>"
      ]
    },
    {
      "cell_type": "code",
      "execution_count": null,
      "metadata": {
        "id": "9Y--ZKg7y7pu"
      },
      "outputs": [],
      "source": [
        "library(ISLR)\n",
        "require(tree)\n",
        "library(rpart)\n",
        "library(rpart.plot)\n",
        "library(mccr)\n",
        "require(mccr)\n",
        "library(dplyr)\n",
        "library(caret)\n",
        "library(fastDummies)"
      ]
    },
    {
      "cell_type": "code",
      "source": [
        "##Carregar o dataset##\n",
        "\n",
        "dados <- read.csv(\"https://raw.githubusercontent.com/renatoquiliche/DataScience-PUCRio-FB/main/Data/DS_salarios/ds_salaries.csv\")\n",
        "\n",
        "dados$salary_in_usd = dados$salary_in_usd/1000"
      ],
      "metadata": {
        "id": "p0yALt8N1OCq"
      },
      "execution_count": null,
      "outputs": []
    },
    {
      "cell_type": "code",
      "source": [
        "#Pre-processing\n",
        "#1. Transform the categorical features into binary variables (dummy variables). Dummy variables are accepted by almost any classifier. (1 point)\n",
        "\n",
        "str(dados)\n",
        "table(dados$company_size)\n",
        "head(dados)\n",
        "glimpse(dados)\n",
        "\n",
        "\n",
        "input_variables <- dados[,c('company_size', 'remote_ratio'\n",
        "                            , 'work_year', 'job_title', 'experience_level'\n",
        "                            , 'employment_type', 'employee_residence'\n",
        "                            , 'company_location', 'salary_in_usd')]\n",
        "\n",
        "\n",
        "final_data <- dummy_cols(input_variables, select_columns = c('work_year', 'job_title', 'experience_level'\n",
        "                                                             , 'employment_type', 'employee_residence'\n",
        "                                                             , 'company_location'), remove_selected_columns = TRUE)\n",
        "\n"
      ],
      "metadata": {
        "colab": {
          "base_uri": "https://localhost:8080/",
          "height": 842
        },
        "id": "h7YKXU5YzEzx",
        "outputId": "03176f3a-eb6d-428a-acc2-de84272bfec2"
      },
      "execution_count": null,
      "outputs": [
        {
          "output_type": "stream",
          "name": "stdout",
          "text": [
            "'data.frame':\t607 obs. of  13 variables:\n",
            " $ X                 : int  0 1 2 3 4 5 6 7 8 9 ...\n",
            " $ work_year         : int  2020 2020 2020 2020 2020 2020 2020 2020 2020 2020 ...\n",
            " $ work_month        : int  6 11 12 6 10 8 2 1 2 6 ...\n",
            " $ experience_level  : chr  \"MI\" \"SE\" \"SE\" \"MI\" ...\n",
            " $ employment_type   : chr  \"FT\" \"FT\" \"FT\" \"FT\" ...\n",
            " $ job_title         : chr  \"Data Scientist\" \"Machine Learning Scientist\" \"Big Data Engineer\" \"Product Data Analyst\" ...\n",
            " $ salary            : int  70000 260000 85000 20000 150000 72000 190000 11000000 135000 125000 ...\n",
            " $ salary_currency   : chr  \"EUR\" \"USD\" \"GBP\" \"USD\" ...\n",
            " $ salary_in_usd     : num  79.8 260 109 20 150 ...\n",
            " $ employee_residence: chr  \"DE\" \"JP\" \"GB\" \"HN\" ...\n",
            " $ remote_ratio      : int  0 0 50 0 50 100 100 50 100 50 ...\n",
            " $ company_location  : chr  \"DE\" \"JP\" \"GB\" \"HN\" ...\n",
            " $ company_size      : chr  \"L\" \"S\" \"M\" \"S\" ...\n"
          ]
        },
        {
          "output_type": "display_data",
          "data": {
            "text/plain": [
              "\n",
              "  L   M   S \n",
              "198 326  83 "
            ]
          },
          "metadata": {}
        },
        {
          "output_type": "display_data",
          "data": {
            "text/html": [
              "<table class=\"dataframe\">\n",
              "<caption>A data.frame: 6 × 13</caption>\n",
              "<thead>\n",
              "\t<tr><th></th><th scope=col>X</th><th scope=col>work_year</th><th scope=col>work_month</th><th scope=col>experience_level</th><th scope=col>employment_type</th><th scope=col>job_title</th><th scope=col>salary</th><th scope=col>salary_currency</th><th scope=col>salary_in_usd</th><th scope=col>employee_residence</th><th scope=col>remote_ratio</th><th scope=col>company_location</th><th scope=col>company_size</th></tr>\n",
              "\t<tr><th></th><th scope=col>&lt;int&gt;</th><th scope=col>&lt;int&gt;</th><th scope=col>&lt;int&gt;</th><th scope=col>&lt;chr&gt;</th><th scope=col>&lt;chr&gt;</th><th scope=col>&lt;chr&gt;</th><th scope=col>&lt;int&gt;</th><th scope=col>&lt;chr&gt;</th><th scope=col>&lt;dbl&gt;</th><th scope=col>&lt;chr&gt;</th><th scope=col>&lt;int&gt;</th><th scope=col>&lt;chr&gt;</th><th scope=col>&lt;chr&gt;</th></tr>\n",
              "</thead>\n",
              "<tbody>\n",
              "\t<tr><th scope=row>1</th><td>0</td><td>2020</td><td> 6</td><td>MI</td><td>FT</td><td>Data Scientist            </td><td> 70000</td><td>EUR</td><td> 79.833</td><td>DE</td><td>  0</td><td>DE</td><td>L</td></tr>\n",
              "\t<tr><th scope=row>2</th><td>1</td><td>2020</td><td>11</td><td>SE</td><td>FT</td><td>Machine Learning Scientist</td><td>260000</td><td>USD</td><td>260.000</td><td>JP</td><td>  0</td><td>JP</td><td>S</td></tr>\n",
              "\t<tr><th scope=row>3</th><td>2</td><td>2020</td><td>12</td><td>SE</td><td>FT</td><td>Big Data Engineer         </td><td> 85000</td><td>GBP</td><td>109.024</td><td>GB</td><td> 50</td><td>GB</td><td>M</td></tr>\n",
              "\t<tr><th scope=row>4</th><td>3</td><td>2020</td><td> 6</td><td>MI</td><td>FT</td><td>Product Data Analyst      </td><td> 20000</td><td>USD</td><td> 20.000</td><td>HN</td><td>  0</td><td>HN</td><td>S</td></tr>\n",
              "\t<tr><th scope=row>5</th><td>4</td><td>2020</td><td>10</td><td>SE</td><td>FT</td><td>Machine Learning Engineer </td><td>150000</td><td>USD</td><td>150.000</td><td>US</td><td> 50</td><td>US</td><td>L</td></tr>\n",
              "\t<tr><th scope=row>6</th><td>5</td><td>2020</td><td> 8</td><td>EN</td><td>FT</td><td>Data Analyst              </td><td> 72000</td><td>USD</td><td> 72.000</td><td>US</td><td>100</td><td>US</td><td>L</td></tr>\n",
              "</tbody>\n",
              "</table>\n"
            ],
            "text/markdown": "\nA data.frame: 6 × 13\n\n| <!--/--> | X &lt;int&gt; | work_year &lt;int&gt; | work_month &lt;int&gt; | experience_level &lt;chr&gt; | employment_type &lt;chr&gt; | job_title &lt;chr&gt; | salary &lt;int&gt; | salary_currency &lt;chr&gt; | salary_in_usd &lt;dbl&gt; | employee_residence &lt;chr&gt; | remote_ratio &lt;int&gt; | company_location &lt;chr&gt; | company_size &lt;chr&gt; |\n|---|---|---|---|---|---|---|---|---|---|---|---|---|---|\n| 1 | 0 | 2020 |  6 | MI | FT | Data Scientist             |  70000 | EUR |  79.833 | DE |   0 | DE | L |\n| 2 | 1 | 2020 | 11 | SE | FT | Machine Learning Scientist | 260000 | USD | 260.000 | JP |   0 | JP | S |\n| 3 | 2 | 2020 | 12 | SE | FT | Big Data Engineer          |  85000 | GBP | 109.024 | GB |  50 | GB | M |\n| 4 | 3 | 2020 |  6 | MI | FT | Product Data Analyst       |  20000 | USD |  20.000 | HN |   0 | HN | S |\n| 5 | 4 | 2020 | 10 | SE | FT | Machine Learning Engineer  | 150000 | USD | 150.000 | US |  50 | US | L |\n| 6 | 5 | 2020 |  8 | EN | FT | Data Analyst               |  72000 | USD |  72.000 | US | 100 | US | L |\n\n",
            "text/latex": "A data.frame: 6 × 13\n\\begin{tabular}{r|lllllllllllll}\n  & X & work\\_year & work\\_month & experience\\_level & employment\\_type & job\\_title & salary & salary\\_currency & salary\\_in\\_usd & employee\\_residence & remote\\_ratio & company\\_location & company\\_size\\\\\n  & <int> & <int> & <int> & <chr> & <chr> & <chr> & <int> & <chr> & <dbl> & <chr> & <int> & <chr> & <chr>\\\\\n\\hline\n\t1 & 0 & 2020 &  6 & MI & FT & Data Scientist             &  70000 & EUR &  79.833 & DE &   0 & DE & L\\\\\n\t2 & 1 & 2020 & 11 & SE & FT & Machine Learning Scientist & 260000 & USD & 260.000 & JP &   0 & JP & S\\\\\n\t3 & 2 & 2020 & 12 & SE & FT & Big Data Engineer          &  85000 & GBP & 109.024 & GB &  50 & GB & M\\\\\n\t4 & 3 & 2020 &  6 & MI & FT & Product Data Analyst       &  20000 & USD &  20.000 & HN &   0 & HN & S\\\\\n\t5 & 4 & 2020 & 10 & SE & FT & Machine Learning Engineer  & 150000 & USD & 150.000 & US &  50 & US & L\\\\\n\t6 & 5 & 2020 &  8 & EN & FT & Data Analyst               &  72000 & USD &  72.000 & US & 100 & US & L\\\\\n\\end{tabular}\n",
            "text/plain": [
              "  X work_year work_month experience_level employment_type\n",
              "1 0 2020       6         MI               FT             \n",
              "2 1 2020      11         SE               FT             \n",
              "3 2 2020      12         SE               FT             \n",
              "4 3 2020       6         MI               FT             \n",
              "5 4 2020      10         SE               FT             \n",
              "6 5 2020       8         EN               FT             \n",
              "  job_title                  salary salary_currency salary_in_usd\n",
              "1 Data Scientist              70000 EUR              79.833      \n",
              "2 Machine Learning Scientist 260000 USD             260.000      \n",
              "3 Big Data Engineer           85000 GBP             109.024      \n",
              "4 Product Data Analyst        20000 USD              20.000      \n",
              "5 Machine Learning Engineer  150000 USD             150.000      \n",
              "6 Data Analyst                72000 USD              72.000      \n",
              "  employee_residence remote_ratio company_location company_size\n",
              "1 DE                   0          DE               L           \n",
              "2 JP                   0          JP               S           \n",
              "3 GB                  50          GB               M           \n",
              "4 HN                   0          HN               S           \n",
              "5 US                  50          US               L           \n",
              "6 US                 100          US               L           "
            ]
          },
          "metadata": {}
        },
        {
          "output_type": "stream",
          "name": "stdout",
          "text": [
            "Rows: 607\n",
            "Columns: 13\n",
            "$ X                  \u001b[3m\u001b[90m<int>\u001b[39m\u001b[23m 0, 1, 2, 3, 4, 5, 6, 7, 8, 9, 10, 11, 12, 13, 14, 1…\n",
            "$ work_year          \u001b[3m\u001b[90m<int>\u001b[39m\u001b[23m 2020, 2020, 2020, 2020, 2020, 2020, 2020, 2020, 202…\n",
            "$ work_month         \u001b[3m\u001b[90m<int>\u001b[39m\u001b[23m 6, 11, 12, 6, 10, 8, 2, 1, 2, 6, 4, 4, 10, 11, 12, …\n",
            "$ experience_level   \u001b[3m\u001b[90m<chr>\u001b[39m\u001b[23m \"MI\", \"SE\", \"SE\", \"MI\", \"SE\", \"EN\", \"SE\", \"MI\", \"MI…\n",
            "$ employment_type    \u001b[3m\u001b[90m<chr>\u001b[39m\u001b[23m \"FT\", \"FT\", \"FT\", \"FT\", \"FT\", \"FT\", \"FT\", \"FT\", \"FT…\n",
            "$ job_title          \u001b[3m\u001b[90m<chr>\u001b[39m\u001b[23m \"Data Scientist\", \"Machine Learning Scientist\", \"Bi…\n",
            "$ salary             \u001b[3m\u001b[90m<int>\u001b[39m\u001b[23m 70000, 260000, 85000, 20000, 150000, 72000, 190000,…\n",
            "$ salary_currency    \u001b[3m\u001b[90m<chr>\u001b[39m\u001b[23m \"EUR\", \"USD\", \"GBP\", \"USD\", \"USD\", \"USD\", \"USD\", \"H…\n",
            "$ salary_in_usd      \u001b[3m\u001b[90m<dbl>\u001b[39m\u001b[23m 79.833, 260.000, 109.024, 20.000, 150.000, 72.000, …\n",
            "$ employee_residence \u001b[3m\u001b[90m<chr>\u001b[39m\u001b[23m \"DE\", \"JP\", \"GB\", \"HN\", \"US\", \"US\", \"US\", \"HU\", \"US…\n",
            "$ remote_ratio       \u001b[3m\u001b[90m<int>\u001b[39m\u001b[23m 0, 0, 50, 0, 50, 100, 100, 50, 100, 50, 0, 0, 0, 10…\n",
            "$ company_location   \u001b[3m\u001b[90m<chr>\u001b[39m\u001b[23m \"DE\", \"JP\", \"GB\", \"HN\", \"US\", \"US\", \"US\", \"HU\", \"US…\n",
            "$ company_size       \u001b[3m\u001b[90m<chr>\u001b[39m\u001b[23m \"L\", \"S\", \"M\", \"S\", \"L\", \"L\", \"S\", \"L\", \"L\", \"S\", \"…\n"
          ]
        }
      ]
    },
    {
      "cell_type": "code",
      "source": [
        "## Partição de dados\n",
        "#make this example reproducible\n",
        "set.seed(0)\n",
        "\n",
        "#create ID column\n",
        "final_data$id <- 1:nrow(final_data)\n",
        "\n",
        "#use 70% of dataset as training set and 30% as test set \n",
        "train_size = 0.7\n",
        "\n",
        "train <- final_data %>% dplyr::sample_frac(train_size)\n",
        "test  <- dplyr::anti_join(final_data, train, by = 'id')\n",
        "table(train$company_size)\n",
        "table(test$company_size)"
      ],
      "metadata": {
        "colab": {
          "base_uri": "https://localhost:8080/",
          "height": 121
        },
        "id": "YhU2zCxGzNJd",
        "outputId": "221bf4f6-dd11-4c7d-814c-0a4f13a3aa4d"
      },
      "execution_count": null,
      "outputs": [
        {
          "output_type": "display_data",
          "data": {
            "text/plain": [
              "\n",
              "  L   M   S \n",
              "132 234  59 "
            ]
          },
          "metadata": {}
        },
        {
          "output_type": "display_data",
          "data": {
            "text/plain": [
              "\n",
              " L  M  S \n",
              "66 92 24 "
            ]
          },
          "metadata": {}
        }
      ]
    },
    {
      "cell_type": "code",
      "source": [
        "#Processing\n",
        "#2. Fit a Decision Tree to classify the size of company in which each data scientist work. \n",
        "#This is represented by the feature ‘company_size’, which is the target variable.\n",
        "#2.1\n",
        "set.seed(100)\n",
        "tree_model <- rpart(company_size~., data = train, method = 'class', maxdepth=3)\n",
        "summary(tree_model)\n",
        "rpart.plot(tree_model, extra=104)\n",
        "\n",
        "#2.2 - Plot the decision tree\n",
        "#To predict on test data\n",
        "rpart.predict(tree_model, test, type='class')"
      ],
      "metadata": {
        "colab": {
          "base_uri": "https://localhost:8080/",
          "height": 1000
        },
        "id": "f6yENOS8zSNs",
        "outputId": "522d229b-fcc2-4600-f846-dfa13ac3dbfc"
      },
      "execution_count": null,
      "outputs": [
        {
          "output_type": "stream",
          "name": "stdout",
          "text": [
            "Call:\n",
            "rpart(formula = company_size ~ ., data = train, method = \"class\", \n",
            "    maxdepth = 3)\n",
            "  n= 425 \n",
            "\n",
            "          CP nsplit rel error    xerror       xstd\n",
            "1 0.29842932      0 1.0000000 1.0000000 0.05369042\n",
            "2 0.02617801      1 0.7015707 0.7015707 0.05015001\n",
            "3 0.01047120      2 0.6753927 0.7329843 0.05072927\n",
            "4 0.01000000      3 0.6649215 0.7329843 0.05072927\n",
            "\n",
            "Variable importance\n",
            "                   id        work_year_2022        work_year_2021 \n",
            "                   27                    27                    20 \n",
            "        salary_in_usd   experience_level_SE employee_residence_US \n",
            "                    9                     9                     8 \n",
            "         remote_ratio \n",
            "                    1 \n",
            "\n",
            "Node number 1: 425 observations,    complexity param=0.2984293\n",
            "  predicted class=M  expected loss=0.4494118  P(node) =1\n",
            "    class counts:   132   234    59\n",
            "   probabilities: 0.311 0.551 0.139 \n",
            "  left son=2 (205 obs) right son=3 (220 obs)\n",
            "  Primary splits:\n",
            "      work_year_2022      < 0.5     to the left,  improve=58.538860, (0 missing)\n",
            "      id                  < 289.5   to the left,  improve=58.538860, (0 missing)\n",
            "      work_year_2021      < 0.5     to the right, improve=32.757230, (0 missing)\n",
            "      work_year_2020      < 0.5     to the left,  improve=11.943990, (0 missing)\n",
            "      experience_level_SE < 0.5     to the right, improve= 9.907146, (0 missing)\n",
            "  Surrogate splits:\n",
            "      id                    < 289.5   to the left,  agree=1.000, adj=1.000, (0 split)\n",
            "      work_year_2021        < 0.5     to the right, agree=0.875, adj=0.741, (0 split)\n",
            "      experience_level_SE   < 0.5     to the left,  agree=0.678, adj=0.332, (0 split)\n",
            "      employee_residence_US < 0.5     to the left,  agree=0.659, adj=0.293, (0 split)\n",
            "      salary_in_usd         < 76.8865 to the left,  agree=0.647, adj=0.268, (0 split)\n",
            "\n",
            "Node number 2: 205 observations,    complexity param=0.02617801\n",
            "  predicted class=L  expected loss=0.4780488  P(node) =0.4823529\n",
            "    class counts:   107    50    48\n",
            "   probabilities: 0.522 0.244 0.234 \n",
            "  left son=4 (185 obs) right son=5 (20 obs)\n",
            "  Primary splits:\n",
            "      salary_in_usd       < 19.258  to the right, improve=3.579235, (0 missing)\n",
            "      experience_level_EN < 0.5     to the left,  improve=3.513253, (0 missing)\n",
            "      id                  < 276.5   to the right, improve=2.296560, (0 missing)\n",
            "      experience_level_EX < 0.5     to the right, improve=1.219637, (0 missing)\n",
            "      work_year_2020      < 0.5     to the left,  improve=1.193737, (0 missing)\n",
            "  Surrogate splits:\n",
            "      employment_type_PT    < 0.5     to the left,  agree=0.917, adj=0.15, (0 split)\n",
            "      employee_residence_PK < 0.5     to the left,  agree=0.917, adj=0.15, (0 split)\n",
            "      company_location_PK   < 0.5     to the left,  agree=0.912, adj=0.10, (0 split)\n",
            "      employee_residence_BR < 0.5     to the left,  agree=0.907, adj=0.05, (0 split)\n",
            "      company_location_BR   < 0.5     to the left,  agree=0.907, adj=0.05, (0 split)\n",
            "\n",
            "Node number 3: 220 observations\n",
            "  predicted class=M  expected loss=0.1636364  P(node) =0.5176471\n",
            "    class counts:    25   184    11\n",
            "   probabilities: 0.114 0.836 0.050 \n",
            "\n",
            "Node number 4: 185 observations\n",
            "  predicted class=L  expected loss=0.4432432  P(node) =0.4352941\n",
            "    class counts:   103    43    39\n",
            "   probabilities: 0.557 0.232 0.211 \n",
            "\n",
            "Node number 5: 20 observations,    complexity param=0.0104712\n",
            "  predicted class=S  expected loss=0.55  P(node) =0.04705882\n",
            "    class counts:     4     7     9\n",
            "   probabilities: 0.200 0.350 0.450 \n",
            "  left son=10 (12 obs) right son=11 (8 obs)\n",
            "  Primary splits:\n",
            "      remote_ratio          < 75      to the left,  improve=1.1166670, (0 missing)\n",
            "      employee_residence_IN < 0.5     to the right, improve=0.8978022, (0 missing)\n",
            "      salary_in_usd         < 8.636   to the left,  improve=0.5181818, (0 missing)\n",
            "      id                    < 195     to the right, improve=0.4362637, (0 missing)\n",
            "      experience_level_EN   < 0.5     to the left,  improve=0.1000000, (0 missing)\n",
            "  Surrogate splits:\n",
            "      company_location_US    < 0.5     to the left,  agree=0.75, adj=0.375, (0 split)\n",
            "      job_title_AI Scientist < 0.5     to the left,  agree=0.70, adj=0.250, (0 split)\n",
            "      experience_level_EN    < 0.5     to the left,  agree=0.70, adj=0.250, (0 split)\n",
            "      employment_type_PT     < 0.5     to the left,  agree=0.70, adj=0.250, (0 split)\n",
            "      salary_in_usd          < 8.636   to the left,  agree=0.65, adj=0.125, (0 split)\n",
            "\n",
            "Node number 10: 12 observations\n",
            "  predicted class=M  expected loss=0.5  P(node) =0.02823529\n",
            "    class counts:     2     6     4\n",
            "   probabilities: 0.167 0.500 0.333 \n",
            "\n",
            "Node number 11: 8 observations\n",
            "  predicted class=S  expected loss=0.375  P(node) =0.01882353\n",
            "    class counts:     2     1     5\n",
            "   probabilities: 0.250 0.125 0.625 \n",
            "\n"
          ]
        },
        {
          "output_type": "display_data",
          "data": {
            "text/html": [
              "<style>\n",
              ".dl-inline {width: auto; margin:0; padding: 0}\n",
              ".dl-inline>dt, .dl-inline>dd {float: none; width: auto; display: inline-block}\n",
              ".dl-inline>dt::after {content: \":\\0020\"; padding-right: .5ex}\n",
              ".dl-inline>dt:not(:first-of-type) {padding-left: .5ex}\n",
              "</style><dl class=dl-inline><dt>1</dt><dd>L</dd><dt>2</dt><dd>L</dd><dt>3</dt><dd>L</dd><dt>4</dt><dd>L</dd><dt>5</dt><dd>L</dd><dt>6</dt><dd>L</dd><dt>7</dt><dd>L</dd><dt>8</dt><dd>L</dd><dt>9</dt><dd>L</dd><dt>10</dt><dd>L</dd><dt>11</dt><dd>L</dd><dt>12</dt><dd>L</dd><dt>13</dt><dd>L</dd><dt>14</dt><dd>L</dd><dt>15</dt><dd>L</dd><dt>16</dt><dd>L</dd><dt>17</dt><dd>L</dd><dt>18</dt><dd>L</dd><dt>19</dt><dd>L</dd><dt>20</dt><dd>L</dd><dt>21</dt><dd>L</dd><dt>22</dt><dd>L</dd><dt>23</dt><dd>L</dd><dt>24</dt><dd>L</dd><dt>25</dt><dd>L</dd><dt>26</dt><dd>L</dd><dt>27</dt><dd>L</dd><dt>28</dt><dd>L</dd><dt>29</dt><dd>L</dd><dt>30</dt><dd>L</dd><dt>31</dt><dd>L</dd><dt>32</dt><dd>L</dd><dt>33</dt><dd>L</dd><dt>34</dt><dd>L</dd><dt>35</dt><dd>M</dd><dt>36</dt><dd>M</dd><dt>37</dt><dd>L</dd><dt>38</dt><dd>L</dd><dt>39</dt><dd>L</dd><dt>40</dt><dd>L</dd><dt>41</dt><dd>L</dd><dt>42</dt><dd>S</dd><dt>43</dt><dd>L</dd><dt>44</dt><dd>L</dd><dt>45</dt><dd>L</dd><dt>46</dt><dd>L</dd><dt>47</dt><dd>L</dd><dt>48</dt><dd>L</dd><dt>49</dt><dd>L</dd><dt>50</dt><dd>L</dd><dt>51</dt><dd>L</dd><dt>52</dt><dd>S</dd><dt>53</dt><dd>L</dd><dt>54</dt><dd>L</dd><dt>55</dt><dd>L</dd><dt>56</dt><dd>L</dd><dt>57</dt><dd>L</dd><dt>58</dt><dd>L</dd><dt>59</dt><dd>L</dd><dt>60</dt><dd>L</dd><dt>61</dt><dd>L</dd><dt>62</dt><dd>L</dd><dt>63</dt><dd>L</dd><dt>64</dt><dd>L</dd><dt>65</dt><dd>L</dd><dt>66</dt><dd>L</dd><dt>67</dt><dd>L</dd><dt>68</dt><dd>S</dd><dt>69</dt><dd>L</dd><dt>70</dt><dd>L</dd><dt>71</dt><dd>L</dd><dt>72</dt><dd>L</dd><dt>73</dt><dd>L</dd><dt>74</dt><dd>L</dd><dt>75</dt><dd>L</dd><dt>76</dt><dd>S</dd><dt>77</dt><dd>L</dd><dt>78</dt><dd>L</dd><dt>79</dt><dd>L</dd><dt>80</dt><dd>L</dd><dt>81</dt><dd>L</dd><dt>82</dt><dd>L</dd><dt>83</dt><dd>L</dd><dt>84</dt><dd>L</dd><dt>85</dt><dd>M</dd><dt>86</dt><dd>M</dd><dt>87</dt><dd>M</dd><dt>88</dt><dd>M</dd><dt>89</dt><dd>M</dd><dt>90</dt><dd>M</dd><dt>91</dt><dd>M</dd><dt>92</dt><dd>M</dd><dt>93</dt><dd>M</dd><dt>94</dt><dd>M</dd><dt>95</dt><dd>M</dd><dt>96</dt><dd>M</dd><dt>97</dt><dd>M</dd><dt>98</dt><dd>M</dd><dt>99</dt><dd>M</dd><dt>100</dt><dd>M</dd><dt>101</dt><dd>M</dd><dt>102</dt><dd>M</dd><dt>103</dt><dd>M</dd><dt>104</dt><dd>M</dd><dt>105</dt><dd>M</dd><dt>106</dt><dd>M</dd><dt>107</dt><dd>M</dd><dt>108</dt><dd>M</dd><dt>109</dt><dd>M</dd><dt>110</dt><dd>M</dd><dt>111</dt><dd>M</dd><dt>112</dt><dd>M</dd><dt>113</dt><dd>M</dd><dt>114</dt><dd>M</dd><dt>115</dt><dd>M</dd><dt>116</dt><dd>M</dd><dt>117</dt><dd>M</dd><dt>118</dt><dd>M</dd><dt>119</dt><dd>M</dd><dt>120</dt><dd>M</dd><dt>121</dt><dd>M</dd><dt>122</dt><dd>M</dd><dt>123</dt><dd>M</dd><dt>124</dt><dd>M</dd><dt>125</dt><dd>M</dd><dt>126</dt><dd>M</dd><dt>127</dt><dd>M</dd><dt>128</dt><dd>M</dd><dt>129</dt><dd>M</dd><dt>130</dt><dd>M</dd><dt>131</dt><dd>M</dd><dt>132</dt><dd>M</dd><dt>133</dt><dd>M</dd><dt>134</dt><dd>M</dd><dt>135</dt><dd>M</dd><dt>136</dt><dd>M</dd><dt>137</dt><dd>M</dd><dt>138</dt><dd>M</dd><dt>139</dt><dd>M</dd><dt>140</dt><dd>M</dd><dt>141</dt><dd>M</dd><dt>142</dt><dd>M</dd><dt>143</dt><dd>M</dd><dt>144</dt><dd>M</dd><dt>145</dt><dd>M</dd><dt>146</dt><dd>M</dd><dt>147</dt><dd>M</dd><dt>148</dt><dd>M</dd><dt>149</dt><dd>M</dd><dt>150</dt><dd>M</dd><dt>151</dt><dd>M</dd><dt>152</dt><dd>M</dd><dt>153</dt><dd>M</dd><dt>154</dt><dd>M</dd><dt>155</dt><dd>M</dd><dt>156</dt><dd>M</dd><dt>157</dt><dd>M</dd><dt>158</dt><dd>M</dd><dt>159</dt><dd>M</dd><dt>160</dt><dd>M</dd><dt>161</dt><dd>M</dd><dt>162</dt><dd>M</dd><dt>163</dt><dd>M</dd><dt>164</dt><dd>M</dd><dt>165</dt><dd>M</dd><dt>166</dt><dd>M</dd><dt>167</dt><dd>M</dd><dt>168</dt><dd>M</dd><dt>169</dt><dd>M</dd><dt>170</dt><dd>M</dd><dt>171</dt><dd>M</dd><dt>172</dt><dd>M</dd><dt>173</dt><dd>M</dd><dt>174</dt><dd>M</dd><dt>175</dt><dd>M</dd><dt>176</dt><dd>M</dd><dt>177</dt><dd>M</dd><dt>178</dt><dd>M</dd><dt>179</dt><dd>M</dd><dt>180</dt><dd>M</dd><dt>181</dt><dd>M</dd><dt>182</dt><dd>M</dd></dl>\n",
              "\n",
              "<details>\n",
              "\t<summary style=display:list-item;cursor:pointer>\n",
              "\t\t<strong>Levels</strong>:\n",
              "\t</summary>\n",
              "\t<style>\n",
              "\t.list-inline {list-style: none; margin:0; padding: 0}\n",
              "\t.list-inline>li {display: inline-block}\n",
              "\t.list-inline>li:not(:last-child)::after {content: \"\\00b7\"; padding: 0 .5ex}\n",
              "\t</style>\n",
              "\t<ol class=list-inline><li>'L'</li><li>'M'</li><li>'S'</li></ol>\n",
              "</details>"
            ],
            "text/markdown": "1\n:   L2\n:   L3\n:   L4\n:   L5\n:   L6\n:   L7\n:   L8\n:   L9\n:   L10\n:   L11\n:   L12\n:   L13\n:   L14\n:   L15\n:   L16\n:   L17\n:   L18\n:   L19\n:   L20\n:   L21\n:   L22\n:   L23\n:   L24\n:   L25\n:   L26\n:   L27\n:   L28\n:   L29\n:   L30\n:   L31\n:   L32\n:   L33\n:   L34\n:   L35\n:   M36\n:   M37\n:   L38\n:   L39\n:   L40\n:   L41\n:   L42\n:   S43\n:   L44\n:   L45\n:   L46\n:   L47\n:   L48\n:   L49\n:   L50\n:   L51\n:   L52\n:   S53\n:   L54\n:   L55\n:   L56\n:   L57\n:   L58\n:   L59\n:   L60\n:   L61\n:   L62\n:   L63\n:   L64\n:   L65\n:   L66\n:   L67\n:   L68\n:   S69\n:   L70\n:   L71\n:   L72\n:   L73\n:   L74\n:   L75\n:   L76\n:   S77\n:   L78\n:   L79\n:   L80\n:   L81\n:   L82\n:   L83\n:   L84\n:   L85\n:   M86\n:   M87\n:   M88\n:   M89\n:   M90\n:   M91\n:   M92\n:   M93\n:   M94\n:   M95\n:   M96\n:   M97\n:   M98\n:   M99\n:   M100\n:   M101\n:   M102\n:   M103\n:   M104\n:   M105\n:   M106\n:   M107\n:   M108\n:   M109\n:   M110\n:   M111\n:   M112\n:   M113\n:   M114\n:   M115\n:   M116\n:   M117\n:   M118\n:   M119\n:   M120\n:   M121\n:   M122\n:   M123\n:   M124\n:   M125\n:   M126\n:   M127\n:   M128\n:   M129\n:   M130\n:   M131\n:   M132\n:   M133\n:   M134\n:   M135\n:   M136\n:   M137\n:   M138\n:   M139\n:   M140\n:   M141\n:   M142\n:   M143\n:   M144\n:   M145\n:   M146\n:   M147\n:   M148\n:   M149\n:   M150\n:   M151\n:   M152\n:   M153\n:   M154\n:   M155\n:   M156\n:   M157\n:   M158\n:   M159\n:   M160\n:   M161\n:   M162\n:   M163\n:   M164\n:   M165\n:   M166\n:   M167\n:   M168\n:   M169\n:   M170\n:   M171\n:   M172\n:   M173\n:   M174\n:   M175\n:   M176\n:   M177\n:   M178\n:   M179\n:   M180\n:   M181\n:   M182\n:   M\n\n\n**Levels**: 1. 'L'\n2. 'M'\n3. 'S'\n\n\n",
            "text/latex": "\\begin{description*}\n\\item[1] L\n\\item[2] L\n\\item[3] L\n\\item[4] L\n\\item[5] L\n\\item[6] L\n\\item[7] L\n\\item[8] L\n\\item[9] L\n\\item[10] L\n\\item[11] L\n\\item[12] L\n\\item[13] L\n\\item[14] L\n\\item[15] L\n\\item[16] L\n\\item[17] L\n\\item[18] L\n\\item[19] L\n\\item[20] L\n\\item[21] L\n\\item[22] L\n\\item[23] L\n\\item[24] L\n\\item[25] L\n\\item[26] L\n\\item[27] L\n\\item[28] L\n\\item[29] L\n\\item[30] L\n\\item[31] L\n\\item[32] L\n\\item[33] L\n\\item[34] L\n\\item[35] M\n\\item[36] M\n\\item[37] L\n\\item[38] L\n\\item[39] L\n\\item[40] L\n\\item[41] L\n\\item[42] S\n\\item[43] L\n\\item[44] L\n\\item[45] L\n\\item[46] L\n\\item[47] L\n\\item[48] L\n\\item[49] L\n\\item[50] L\n\\item[51] L\n\\item[52] S\n\\item[53] L\n\\item[54] L\n\\item[55] L\n\\item[56] L\n\\item[57] L\n\\item[58] L\n\\item[59] L\n\\item[60] L\n\\item[61] L\n\\item[62] L\n\\item[63] L\n\\item[64] L\n\\item[65] L\n\\item[66] L\n\\item[67] L\n\\item[68] S\n\\item[69] L\n\\item[70] L\n\\item[71] L\n\\item[72] L\n\\item[73] L\n\\item[74] L\n\\item[75] L\n\\item[76] S\n\\item[77] L\n\\item[78] L\n\\item[79] L\n\\item[80] L\n\\item[81] L\n\\item[82] L\n\\item[83] L\n\\item[84] L\n\\item[85] M\n\\item[86] M\n\\item[87] M\n\\item[88] M\n\\item[89] M\n\\item[90] M\n\\item[91] M\n\\item[92] M\n\\item[93] M\n\\item[94] M\n\\item[95] M\n\\item[96] M\n\\item[97] M\n\\item[98] M\n\\item[99] M\n\\item[100] M\n\\item[101] M\n\\item[102] M\n\\item[103] M\n\\item[104] M\n\\item[105] M\n\\item[106] M\n\\item[107] M\n\\item[108] M\n\\item[109] M\n\\item[110] M\n\\item[111] M\n\\item[112] M\n\\item[113] M\n\\item[114] M\n\\item[115] M\n\\item[116] M\n\\item[117] M\n\\item[118] M\n\\item[119] M\n\\item[120] M\n\\item[121] M\n\\item[122] M\n\\item[123] M\n\\item[124] M\n\\item[125] M\n\\item[126] M\n\\item[127] M\n\\item[128] M\n\\item[129] M\n\\item[130] M\n\\item[131] M\n\\item[132] M\n\\item[133] M\n\\item[134] M\n\\item[135] M\n\\item[136] M\n\\item[137] M\n\\item[138] M\n\\item[139] M\n\\item[140] M\n\\item[141] M\n\\item[142] M\n\\item[143] M\n\\item[144] M\n\\item[145] M\n\\item[146] M\n\\item[147] M\n\\item[148] M\n\\item[149] M\n\\item[150] M\n\\item[151] M\n\\item[152] M\n\\item[153] M\n\\item[154] M\n\\item[155] M\n\\item[156] M\n\\item[157] M\n\\item[158] M\n\\item[159] M\n\\item[160] M\n\\item[161] M\n\\item[162] M\n\\item[163] M\n\\item[164] M\n\\item[165] M\n\\item[166] M\n\\item[167] M\n\\item[168] M\n\\item[169] M\n\\item[170] M\n\\item[171] M\n\\item[172] M\n\\item[173] M\n\\item[174] M\n\\item[175] M\n\\item[176] M\n\\item[177] M\n\\item[178] M\n\\item[179] M\n\\item[180] M\n\\item[181] M\n\\item[182] M\n\\end{description*}\n\n\\emph{Levels}: \\begin{enumerate*}\n\\item 'L'\n\\item 'M'\n\\item 'S'\n\\end{enumerate*}\n",
            "text/plain": [
              "  1   2   3   4   5   6   7   8   9  10  11  12  13  14  15  16  17  18  19  20 \n",
              "  L   L   L   L   L   L   L   L   L   L   L   L   L   L   L   L   L   L   L   L \n",
              " 21  22  23  24  25  26  27  28  29  30  31  32  33  34  35  36  37  38  39  40 \n",
              "  L   L   L   L   L   L   L   L   L   L   L   L   L   L   M   M   L   L   L   L \n",
              " 41  42  43  44  45  46  47  48  49  50  51  52  53  54  55  56  57  58  59  60 \n",
              "  L   S   L   L   L   L   L   L   L   L   L   S   L   L   L   L   L   L   L   L \n",
              " 61  62  63  64  65  66  67  68  69  70  71  72  73  74  75  76  77  78  79  80 \n",
              "  L   L   L   L   L   L   L   S   L   L   L   L   L   L   L   S   L   L   L   L \n",
              " 81  82  83  84  85  86  87  88  89  90  91  92  93  94  95  96  97  98  99 100 \n",
              "  L   L   L   L   M   M   M   M   M   M   M   M   M   M   M   M   M   M   M   M \n",
              "101 102 103 104 105 106 107 108 109 110 111 112 113 114 115 116 117 118 119 120 \n",
              "  M   M   M   M   M   M   M   M   M   M   M   M   M   M   M   M   M   M   M   M \n",
              "121 122 123 124 125 126 127 128 129 130 131 132 133 134 135 136 137 138 139 140 \n",
              "  M   M   M   M   M   M   M   M   M   M   M   M   M   M   M   M   M   M   M   M \n",
              "141 142 143 144 145 146 147 148 149 150 151 152 153 154 155 156 157 158 159 160 \n",
              "  M   M   M   M   M   M   M   M   M   M   M   M   M   M   M   M   M   M   M   M \n",
              "161 162 163 164 165 166 167 168 169 170 171 172 173 174 175 176 177 178 179 180 \n",
              "  M   M   M   M   M   M   M   M   M   M   M   M   M   M   M   M   M   M   M   M \n",
              "181 182 \n",
              "  M   M \n",
              "Levels: L M S"
            ]
          },
          "metadata": {}
        },
        {
          "output_type": "display_data",
          "data": {
            "text/plain": [
              "plot without title"
            ],
            "image/png": "[encoded data removed]"
          },
          "metadata": {
            "image/png": {
              "width": 420,
              "height": 420
            }
          }
        }
      ]
    },
    {
      "cell_type": "code",
      "source": [
        "#3. Interpret the results of the decision tree (3 points)\n",
        "#3.1. Write a paragraph interpreting the structure of the decision tree."
      ],
      "metadata": {
        "id": "ot-0CeABzanB"
      },
      "execution_count": null,
      "outputs": []
    },
    {
      "cell_type": "markdown",
      "source": [
        "Baseado nessas features inicias, pode-se observar que foram definidas três classes S,M,L, que representam os respectivos tamanhos das companhias (pequena, média e grande). A árvore de decisão é constituída por frequências para cada tamanho da companhia, e no primeiro nó de decisão da árvore, foi observado que o tamanho da companhia M tem a maior frequência (55%) em relação às demais. A categoria work_year_2022 foi a melhor avaliada, e quando está igual a 0, vimos que foram representados nós de ramificações para uma tomada de decisão que será realizada. Isso posto, quando a decisão for sim, temos que 48% do resultado da decisão é o tamanho da companhia L, pois tem a maior frequência, e se for não temos que 52% do resultado da decisão é o tamanho da companhia M. Diante dessa decisão, foi representado outro nó de decisão com a segunda melhor categoria representada na árvore, no qual o salary_in usd >= 19e+3 obteve o melhor desempenho. As alternativas de ramificações seguem o mesmo conceito que a primeira categoria, quando for sim, temos que 44% do resultado da decisão é o tamanho da companhia L, e se for não, temos que 5% do resultado da decisão é o tamanho da companhia S, ambos pelo mesmo motivo de exibirem as maiores frequências. Com isso, é criado outro nó de decisão com a terceira melhor categoria na árvore de decisão, que foi o remote_ratio<75. Nessa última análise da árvore, já que o exercício propôs no máximo 3 nós de decisão, temos que se a decisão for sim, 3% do resultado é o tamanho da companhia M, e ao contrário, e se for não, 2% do resultado é o tamanho da companhia S. Dessa maneira, a árvore de decisão foi representada a fim de aprimorar a performance dos métodos de classificação que foram expostos, além disso a companhia ser capaz de comparar possíveis ações com base em seus custos, probabilidades e benefícios.\n"
      ],
      "metadata": {
        "id": "i0d3g7Xuzbyy"
      }
    },
    {
      "cell_type": "code",
      "source": [
        "#4. Measure the performance of the decision tree to make accurate predictions.\n",
        "#4.1. By hold-out cross-validation performance (3 points)\n",
        "#4.1.1. Estimate the accuracy, interpret the results. (1.5 points)\n",
        "\n",
        "predict_unseen <- predict(tree_model, test, type = 'class')\n",
        "\n",
        "\n",
        "table_mat <- table(test$company_size, as.numeric(predict_unseen))\n",
        "table_mat\n",
        "accuracy_Test <- sum(diag(table_mat)) / sum(table_mat)\n",
        "print(paste('Accuracy for test data:', accuracy_Test))\n",
        "\n",
        "#A acurácia deu 0.67032967032967, mas isso não quer dizer que a acurária é realmente boa, pois os dados estão desbalanceados.\n",
        "\n",
        "#4.1.2. Estimate the Matthews correlation coefficient, interpret the results (1.5 points)\n",
        "\n",
        "test$company_size <- ifelse(test$company_size==\"S\", 0,\n",
        "                            ifelse(test$company_size==\"M\", 1,\n",
        "                                   2))\n",
        "\n",
        "predict_unseen <- ifelse(predict_unseen==\"S\", 0,\n",
        "                         ifelse(predict_unseen==\"M\", 1,\n",
        "                                2))\n",
        "\n",
        "print(paste('Phi coefficient for test data:', mccr(test$company_size,predict_unseen)))\n",
        "\n",
        "\n",
        "# Matthews correlation coefficient tem menos viés, logo está mais próximo da acurácia \"certa\" do modelo"
      ],
      "metadata": {
        "colab": {
          "base_uri": "https://localhost:8080/",
          "height": 139
        },
        "id": "-ZThLQeezXEx",
        "outputId": "7723bd7f-83ed-4e8f-bd06-a99b8a3ed8a1"
      },
      "execution_count": null,
      "outputs": [
        {
          "output_type": "display_data",
          "data": {
            "text/plain": [
              "   \n",
              "     1  2  3\n",
              "  L 44 21  1\n",
              "  M 15 76  1\n",
              "  S 19  3  2"
            ]
          },
          "metadata": {}
        },
        {
          "output_type": "stream",
          "name": "stdout",
          "text": [
            "[1] \"Accuracy for test data: 0.67032967032967\"\n",
            "[1] \"Phi coefficient for test data: 0.493266623946223\"\n"
          ]
        }
      ]
    }
  ]
}