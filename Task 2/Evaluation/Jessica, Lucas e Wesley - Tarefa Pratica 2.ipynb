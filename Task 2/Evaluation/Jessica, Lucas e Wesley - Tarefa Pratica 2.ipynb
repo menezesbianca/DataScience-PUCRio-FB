{
 "cells": [
  {
   "cell_type": "markdown",
   "id": "cOx0f2v61f1w",
   "metadata": {
    "id": "cOx0f2v61f1w"
   },
   "source": [
    "## Preliminaries"
   ]
  },
  {
   "cell_type": "markdown",
   "id": "Wta3NnnFz5_k",
   "metadata": {
    "id": "Wta3NnnFz5_k"
   },
   "source": [
    "### 1. Importing Packages"
   ]
  },
  {
   "cell_type": "code",
   "execution_count": 1,
   "id": "4fe3e3ca-2ba2-494c-8be2-de6cc1a8bc74",
   "metadata": {
    "colab": {
     "base_uri": "https://localhost:8080/"
    },
    "id": "4fe3e3ca-2ba2-494c-8be2-de6cc1a8bc74",
    "outputId": "70f09a5a-5a80-4124-eefb-947c6c480034"
   },
   "outputs": [
    {
     "name": "stdout",
     "output_type": "stream",
     "text": [
      "Requirement already satisfied: category_encoders in c:\\users\\user\\appdata\\local\\programs\\python\\python311\\lib\\site-packages (2.5.1.post0)\n",
      "Requirement already satisfied: numpy>=1.14.0 in c:\\users\\user\\appdata\\local\\programs\\python\\python311\\lib\\site-packages (from category_encoders) (1.23.4)\n",
      "Requirement already satisfied: scikit-learn>=0.20.0 in c:\\users\\user\\appdata\\local\\programs\\python\\python311\\lib\\site-packages (from category_encoders) (1.1.3)\n",
      "Requirement already satisfied: scipy>=1.0.0 in c:\\users\\user\\appdata\\local\\programs\\python\\python311\\lib\\site-packages (from category_encoders) (1.9.3)\n",
      "Requirement already satisfied: statsmodels>=0.9.0 in c:\\users\\user\\appdata\\local\\programs\\python\\python311\\lib\\site-packages (from category_encoders) (0.13.5)\n",
      "Requirement already satisfied: pandas>=1.0.5 in c:\\users\\user\\appdata\\local\\programs\\python\\python311\\lib\\site-packages (from category_encoders) (1.5.1)\n",
      "Requirement already satisfied: patsy>=0.5.1 in c:\\users\\user\\appdata\\local\\programs\\python\\python311\\lib\\site-packages (from category_encoders) (0.5.3)\n",
      "Requirement already satisfied: python-dateutil>=2.8.1 in c:\\users\\user\\appdata\\local\\programs\\python\\python311\\lib\\site-packages (from pandas>=1.0.5->category_encoders) (2.8.2)\n",
      "Requirement already satisfied: pytz>=2020.1 in c:\\users\\user\\appdata\\local\\programs\\python\\python311\\lib\\site-packages (from pandas>=1.0.5->category_encoders) (2022.6)\n",
      "Requirement already satisfied: six in c:\\users\\user\\appdata\\local\\programs\\python\\python311\\lib\\site-packages (from patsy>=0.5.1->category_encoders) (1.16.0)\n",
      "Requirement already satisfied: joblib>=1.0.0 in c:\\users\\user\\appdata\\local\\programs\\python\\python311\\lib\\site-packages (from scikit-learn>=0.20.0->category_encoders) (1.2.0)\n",
      "Requirement already satisfied: threadpoolctl>=2.0.0 in c:\\users\\user\\appdata\\local\\programs\\python\\python311\\lib\\site-packages (from scikit-learn>=0.20.0->category_encoders) (3.1.0)\n",
      "Requirement already satisfied: packaging>=21.3 in c:\\users\\user\\appdata\\local\\programs\\python\\python311\\lib\\site-packages (from statsmodels>=0.9.0->category_encoders) (21.3)\n",
      "Requirement already satisfied: pyparsing!=3.0.5,>=2.0.2 in c:\\users\\user\\appdata\\local\\programs\\python\\python311\\lib\\site-packages (from packaging>=21.3->statsmodels>=0.9.0->category_encoders) (3.0.9)\n"
     ]
    }
   ],
   "source": [
    "import pandas as pd\n",
    "import numpy as np\n",
    "import matplotlib.pyplot as plt\n",
    "import seaborn as sns\n",
    "from sklearn.model_selection import train_test_split\n",
    "from sklearn.tree import DecisionTreeClassifier\n",
    "!pip install category_encoders\n",
    "import category_encoders as ce\n",
    "from sklearn import tree\n",
    "from sklearn.metrics import accuracy_score\n",
    "from sklearn.metrics import confusion_matrix\n",
    "from sklearn.metrics import ConfusionMatrixDisplay\n",
    "from sklearn.metrics import matthews_corrcoef\n",
    "import graphviz\n",
    "%matplotlib inline"
   ]
  },
  {
   "cell_type": "markdown",
   "id": "b9005b83",
   "metadata": {
    "id": "b9005b83"
   },
   "source": [
    "### 2. Gathering Data"
   ]
  },
  {
   "cell_type": "code",
   "execution_count": 2,
   "id": "ae85abd5-5424-4d84-952a-5ff1de514410",
   "metadata": {
    "id": "ae85abd5-5424-4d84-952a-5ff1de514410"
   },
   "outputs": [],
   "source": [
    "data_url = \"https://raw.githubusercontent.com/renatoquiliche/DataScience-PUCRio-FB/main/Data/DS_salarios/ds_salaries.csv\"\n",
    "data = pd.read_csv(data_url, index_col = 0)"
   ]
  },
  {
   "cell_type": "markdown",
   "id": "78C4eYGb2qBG",
   "metadata": {
    "id": "78C4eYGb2qBG"
   },
   "source": [
    "* No need to convert to parquet dataset. The dataset is small."
   ]
  },
  {
   "cell_type": "markdown",
   "id": "rWA2nC-FzrRN",
   "metadata": {
    "id": "rWA2nC-FzrRN"
   },
   "source": [
    "### 3. Assessing Data"
   ]
  },
  {
   "cell_type": "code",
   "execution_count": 3,
   "id": "AaTg24bz0LwA",
   "metadata": {
    "colab": {
     "base_uri": "https://localhost:8080/",
     "height": 0
    },
    "id": "AaTg24bz0LwA",
    "outputId": "754422c4-21e5-4be4-c97a-fab220c0eede"
   },
   "outputs": [
    {
     "data": {
      "text/html": [
       "<div>\n",
       "<style scoped>\n",
       "    .dataframe tbody tr th:only-of-type {\n",
       "        vertical-align: middle;\n",
       "    }\n",
       "\n",
       "    .dataframe tbody tr th {\n",
       "        vertical-align: top;\n",
       "    }\n",
       "\n",
       "    .dataframe thead th {\n",
       "        text-align: right;\n",
       "    }\n",
       "</style>\n",
       "<table border=\"1\" class=\"dataframe\">\n",
       "  <thead>\n",
       "    <tr style=\"text-align: right;\">\n",
       "      <th></th>\n",
       "      <th>work_year</th>\n",
       "      <th>work_month</th>\n",
       "      <th>experience_level</th>\n",
       "      <th>employment_type</th>\n",
       "      <th>job_title</th>\n",
       "      <th>salary</th>\n",
       "      <th>salary_currency</th>\n",
       "      <th>salary_in_usd</th>\n",
       "      <th>employee_residence</th>\n",
       "      <th>remote_ratio</th>\n",
       "      <th>company_location</th>\n",
       "      <th>company_size</th>\n",
       "    </tr>\n",
       "  </thead>\n",
       "  <tbody>\n",
       "    <tr>\n",
       "      <th>0</th>\n",
       "      <td>2020</td>\n",
       "      <td>6</td>\n",
       "      <td>MI</td>\n",
       "      <td>FT</td>\n",
       "      <td>Data Scientist</td>\n",
       "      <td>70000</td>\n",
       "      <td>EUR</td>\n",
       "      <td>79833</td>\n",
       "      <td>DE</td>\n",
       "      <td>0</td>\n",
       "      <td>DE</td>\n",
       "      <td>L</td>\n",
       "    </tr>\n",
       "    <tr>\n",
       "      <th>1</th>\n",
       "      <td>2020</td>\n",
       "      <td>11</td>\n",
       "      <td>SE</td>\n",
       "      <td>FT</td>\n",
       "      <td>Machine Learning Scientist</td>\n",
       "      <td>260000</td>\n",
       "      <td>USD</td>\n",
       "      <td>260000</td>\n",
       "      <td>JP</td>\n",
       "      <td>0</td>\n",
       "      <td>JP</td>\n",
       "      <td>S</td>\n",
       "    </tr>\n",
       "    <tr>\n",
       "      <th>2</th>\n",
       "      <td>2020</td>\n",
       "      <td>12</td>\n",
       "      <td>SE</td>\n",
       "      <td>FT</td>\n",
       "      <td>Big Data Engineer</td>\n",
       "      <td>85000</td>\n",
       "      <td>GBP</td>\n",
       "      <td>109024</td>\n",
       "      <td>GB</td>\n",
       "      <td>50</td>\n",
       "      <td>GB</td>\n",
       "      <td>M</td>\n",
       "    </tr>\n",
       "    <tr>\n",
       "      <th>3</th>\n",
       "      <td>2020</td>\n",
       "      <td>6</td>\n",
       "      <td>MI</td>\n",
       "      <td>FT</td>\n",
       "      <td>Product Data Analyst</td>\n",
       "      <td>20000</td>\n",
       "      <td>USD</td>\n",
       "      <td>20000</td>\n",
       "      <td>HN</td>\n",
       "      <td>0</td>\n",
       "      <td>HN</td>\n",
       "      <td>S</td>\n",
       "    </tr>\n",
       "    <tr>\n",
       "      <th>4</th>\n",
       "      <td>2020</td>\n",
       "      <td>10</td>\n",
       "      <td>SE</td>\n",
       "      <td>FT</td>\n",
       "      <td>Machine Learning Engineer</td>\n",
       "      <td>150000</td>\n",
       "      <td>USD</td>\n",
       "      <td>150000</td>\n",
       "      <td>US</td>\n",
       "      <td>50</td>\n",
       "      <td>US</td>\n",
       "      <td>L</td>\n",
       "    </tr>\n",
       "  </tbody>\n",
       "</table>\n",
       "</div>"
      ],
      "text/plain": [
       "   work_year  work_month experience_level employment_type  \\\n",
       "0       2020           6               MI              FT   \n",
       "1       2020          11               SE              FT   \n",
       "2       2020          12               SE              FT   \n",
       "3       2020           6               MI              FT   \n",
       "4       2020          10               SE              FT   \n",
       "\n",
       "                    job_title  salary salary_currency  salary_in_usd  \\\n",
       "0              Data Scientist   70000             EUR          79833   \n",
       "1  Machine Learning Scientist  260000             USD         260000   \n",
       "2           Big Data Engineer   85000             GBP         109024   \n",
       "3        Product Data Analyst   20000             USD          20000   \n",
       "4   Machine Learning Engineer  150000             USD         150000   \n",
       "\n",
       "  employee_residence  remote_ratio company_location company_size  \n",
       "0                 DE             0               DE            L  \n",
       "1                 JP             0               JP            S  \n",
       "2                 GB            50               GB            M  \n",
       "3                 HN             0               HN            S  \n",
       "4                 US            50               US            L  "
      ]
     },
     "execution_count": 3,
     "metadata": {},
     "output_type": "execute_result"
    }
   ],
   "source": [
    "data.head()"
   ]
  },
  {
   "cell_type": "code",
   "execution_count": 4,
   "id": "V8Ytl3Ql0SA1",
   "metadata": {
    "colab": {
     "base_uri": "https://localhost:8080/"
    },
    "id": "V8Ytl3Ql0SA1",
    "outputId": "047b172e-5799-44be-b47d-cd335922fe13"
   },
   "outputs": [
    {
     "name": "stdout",
     "output_type": "stream",
     "text": [
      "The number of rows are 607 and columns are 12\n"
     ]
    }
   ],
   "source": [
    "print(\"The number of rows are {} and columns are {}\".format(data.shape[0], data.shape[1]))"
   ]
  },
  {
   "cell_type": "code",
   "execution_count": 5,
   "id": "1FJLOanp0p5l",
   "metadata": {
    "colab": {
     "base_uri": "https://localhost:8080/"
    },
    "id": "1FJLOanp0p5l",
    "outputId": "138a655f-4e4f-4356-8b69-cbd3f9916f01"
   },
   "outputs": [
    {
     "data": {
      "text/plain": [
       "Index(['work_year', 'work_month', 'experience_level', 'employment_type',\n",
       "       'job_title', 'salary', 'salary_currency', 'salary_in_usd',\n",
       "       'employee_residence', 'remote_ratio', 'company_location',\n",
       "       'company_size'],\n",
       "      dtype='object')"
      ]
     },
     "execution_count": 5,
     "metadata": {},
     "output_type": "execute_result"
    }
   ],
   "source": [
    "# List columns\n",
    "data.columns"
   ]
  },
  {
   "cell_type": "code",
   "execution_count": 6,
   "id": "ddzk_SLV0zmz",
   "metadata": {
    "colab": {
     "base_uri": "https://localhost:8080/"
    },
    "id": "ddzk_SLV0zmz",
    "outputId": "61b92417-5bda-4ec3-de96-847c932a52b0"
   },
   "outputs": [
    {
     "name": "stdout",
     "output_type": "stream",
     "text": [
      "<class 'pandas.core.frame.DataFrame'>\n",
      "Int64Index: 607 entries, 0 to 606\n",
      "Data columns (total 12 columns):\n",
      " #   Column              Non-Null Count  Dtype \n",
      "---  ------              --------------  ----- \n",
      " 0   work_year           607 non-null    int64 \n",
      " 1   work_month          607 non-null    int64 \n",
      " 2   experience_level    607 non-null    object\n",
      " 3   employment_type     607 non-null    object\n",
      " 4   job_title           607 non-null    object\n",
      " 5   salary              607 non-null    int64 \n",
      " 6   salary_currency     607 non-null    object\n",
      " 7   salary_in_usd       607 non-null    int64 \n",
      " 8   employee_residence  607 non-null    object\n",
      " 9   remote_ratio        607 non-null    int64 \n",
      " 10  company_location    607 non-null    object\n",
      " 11  company_size        607 non-null    object\n",
      "dtypes: int64(5), object(7)\n",
      "memory usage: 61.6+ KB\n"
     ]
    }
   ],
   "source": [
    "# Look for missing data\n",
    "data.info()"
   ]
  },
  {
   "cell_type": "markdown",
   "id": "S1c2zQf81DBC",
   "metadata": {
    "id": "S1c2zQf81DBC"
   },
   "source": [
    "* There are no missing values."
   ]
  },
  {
   "cell_type": "code",
   "execution_count": 7,
   "id": "Tgcj9CF47Nmn",
   "metadata": {
    "colab": {
     "base_uri": "https://localhost:8080/",
     "height": 0
    },
    "id": "Tgcj9CF47Nmn",
    "outputId": "ff7cd647-d97b-43e3-9d52-1313bbe29534"
   },
   "outputs": [
    {
     "data": {
      "text/plain": [
       "array([[<AxesSubplot: title={'center': 'salary_in_usd'}>]], dtype=object)"
      ]
     },
     "execution_count": 7,
     "metadata": {},
     "output_type": "execute_result"
    },
    {
     "data": {
      "image/png": "[encoded data removed]",
      "text/plain": [
       "<Figure size 1000x800 with 1 Axes>"
      ]
     },
     "metadata": {},
     "output_type": "display_data"
    }
   ],
   "source": [
    "data.hist(column=[\"salary_in_usd\"],figsize = (10,8))"
   ]
  },
  {
   "cell_type": "markdown",
   "id": "de9San3n1rQS",
   "metadata": {
    "id": "de9San3n1rQS"
   },
   "source": [
    "## Pre-processing"
   ]
  },
  {
   "cell_type": "markdown",
   "id": "3332d93b",
   "metadata": {
    "id": "3332d93b"
   },
   "source": [
    "### 1. Resampling Data, estimating variable mean and value frequency via Bootsrapping"
   ]
  },
  {
   "cell_type": "markdown",
   "id": "5f621eee",
   "metadata": {
    "id": "5f621eee"
   },
   "source": [
    "##### 1.1 Bootstrapping function"
   ]
  },
  {
   "cell_type": "code",
   "execution_count": 8,
   "id": "c2d760cc-dd57-4b55-977c-93039c219b0d",
   "metadata": {
    "id": "c2d760cc-dd57-4b55-977c-93039c219b0d"
   },
   "outputs": [],
   "source": [
    "def mean_bootstrap(series, B = 10000):\n",
    "    return pd.Series([series.sample(n = len(series), replace = True).mean() for i in range(B)])\n",
    "\n",
    "def frequency_bootstrap(series, value, B = 10000):\n",
    "    \n",
    "    T = pd.Series(data = 0, index = range(B))\n",
    "\n",
    "    for i in range(B):\n",
    "        \n",
    "        sample = series.sample(n = len(series), replace = True)\n",
    "        T_i = len(sample[sample == value])/len(series)\n",
    "        T.loc[i] = T_i\n",
    "\n",
    "    return T"
   ]
  },
  {
   "cell_type": "markdown",
   "id": "50d7ab74",
   "metadata": {
    "id": "50d7ab74"
   },
   "source": [
    "##### 1.2 Mean Estimation"
   ]
  },
  {
   "cell_type": "code",
   "execution_count": 9,
   "id": "aa7e75c5",
   "metadata": {
    "colab": {
     "base_uri": "https://localhost:8080/",
     "height": 499
    },
    "id": "aa7e75c5",
    "outputId": "0dafd034-805a-41dd-e319-cb4d6d9c7c1c"
   },
   "outputs": [
    {
     "data": {
      "image/png": "[encoded data removed]",
      "text/plain": [
       "<Figure size 1000x800 with 1 Axes>"
      ]
     },
     "metadata": {},
     "output_type": "display_data"
    }
   ],
   "source": [
    "frequency = mean_bootstrap(data.salary,100000)\n",
    "\n",
    "fig,ax = plt.subplots(figsize = (10,8))\n",
    "\n",
    "\n",
    "ax.set_title('resample mean histogram')\n",
    "ax.axvline(data.salary.mean(), color = 'red', label = 'data original sample mean - µ = %.2f'%data.salary.mean())\n",
    "ax.axvline(frequency.mean(), label = 'mean of resample means - θ_hat = %.2f'%frequency.mean(), color = 'orange',linestyle = 'dashed')\n",
    "ax.axvline(frequency.quantile(q=0.025),label = 'UB IC 95 percent for θ = %.2f'%frequency.quantile(q=0.025), color = 'red', linestyle = 'dashed')\n",
    "ax.axvline(frequency.quantile(q=0.975), label = 'LB IC 95 percent for θ = %.2f'%frequency.quantile(q=0.975), color = 'red', linestyle = 'dashed')\n",
    "ax.hist(frequency, bins = 75, edgecolor = 'white', alpha = 0.8)\n",
    "ax.legend()\n",
    "\n",
    "plt.show()"
   ]
  },
  {
   "cell_type": "markdown",
   "id": "87051df0-65a9-4f22-ad28-2a13849f6873",
   "metadata": {
    "id": "87051df0-65a9-4f22-ad28-2a13849f6873"
   },
   "source": [
    "##### 1.3 Frequency Estimation"
   ]
  },
  {
   "cell_type": "code",
   "execution_count": 10,
   "id": "96c7c12d",
   "metadata": {
    "colab": {
     "base_uri": "https://localhost:8080/",
     "height": 499
    },
    "id": "96c7c12d",
    "outputId": "c8d072c9-7c97-448f-aef2-e69bba00c6d6"
   },
   "outputs": [
    {
     "data": {
      "image/png": "[encoded data removed]",
      "text/plain": [
       "<Figure size 1000x800 with 1 Axes>"
      ]
     },
     "metadata": {},
     "output_type": "display_data"
    }
   ],
   "source": [
    "value = 'USD'\n",
    "frequency = frequency_bootstrap(data.salary_currency, value, 500000)\n",
    "frq_original_sample = len(data[data.salary_currency == value]) / len(data)\n",
    "\n",
    "fig,ax = plt.subplots(figsize = (10,8))\n",
    "\n",
    "ax.set_title('resample %s frequency histogram'%value)\n",
    "ax.hist(frequency, bins = 50, edgecolor = 'white', alpha = 0.8)\n",
    "ax.axvline(frq_original_sample, color = 'red', label = '%s frequency on original sample = %.4f'%(value, frq_original_sample))\n",
    "ax.axvline(frequency.mean(), label = 'mean of resample frequency - θ_hat = %.4f'%frequency.mean(), color = 'orange',linestyle = 'dashed')\n",
    "ax.axvline(frequency.quantile(q=0.025),label = 'UB IC 95 percent for θ = %.4f'%frequency.quantile(q=0.025), color = 'red', linestyle = 'dashed')\n",
    "ax.axvline(frequency.quantile(q=0.975), label = 'LB IC 95 percent for θ = %.4f'%frequency.quantile(q=0.975), color = 'red', linestyle = 'dashed')\n",
    "ax.legend()\n",
    "\n",
    "plt.show()"
   ]
  },
  {
   "cell_type": "markdown",
   "id": "b6bb1ede",
   "metadata": {
    "id": "b6bb1ede"
   },
   "source": [
    "### 2. Quantile Discretization"
   ]
  },
  {
   "cell_type": "code",
   "execution_count": 11,
   "id": "63638f77",
   "metadata": {
    "colab": {
     "base_uri": "https://localhost:8080/",
     "height": 0
    },
    "id": "63638f77",
    "outputId": "fb07111d-0d76-4f79-e963-e5e1984c9541"
   },
   "outputs": [
    {
     "data": {
      "text/html": [
       "<div>\n",
       "<style scoped>\n",
       "    .dataframe tbody tr th:only-of-type {\n",
       "        vertical-align: middle;\n",
       "    }\n",
       "\n",
       "    .dataframe tbody tr th {\n",
       "        vertical-align: top;\n",
       "    }\n",
       "\n",
       "    .dataframe thead th {\n",
       "        text-align: right;\n",
       "    }\n",
       "</style>\n",
       "<table border=\"1\" class=\"dataframe\">\n",
       "  <thead>\n",
       "    <tr style=\"text-align: right;\">\n",
       "      <th></th>\n",
       "      <th>salary</th>\n",
       "      <th>salary_discretized</th>\n",
       "    </tr>\n",
       "  </thead>\n",
       "  <tbody>\n",
       "    <tr>\n",
       "      <th>0</th>\n",
       "      <td>70000</td>\n",
       "      <td>(60000.0, 80000.0]</td>\n",
       "    </tr>\n",
       "    <tr>\n",
       "      <th>1</th>\n",
       "      <td>260000</td>\n",
       "      <td>(237000.0, 30400000.0]</td>\n",
       "    </tr>\n",
       "    <tr>\n",
       "      <th>2</th>\n",
       "      <td>85000</td>\n",
       "      <td>(80000.0, 99020.0]</td>\n",
       "    </tr>\n",
       "    <tr>\n",
       "      <th>3</th>\n",
       "      <td>20000</td>\n",
       "      <td>(3999.999, 42720.0]</td>\n",
       "    </tr>\n",
       "    <tr>\n",
       "      <th>4</th>\n",
       "      <td>150000</td>\n",
       "      <td>(133928.0, 152600.0]</td>\n",
       "    </tr>\n",
       "    <tr>\n",
       "      <th>...</th>\n",
       "      <td>...</td>\n",
       "      <td>...</td>\n",
       "    </tr>\n",
       "    <tr>\n",
       "      <th>602</th>\n",
       "      <td>154000</td>\n",
       "      <td>(152600.0, 180000.0]</td>\n",
       "    </tr>\n",
       "    <tr>\n",
       "      <th>603</th>\n",
       "      <td>126000</td>\n",
       "      <td>(115000.0, 133928.0]</td>\n",
       "    </tr>\n",
       "    <tr>\n",
       "      <th>604</th>\n",
       "      <td>129000</td>\n",
       "      <td>(115000.0, 133928.0]</td>\n",
       "    </tr>\n",
       "    <tr>\n",
       "      <th>605</th>\n",
       "      <td>150000</td>\n",
       "      <td>(133928.0, 152600.0]</td>\n",
       "    </tr>\n",
       "    <tr>\n",
       "      <th>606</th>\n",
       "      <td>200000</td>\n",
       "      <td>(180000.0, 237000.0]</td>\n",
       "    </tr>\n",
       "  </tbody>\n",
       "</table>\n",
       "<p>607 rows × 2 columns</p>\n",
       "</div>"
      ],
      "text/plain": [
       "     salary      salary_discretized\n",
       "0     70000      (60000.0, 80000.0]\n",
       "1    260000  (237000.0, 30400000.0]\n",
       "2     85000      (80000.0, 99020.0]\n",
       "3     20000     (3999.999, 42720.0]\n",
       "4    150000    (133928.0, 152600.0]\n",
       "..      ...                     ...\n",
       "602  154000    (152600.0, 180000.0]\n",
       "603  126000    (115000.0, 133928.0]\n",
       "604  129000    (115000.0, 133928.0]\n",
       "605  150000    (133928.0, 152600.0]\n",
       "606  200000    (180000.0, 237000.0]\n",
       "\n",
       "[607 rows x 2 columns]"
      ]
     },
     "execution_count": 11,
     "metadata": {},
     "output_type": "execute_result"
    }
   ],
   "source": [
    "data['salary_discretized'] = pd.qcut(data.salary,10)\n",
    "data[['salary','salary_discretized']]"
   ]
  },
  {
   "cell_type": "markdown",
   "id": "3204e6f6",
   "metadata": {
    "id": "3204e6f6"
   },
   "source": [
    "### 3. Feature Engineering"
   ]
  },
  {
   "cell_type": "code",
   "execution_count": 12,
   "id": "3fb2d261",
   "metadata": {
    "colab": {
     "base_uri": "https://localhost:8080/",
     "height": 0
    },
    "id": "3fb2d261",
    "outputId": "25591bfb-77ec-4b22-db38-82ed436f8f31"
   },
   "outputs": [
    {
     "data": {
      "text/html": [
       "<div>\n",
       "<style scoped>\n",
       "    .dataframe tbody tr th:only-of-type {\n",
       "        vertical-align: middle;\n",
       "    }\n",
       "\n",
       "    .dataframe tbody tr th {\n",
       "        vertical-align: top;\n",
       "    }\n",
       "\n",
       "    .dataframe thead th {\n",
       "        text-align: right;\n",
       "    }\n",
       "</style>\n",
       "<table border=\"1\" class=\"dataframe\">\n",
       "  <thead>\n",
       "    <tr style=\"text-align: right;\">\n",
       "      <th></th>\n",
       "      <th>work_year</th>\n",
       "      <th>work_month</th>\n",
       "      <th>remote_ratio</th>\n",
       "      <th>working_days_count</th>\n",
       "      <th>remote_work_days_count</th>\n",
       "    </tr>\n",
       "  </thead>\n",
       "  <tbody>\n",
       "    <tr>\n",
       "      <th>0</th>\n",
       "      <td>2020</td>\n",
       "      <td>6</td>\n",
       "      <td>0</td>\n",
       "      <td>943 days</td>\n",
       "      <td>0 days 00:00:00</td>\n",
       "    </tr>\n",
       "    <tr>\n",
       "      <th>1</th>\n",
       "      <td>2020</td>\n",
       "      <td>11</td>\n",
       "      <td>0</td>\n",
       "      <td>790 days</td>\n",
       "      <td>0 days 00:00:00</td>\n",
       "    </tr>\n",
       "    <tr>\n",
       "      <th>2</th>\n",
       "      <td>2020</td>\n",
       "      <td>12</td>\n",
       "      <td>50</td>\n",
       "      <td>760 days</td>\n",
       "      <td>84 days 10:40:00</td>\n",
       "    </tr>\n",
       "    <tr>\n",
       "      <th>3</th>\n",
       "      <td>2020</td>\n",
       "      <td>6</td>\n",
       "      <td>0</td>\n",
       "      <td>943 days</td>\n",
       "      <td>0 days 00:00:00</td>\n",
       "    </tr>\n",
       "    <tr>\n",
       "      <th>4</th>\n",
       "      <td>2020</td>\n",
       "      <td>10</td>\n",
       "      <td>50</td>\n",
       "      <td>821 days</td>\n",
       "      <td>91 days 05:20:00</td>\n",
       "    </tr>\n",
       "    <tr>\n",
       "      <th>...</th>\n",
       "      <td>...</td>\n",
       "      <td>...</td>\n",
       "      <td>...</td>\n",
       "      <td>...</td>\n",
       "      <td>...</td>\n",
       "    </tr>\n",
       "    <tr>\n",
       "      <th>602</th>\n",
       "      <td>2022</td>\n",
       "      <td>5</td>\n",
       "      <td>100</td>\n",
       "      <td>244 days</td>\n",
       "      <td>54 days 05:20:00</td>\n",
       "    </tr>\n",
       "    <tr>\n",
       "      <th>603</th>\n",
       "      <td>2022</td>\n",
       "      <td>6</td>\n",
       "      <td>100</td>\n",
       "      <td>213 days</td>\n",
       "      <td>47 days 08:00:00</td>\n",
       "    </tr>\n",
       "    <tr>\n",
       "      <th>604</th>\n",
       "      <td>2022</td>\n",
       "      <td>11</td>\n",
       "      <td>0</td>\n",
       "      <td>60 days</td>\n",
       "      <td>0 days 00:00:00</td>\n",
       "    </tr>\n",
       "    <tr>\n",
       "      <th>605</th>\n",
       "      <td>2022</td>\n",
       "      <td>2</td>\n",
       "      <td>100</td>\n",
       "      <td>333 days</td>\n",
       "      <td>74 days 00:00:00</td>\n",
       "    </tr>\n",
       "    <tr>\n",
       "      <th>606</th>\n",
       "      <td>2022</td>\n",
       "      <td>3</td>\n",
       "      <td>100</td>\n",
       "      <td>305 days</td>\n",
       "      <td>67 days 18:40:00</td>\n",
       "    </tr>\n",
       "  </tbody>\n",
       "</table>\n",
       "<p>607 rows × 5 columns</p>\n",
       "</div>"
      ],
      "text/plain": [
       "     work_year  work_month  remote_ratio working_days_count  \\\n",
       "0         2020           6             0           943 days   \n",
       "1         2020          11             0           790 days   \n",
       "2         2020          12            50           760 days   \n",
       "3         2020           6             0           943 days   \n",
       "4         2020          10            50           821 days   \n",
       "..         ...         ...           ...                ...   \n",
       "602       2022           5           100           244 days   \n",
       "603       2022           6           100           213 days   \n",
       "604       2022          11             0            60 days   \n",
       "605       2022           2           100           333 days   \n",
       "606       2022           3           100           305 days   \n",
       "\n",
       "    remote_work_days_count  \n",
       "0          0 days 00:00:00  \n",
       "1          0 days 00:00:00  \n",
       "2         84 days 10:40:00  \n",
       "3          0 days 00:00:00  \n",
       "4         91 days 05:20:00  \n",
       "..                     ...  \n",
       "602       54 days 05:20:00  \n",
       "603       47 days 08:00:00  \n",
       "604        0 days 00:00:00  \n",
       "605       74 days 00:00:00  \n",
       "606       67 days 18:40:00  \n",
       "\n",
       "[607 rows x 5 columns]"
      ]
     },
     "execution_count": 12,
     "metadata": {},
     "output_type": "execute_result"
    }
   ],
   "source": [
    "data['working_days_count'] = pd.to_datetime(\"2022-12-31\") - pd.to_datetime(data.work_year.map(str) + '-' + data.work_month.map(str)) #suppose today is 2022/12/31\n",
    "data['remote_work_days_count'] = data.remote_ratio/100 * data['working_days_count'] * 8/24 * 20/30 #suppose 8 hours of work a day, 20 days of work each month\n",
    "data[['work_year', 'work_month', 'remote_ratio', 'working_days_count', 'remote_work_days_count']]"
   ]
  },
  {
   "cell_type": "markdown",
   "id": "vHZPhgEf3utI",
   "metadata": {
    "id": "vHZPhgEf3utI"
   },
   "source": [
    "### 4. Get Dummies"
   ]
  },
  {
   "cell_type": "markdown",
   "id": "jJc1L_Op4a2v",
   "metadata": {
    "id": "jJc1L_Op4a2v"
   },
   "source": [
    "#### 4.1. Transform the categorical features into binary variables (dummy variables)"
   ]
  },
  {
   "cell_type": "code",
   "execution_count": 13,
   "id": "5RDVJn556OjZ",
   "metadata": {
    "colab": {
     "base_uri": "https://localhost:8080/",
     "height": 236
    },
    "id": "5RDVJn556OjZ",
    "outputId": "db65072f-192a-4339-fc23-a204ee1cb041"
   },
   "outputs": [
    {
     "data": {
      "text/html": [
       "<div>\n",
       "<style scoped>\n",
       "    .dataframe tbody tr th:only-of-type {\n",
       "        vertical-align: middle;\n",
       "    }\n",
       "\n",
       "    .dataframe tbody tr th {\n",
       "        vertical-align: top;\n",
       "    }\n",
       "\n",
       "    .dataframe thead th {\n",
       "        text-align: right;\n",
       "    }\n",
       "</style>\n",
       "<table border=\"1\" class=\"dataframe\">\n",
       "  <thead>\n",
       "    <tr style=\"text-align: right;\">\n",
       "      <th></th>\n",
       "      <th>work_year</th>\n",
       "      <th>work_month</th>\n",
       "      <th>experience_level</th>\n",
       "      <th>employment_type</th>\n",
       "      <th>job_title</th>\n",
       "      <th>salary</th>\n",
       "      <th>salary_currency</th>\n",
       "      <th>salary_in_usd</th>\n",
       "      <th>employee_residence</th>\n",
       "      <th>remote_ratio</th>\n",
       "      <th>...</th>\n",
       "      <th>JPY</th>\n",
       "      <th>MXN</th>\n",
       "      <th>PLN</th>\n",
       "      <th>SGD</th>\n",
       "      <th>TRY</th>\n",
       "      <th>USD</th>\n",
       "      <th>EN</th>\n",
       "      <th>EX</th>\n",
       "      <th>MI</th>\n",
       "      <th>SE</th>\n",
       "    </tr>\n",
       "  </thead>\n",
       "  <tbody>\n",
       "    <tr>\n",
       "      <th>0</th>\n",
       "      <td>2020</td>\n",
       "      <td>6</td>\n",
       "      <td>MI</td>\n",
       "      <td>FT</td>\n",
       "      <td>Data Scientist</td>\n",
       "      <td>70000</td>\n",
       "      <td>EUR</td>\n",
       "      <td>79833</td>\n",
       "      <td>DE</td>\n",
       "      <td>0</td>\n",
       "      <td>...</td>\n",
       "      <td>0</td>\n",
       "      <td>0</td>\n",
       "      <td>0</td>\n",
       "      <td>0</td>\n",
       "      <td>0</td>\n",
       "      <td>0</td>\n",
       "      <td>0</td>\n",
       "      <td>0</td>\n",
       "      <td>1</td>\n",
       "      <td>0</td>\n",
       "    </tr>\n",
       "    <tr>\n",
       "      <th>1</th>\n",
       "      <td>2020</td>\n",
       "      <td>11</td>\n",
       "      <td>SE</td>\n",
       "      <td>FT</td>\n",
       "      <td>Machine Learning Scientist</td>\n",
       "      <td>260000</td>\n",
       "      <td>USD</td>\n",
       "      <td>260000</td>\n",
       "      <td>JP</td>\n",
       "      <td>0</td>\n",
       "      <td>...</td>\n",
       "      <td>0</td>\n",
       "      <td>0</td>\n",
       "      <td>0</td>\n",
       "      <td>0</td>\n",
       "      <td>0</td>\n",
       "      <td>1</td>\n",
       "      <td>0</td>\n",
       "      <td>0</td>\n",
       "      <td>0</td>\n",
       "      <td>1</td>\n",
       "    </tr>\n",
       "    <tr>\n",
       "      <th>2</th>\n",
       "      <td>2020</td>\n",
       "      <td>12</td>\n",
       "      <td>SE</td>\n",
       "      <td>FT</td>\n",
       "      <td>Big Data Engineer</td>\n",
       "      <td>85000</td>\n",
       "      <td>GBP</td>\n",
       "      <td>109024</td>\n",
       "      <td>GB</td>\n",
       "      <td>50</td>\n",
       "      <td>...</td>\n",
       "      <td>0</td>\n",
       "      <td>0</td>\n",
       "      <td>0</td>\n",
       "      <td>0</td>\n",
       "      <td>0</td>\n",
       "      <td>0</td>\n",
       "      <td>0</td>\n",
       "      <td>0</td>\n",
       "      <td>0</td>\n",
       "      <td>1</td>\n",
       "    </tr>\n",
       "    <tr>\n",
       "      <th>3</th>\n",
       "      <td>2020</td>\n",
       "      <td>6</td>\n",
       "      <td>MI</td>\n",
       "      <td>FT</td>\n",
       "      <td>Product Data Analyst</td>\n",
       "      <td>20000</td>\n",
       "      <td>USD</td>\n",
       "      <td>20000</td>\n",
       "      <td>HN</td>\n",
       "      <td>0</td>\n",
       "      <td>...</td>\n",
       "      <td>0</td>\n",
       "      <td>0</td>\n",
       "      <td>0</td>\n",
       "      <td>0</td>\n",
       "      <td>0</td>\n",
       "      <td>1</td>\n",
       "      <td>0</td>\n",
       "      <td>0</td>\n",
       "      <td>1</td>\n",
       "      <td>0</td>\n",
       "    </tr>\n",
       "    <tr>\n",
       "      <th>4</th>\n",
       "      <td>2020</td>\n",
       "      <td>10</td>\n",
       "      <td>SE</td>\n",
       "      <td>FT</td>\n",
       "      <td>Machine Learning Engineer</td>\n",
       "      <td>150000</td>\n",
       "      <td>USD</td>\n",
       "      <td>150000</td>\n",
       "      <td>US</td>\n",
       "      <td>50</td>\n",
       "      <td>...</td>\n",
       "      <td>0</td>\n",
       "      <td>0</td>\n",
       "      <td>0</td>\n",
       "      <td>0</td>\n",
       "      <td>0</td>\n",
       "      <td>1</td>\n",
       "      <td>0</td>\n",
       "      <td>0</td>\n",
       "      <td>0</td>\n",
       "      <td>1</td>\n",
       "    </tr>\n",
       "  </tbody>\n",
       "</table>\n",
       "<p>5 rows × 90 columns</p>\n",
       "</div>"
      ],
      "text/plain": [
       "   work_year  work_month experience_level employment_type  \\\n",
       "0       2020           6               MI              FT   \n",
       "1       2020          11               SE              FT   \n",
       "2       2020          12               SE              FT   \n",
       "3       2020           6               MI              FT   \n",
       "4       2020          10               SE              FT   \n",
       "\n",
       "                    job_title  salary salary_currency  salary_in_usd  \\\n",
       "0              Data Scientist   70000             EUR          79833   \n",
       "1  Machine Learning Scientist  260000             USD         260000   \n",
       "2           Big Data Engineer   85000             GBP         109024   \n",
       "3        Product Data Analyst   20000             USD          20000   \n",
       "4   Machine Learning Engineer  150000             USD         150000   \n",
       "\n",
       "  employee_residence  remote_ratio  ... JPY MXN PLN SGD TRY  USD  EN  EX  MI  \\\n",
       "0                 DE             0  ...   0   0   0   0   0    0   0   0   1   \n",
       "1                 JP             0  ...   0   0   0   0   0    1   0   0   0   \n",
       "2                 GB            50  ...   0   0   0   0   0    0   0   0   0   \n",
       "3                 HN             0  ...   0   0   0   0   0    1   0   0   1   \n",
       "4                 US            50  ...   0   0   0   0   0    1   0   0   0   \n",
       "\n",
       "   SE  \n",
       "0   0  \n",
       "1   1  \n",
       "2   1  \n",
       "3   0  \n",
       "4   1  \n",
       "\n",
       "[5 rows x 90 columns]"
      ]
     },
     "execution_count": 13,
     "metadata": {},
     "output_type": "execute_result"
    }
   ],
   "source": [
    "job_titles = pd.get_dummies(data[\"job_title\"])\n",
    "employment_types = pd.get_dummies(data[\"employment_type\"])\n",
    "salary_currencies = pd.get_dummies(data[\"salary_currency\"])\n",
    "experience_levels = pd.get_dummies(data[\"experience_level\"])\n",
    "data = data.join(job_titles)\n",
    "data = data.join(employment_types)\n",
    "data = data.join(salary_currencies)\n",
    "data = data.join(experience_levels)\n",
    "data.head()"
   ]
  },
  {
   "cell_type": "markdown",
   "id": "_Z_u73v4_a90",
   "metadata": {
    "id": "_Z_u73v4_a90"
   },
   "source": [
    "## 5. Processing"
   ]
  },
  {
   "cell_type": "markdown",
   "id": "fVNhv5Gp_6Wt",
   "metadata": {
    "id": "fVNhv5Gp_6Wt"
   },
   "source": [
    "#### 5.1 Fit a Decision Tree to classify the size of company in which each data scientist work."
   ]
  },
  {
   "cell_type": "code",
   "execution_count": 24,
   "id": "9xjkfOGHAJ6P",
   "metadata": {
    "id": "9xjkfOGHAJ6P"
   },
   "outputs": [],
   "source": [
    "# This is represented by the feature \"company_size\"\n",
    "X = data.drop(['remote_work_days_count', 'working_days_count', 'salary_discretized', 'company_size',\n",
    "               'company_location', 'employee_residence','employment_type','job_title','salary_currency'], axis=1) # feature vector\n",
    "y = data['company_size'] # target variable\n",
    "X_train, X_test, y_train, y_test = train_test_split(X, y, test_size = 0.33, random_state = 42) # # Divide the data into training and test dataset\n",
    "encoder = ce.OrdinalEncoder(cols=['work_year', 'experience_level', 'remote_ratio'])\n",
    "X_train = encoder.fit_transform(X_train)\n",
    "X_test = encoder.transform(X_test)"
   ]
  },
  {
   "cell_type": "markdown",
   "id": "ZbhVsUaHDGcB",
   "metadata": {
    "id": "ZbhVsUaHDGcB"
   },
   "source": [
    "#### 5.2 Set the maximum depth of the tree to 3"
   ]
  },
  {
   "cell_type": "code",
   "execution_count": 25,
   "id": "t8qoH8cCDQMD",
   "metadata": {
    "colab": {
     "base_uri": "https://localhost:8080/"
    },
    "id": "t8qoH8cCDQMD",
    "outputId": "4c50688a-ba1d-44bc-c71d-8d8ef50e0965"
   },
   "outputs": [
    {
     "data": {
      "text/html": [
       "<style>#sk-container-id-1 {color: black;background-color: white;}#sk-container-id-1 pre{padding: 0;}#sk-container-id-1 div.sk-toggleable {background-color: white;}#sk-container-id-1 label.sk-toggleable__label {cursor: pointer;display: block;width: 100%;margin-bottom: 0;padding: 0.3em;box-sizing: border-box;text-align: center;}#sk-container-id-1 label.sk-toggleable__label-arrow:before {content: \"▸\";float: left;margin-right: 0.25em;color: #696969;}#sk-container-id-1 label.sk-toggleable__label-arrow:hover:before {color: black;}#sk-container-id-1 div.sk-estimator:hover label.sk-toggleable__label-arrow:before {color: black;}#sk-container-id-1 div.sk-toggleable__content {max-height: 0;max-width: 0;overflow: hidden;text-align: left;background-color: #f0f8ff;}#sk-container-id-1 div.sk-toggleable__content pre {margin: 0.2em;color: black;border-radius: 0.25em;background-color: #f0f8ff;}#sk-container-id-1 input.sk-toggleable__control:checked~div.sk-toggleable__content {max-height: 200px;max-width: 100%;overflow: auto;}#sk-container-id-1 input.sk-toggleable__control:checked~label.sk-toggleable__label-arrow:before {content: \"▾\";}#sk-container-id-1 div.sk-estimator input.sk-toggleable__control:checked~label.sk-toggleable__label {background-color: #d4ebff;}#sk-container-id-1 div.sk-label input.sk-toggleable__control:checked~label.sk-toggleable__label {background-color: #d4ebff;}#sk-container-id-1 input.sk-hidden--visually {border: 0;clip: rect(1px 1px 1px 1px);clip: rect(1px, 1px, 1px, 1px);height: 1px;margin: -1px;overflow: hidden;padding: 0;position: absolute;width: 1px;}#sk-container-id-1 div.sk-estimator {font-family: monospace;background-color: #f0f8ff;border: 1px dotted black;border-radius: 0.25em;box-sizing: border-box;margin-bottom: 0.5em;}#sk-container-id-1 div.sk-estimator:hover {background-color: #d4ebff;}#sk-container-id-1 div.sk-parallel-item::after {content: \"\";width: 100%;border-bottom: 1px solid gray;flex-grow: 1;}#sk-container-id-1 div.sk-label:hover label.sk-toggleable__label {background-color: #d4ebff;}#sk-container-id-1 div.sk-serial::before {content: \"\";position: absolute;border-left: 1px solid gray;box-sizing: border-box;top: 0;bottom: 0;left: 50%;z-index: 0;}#sk-container-id-1 div.sk-serial {display: flex;flex-direction: column;align-items: center;background-color: white;padding-right: 0.2em;padding-left: 0.2em;position: relative;}#sk-container-id-1 div.sk-item {position: relative;z-index: 1;}#sk-container-id-1 div.sk-parallel {display: flex;align-items: stretch;justify-content: center;background-color: white;position: relative;}#sk-container-id-1 div.sk-item::before, #sk-container-id-1 div.sk-parallel-item::before {content: \"\";position: absolute;border-left: 1px solid gray;box-sizing: border-box;top: 0;bottom: 0;left: 50%;z-index: -1;}#sk-container-id-1 div.sk-parallel-item {display: flex;flex-direction: column;z-index: 1;position: relative;background-color: white;}#sk-container-id-1 div.sk-parallel-item:first-child::after {align-self: flex-end;width: 50%;}#sk-container-id-1 div.sk-parallel-item:last-child::after {align-self: flex-start;width: 50%;}#sk-container-id-1 div.sk-parallel-item:only-child::after {width: 0;}#sk-container-id-1 div.sk-dashed-wrapped {border: 1px dashed gray;margin: 0 0.4em 0.5em 0.4em;box-sizing: border-box;padding-bottom: 0.4em;background-color: white;}#sk-container-id-1 div.sk-label label {font-family: monospace;font-weight: bold;display: inline-block;line-height: 1.2em;}#sk-container-id-1 div.sk-label-container {text-align: center;}#sk-container-id-1 div.sk-container {/* jupyter's `normalize.less` sets `[hidden] { display: none; }` but bootstrap.min.css set `[hidden] { display: none !important; }` so we also need the `!important` here to be able to override the default hidden behavior on the sphinx rendered scikit-learn.org. See: https://github.com/scikit-learn/scikit-learn/issues/21755 */display: inline-block !important;position: relative;}#sk-container-id-1 div.sk-text-repr-fallback {display: none;}</style><div id=\"sk-container-id-1\" class=\"sk-top-container\"><div class=\"sk-text-repr-fallback\"><pre>DecisionTreeClassifier(max_depth=3, random_state=0)</pre><b>In a Jupyter environment, please rerun this cell to show the HTML representation or trust the notebook. <br />On GitHub, the HTML representation is unable to render, please try loading this page with nbviewer.org.</b></div><div class=\"sk-container\" hidden><div class=\"sk-item\"><div class=\"sk-estimator sk-toggleable\"><input class=\"sk-toggleable__control sk-hidden--visually\" id=\"sk-estimator-id-1\" type=\"checkbox\" checked><label for=\"sk-estimator-id-1\" class=\"sk-toggleable__label sk-toggleable__label-arrow\">DecisionTreeClassifier</label><div class=\"sk-toggleable__content\"><pre>DecisionTreeClassifier(max_depth=3, random_state=0)</pre></div></div></div></div></div>"
      ],
      "text/plain": [
       "DecisionTreeClassifier(max_depth=3, random_state=0)"
      ]
     },
     "execution_count": 25,
     "metadata": {},
     "output_type": "execute_result"
    }
   ],
   "source": [
    "clf_gini = DecisionTreeClassifier(criterion= 'gini', max_depth = 3, random_state = 0) # Setting the criterion\n",
    "clf_gini.fit(X_train, y_train) # Fitting the model"
   ]
  },
  {
   "cell_type": "code",
   "execution_count": 26,
   "id": "N78w9bHxKGje",
   "metadata": {
    "colab": {
     "base_uri": "https://localhost:8080/"
    },
    "id": "N78w9bHxKGje",
    "outputId": "db82b0bb-dedf-4750-82b4-2559e72353be"
   },
   "outputs": [
    {
     "name": "stdout",
     "output_type": "stream",
     "text": [
      "Model accuracy score with criterion gini index: 0.6716\n"
     ]
    }
   ],
   "source": [
    "y_pred_gini = clf_gini.predict(X_test)\n",
    "y_pred_train_gini = clf_gini.predict(X_train)\n",
    "y_pred_train_gini\n",
    "print('Model accuracy score with criterion gini index: {0:0.4f}'. format(accuracy_score(y_test, y_pred_gini)))"
   ]
  },
  {
   "cell_type": "markdown",
   "id": "aiEyrfiqI52h",
   "metadata": {
    "id": "aiEyrfiqI52h"
   },
   "source": [
    "#### 5.3 Plot the decision tree"
   ]
  },
  {
   "cell_type": "code",
   "execution_count": 27,
   "id": "JXwkyG0vnxQa",
   "metadata": {
    "colab": {
     "base_uri": "https://localhost:8080/",
     "height": 599
    },
    "id": "JXwkyG0vnxQa",
    "outputId": "eabe5b25-d187-4e5b-99df-499037a883a8",
    "scrolled": false
   },
   "outputs": [
    {
     "data": {
      "image/svg+xml": [
       "<?xml version=\"1.0\" encoding=\"UTF-8\" standalone=\"no\"?>\n",
       "<!DOCTYPE svg PUBLIC \"-//W3C//DTD SVG 1.1//EN\"\n",
       " \"http://www.w3.org/Graphics/SVG/1.1/DTD/svg11.dtd\">\n",
       "<!-- Generated by graphviz version 6.0.1 (20220911.1526)\n",
       " -->\n",
       "<!-- Title: Tree Pages: 1 -->\n",
       "<svg width=\"1128pt\" height=\"433pt\"\n",
       " viewBox=\"0.00 0.00 1128.00 433.00\" xmlns=\"http://www.w3.org/2000/svg\" xmlns:xlink=\"http://www.w3.org/1999/xlink\">\n",
       "<g id=\"graph0\" class=\"graph\" transform=\"scale(1 1) rotate(0) translate(4 429)\">\n",
       "<title>Tree</title>\n",
       "<polygon fill=\"white\" stroke=\"none\" points=\"-4,4 -4,-429 1124,-429 1124,4 -4,4\"/>\n",
       "<!-- 0 -->\n",
       "<g id=\"node1\" class=\"node\">\n",
       "<title>0</title>\n",
       "<path fill=\"#c4f7da\" stroke=\"black\" d=\"M594.5,-425C594.5,-425 464.5,-425 464.5,-425 458.5,-425 452.5,-419 452.5,-413 452.5,-413 452.5,-354 452.5,-354 452.5,-348 458.5,-342 464.5,-342 464.5,-342 594.5,-342 594.5,-342 600.5,-342 606.5,-348 606.5,-354 606.5,-354 606.5,-413 606.5,-413 606.5,-419 600.5,-425 594.5,-425\"/>\n",
       "<text text-anchor=\"start\" x=\"479.5\" y=\"-409.8\" font-family=\"Helvetica,sans-Serif\" font-size=\"14.00\">work_year ≤ 1.5</text>\n",
       "<text text-anchor=\"start\" x=\"492\" y=\"-394.8\" font-family=\"Helvetica,sans-Serif\" font-size=\"14.00\">gini = 0.587</text>\n",
       "<text text-anchor=\"start\" x=\"482\" y=\"-379.8\" font-family=\"Helvetica,sans-Serif\" font-size=\"14.00\">samples = 406</text>\n",
       "<text text-anchor=\"start\" x=\"460.5\" y=\"-364.8\" font-family=\"Helvetica,sans-Serif\" font-size=\"14.00\">value = [136, 216, 54]</text>\n",
       "<text text-anchor=\"start\" x=\"500\" y=\"-349.8\" font-family=\"Helvetica,sans-Serif\" font-size=\"14.00\">class = S</text>\n",
       "</g>\n",
       "<!-- 1 -->\n",
       "<g id=\"node2\" class=\"node\">\n",
       "<title>1</title>\n",
       "<path fill=\"#f4cbad\" stroke=\"black\" d=\"M476.5,-306C476.5,-306 320.5,-306 320.5,-306 314.5,-306 308.5,-300 308.5,-294 308.5,-294 308.5,-235 308.5,-235 308.5,-229 314.5,-223 320.5,-223 320.5,-223 476.5,-223 476.5,-223 482.5,-223 488.5,-229 488.5,-235 488.5,-235 488.5,-294 488.5,-294 488.5,-300 482.5,-306 476.5,-306\"/>\n",
       "<text text-anchor=\"start\" x=\"316.5\" y=\"-290.8\" font-family=\"Helvetica,sans-Serif\" font-size=\"14.00\">salary_in_usd ≤ 132513.0</text>\n",
       "<text text-anchor=\"start\" x=\"361\" y=\"-275.8\" font-family=\"Helvetica,sans-Serif\" font-size=\"14.00\">gini = 0.595</text>\n",
       "<text text-anchor=\"start\" x=\"351\" y=\"-260.8\" font-family=\"Helvetica,sans-Serif\" font-size=\"14.00\">samples = 136</text>\n",
       "<text text-anchor=\"start\" x=\"338\" y=\"-245.8\" font-family=\"Helvetica,sans-Serif\" font-size=\"14.00\">value = [75, 32, 29]</text>\n",
       "<text text-anchor=\"start\" x=\"369.5\" y=\"-230.8\" font-family=\"Helvetica,sans-Serif\" font-size=\"14.00\">class = L</text>\n",
       "</g>\n",
       "<!-- 0&#45;&gt;1 -->\n",
       "<g id=\"edge1\" class=\"edge\">\n",
       "<title>0&#45;&gt;1</title>\n",
       "<path fill=\"none\" stroke=\"black\" d=\"M484.05,-341.91C473.58,-332.56 462.36,-322.54 451.6,-312.93\"/>\n",
       "<polygon fill=\"black\" stroke=\"black\" points=\"453.66,-310.07 443.87,-306.02 449,-315.29 453.66,-310.07\"/>\n",
       "<text text-anchor=\"middle\" x=\"445.28\" y=\"-327.28\" font-family=\"Helvetica,sans-Serif\" font-size=\"14.00\">True</text>\n",
       "</g>\n",
       "<!-- 8 -->\n",
       "<g id=\"node9\" class=\"node\">\n",
       "<title>8</title>\n",
       "<path fill=\"#8af0b5\" stroke=\"black\" d=\"M742.5,-306C742.5,-306 620.5,-306 620.5,-306 614.5,-306 608.5,-300 608.5,-294 608.5,-294 608.5,-235 608.5,-235 608.5,-229 614.5,-223 620.5,-223 620.5,-223 742.5,-223 742.5,-223 748.5,-223 754.5,-229 754.5,-235 754.5,-235 754.5,-294 754.5,-294 754.5,-300 748.5,-306 742.5,-306\"/>\n",
       "<text text-anchor=\"start\" x=\"631.5\" y=\"-290.8\" font-family=\"Helvetica,sans-Serif\" font-size=\"14.00\">work_year ≤ 2.5</text>\n",
       "<text text-anchor=\"start\" x=\"644\" y=\"-275.8\" font-family=\"Helvetica,sans-Serif\" font-size=\"14.00\">gini = 0.476</text>\n",
       "<text text-anchor=\"start\" x=\"634\" y=\"-260.8\" font-family=\"Helvetica,sans-Serif\" font-size=\"14.00\">samples = 270</text>\n",
       "<text text-anchor=\"start\" x=\"616.5\" y=\"-245.8\" font-family=\"Helvetica,sans-Serif\" font-size=\"14.00\">value = [61, 184, 25]</text>\n",
       "<text text-anchor=\"start\" x=\"652\" y=\"-230.8\" font-family=\"Helvetica,sans-Serif\" font-size=\"14.00\">class = S</text>\n",
       "</g>\n",
       "<!-- 0&#45;&gt;8 -->\n",
       "<g id=\"edge8\" class=\"edge\">\n",
       "<title>0&#45;&gt;8</title>\n",
       "<path fill=\"none\" stroke=\"black\" d=\"M582.24,-341.91C594.62,-332.38 607.91,-322.15 620.61,-312.37\"/>\n",
       "<polygon fill=\"black\" stroke=\"black\" points=\"623.07,-314.89 628.86,-306.02 618.8,-309.35 623.07,-314.89\"/>\n",
       "<text text-anchor=\"middle\" x=\"625.63\" y=\"-327.11\" font-family=\"Helvetica,sans-Serif\" font-size=\"14.00\">False</text>\n",
       "</g>\n",
       "<!-- 2 -->\n",
       "<g id=\"node3\" class=\"node\">\n",
       "<title>2</title>\n",
       "<path fill=\"#f9e0ce\" stroke=\"black\" d=\"M268,-187C268,-187 155,-187 155,-187 149,-187 143,-181 143,-175 143,-175 143,-116 143,-116 143,-110 149,-104 155,-104 155,-104 268,-104 268,-104 274,-104 280,-110 280,-116 280,-116 280,-175 280,-175 280,-181 274,-187 268,-187\"/>\n",
       "<text text-anchor=\"start\" x=\"155.5\" y=\"-171.8\" font-family=\"Helvetica,sans-Serif\" font-size=\"14.00\">work_month ≤ 5.5</text>\n",
       "<text text-anchor=\"start\" x=\"174\" y=\"-156.8\" font-family=\"Helvetica,sans-Serif\" font-size=\"14.00\">gini = 0.644</text>\n",
       "<text text-anchor=\"start\" x=\"164\" y=\"-141.8\" font-family=\"Helvetica,sans-Serif\" font-size=\"14.00\">samples = 101</text>\n",
       "<text text-anchor=\"start\" x=\"151\" y=\"-126.8\" font-family=\"Helvetica,sans-Serif\" font-size=\"14.00\">value = [46, 28, 27]</text>\n",
       "<text text-anchor=\"start\" x=\"182.5\" y=\"-111.8\" font-family=\"Helvetica,sans-Serif\" font-size=\"14.00\">class = L</text>\n",
       "</g>\n",
       "<!-- 1&#45;&gt;2 -->\n",
       "<g id=\"edge2\" class=\"edge\">\n",
       "<title>1&#45;&gt;2</title>\n",
       "<path fill=\"none\" stroke=\"black\" d=\"M333.62,-222.91C317.96,-213.11 301.1,-202.56 285.07,-192.53\"/>\n",
       "<polygon fill=\"black\" stroke=\"black\" points=\"286.6,-189.36 276.26,-187.02 282.89,-195.29 286.6,-189.36\"/>\n",
       "</g>\n",
       "<!-- 5 -->\n",
       "<g id=\"node6\" class=\"node\">\n",
       "<title>5</title>\n",
       "<path fill=\"#ea995f\" stroke=\"black\" d=\"M447,-187C447,-187 350,-187 350,-187 344,-187 338,-181 338,-175 338,-175 338,-116 338,-116 338,-110 344,-104 350,-104 350,-104 447,-104 447,-104 453,-104 459,-110 459,-116 459,-116 459,-175 459,-175 459,-181 453,-187 447,-187\"/>\n",
       "<text text-anchor=\"start\" x=\"371.5\" y=\"-171.8\" font-family=\"Helvetica,sans-Serif\" font-size=\"14.00\">FT ≤ 0.5</text>\n",
       "<text text-anchor=\"start\" x=\"361\" y=\"-156.8\" font-family=\"Helvetica,sans-Serif\" font-size=\"14.00\">gini = 0.297</text>\n",
       "<text text-anchor=\"start\" x=\"355\" y=\"-141.8\" font-family=\"Helvetica,sans-Serif\" font-size=\"14.00\">samples = 35</text>\n",
       "<text text-anchor=\"start\" x=\"346\" y=\"-126.8\" font-family=\"Helvetica,sans-Serif\" font-size=\"14.00\">value = [29, 4, 2]</text>\n",
       "<text text-anchor=\"start\" x=\"369.5\" y=\"-111.8\" font-family=\"Helvetica,sans-Serif\" font-size=\"14.00\">class = L</text>\n",
       "</g>\n",
       "<!-- 1&#45;&gt;5 -->\n",
       "<g id=\"edge5\" class=\"edge\">\n",
       "<title>1&#45;&gt;5</title>\n",
       "<path fill=\"none\" stroke=\"black\" d=\"M398.5,-222.91C398.5,-214.65 398.5,-205.86 398.5,-197.3\"/>\n",
       "<polygon fill=\"black\" stroke=\"black\" points=\"402,-197.02 398.5,-187.02 395,-197.02 402,-197.02\"/>\n",
       "</g>\n",
       "<!-- 3 -->\n",
       "<g id=\"node4\" class=\"node\">\n",
       "<title>3</title>\n",
       "<path fill=\"#fefaf7\" stroke=\"black\" d=\"M117,-68C117,-68 12,-68 12,-68 6,-68 0,-62 0,-56 0,-56 0,-12 0,-12 0,-6 6,0 12,0 12,0 117,0 117,0 123,0 129,-6 129,-12 129,-12 129,-56 129,-56 129,-62 123,-68 117,-68\"/>\n",
       "<text text-anchor=\"start\" x=\"31\" y=\"-52.8\" font-family=\"Helvetica,sans-Serif\" font-size=\"14.00\">gini = 0.61</text>\n",
       "<text text-anchor=\"start\" x=\"21\" y=\"-37.8\" font-family=\"Helvetica,sans-Serif\" font-size=\"14.00\">samples = 43</text>\n",
       "<text text-anchor=\"start\" x=\"8\" y=\"-22.8\" font-family=\"Helvetica,sans-Serif\" font-size=\"14.00\">value = [19, 6, 18]</text>\n",
       "<text text-anchor=\"start\" x=\"35.5\" y=\"-7.8\" font-family=\"Helvetica,sans-Serif\" font-size=\"14.00\">class = L</text>\n",
       "</g>\n",
       "<!-- 2&#45;&gt;3 -->\n",
       "<g id=\"edge3\" class=\"edge\">\n",
       "<title>2&#45;&gt;3</title>\n",
       "<path fill=\"none\" stroke=\"black\" d=\"M156.76,-103.73C143.91,-94.15 130.23,-83.96 117.45,-74.44\"/>\n",
       "<polygon fill=\"black\" stroke=\"black\" points=\"119.31,-71.47 109.2,-68.3 115.13,-77.08 119.31,-71.47\"/>\n",
       "</g>\n",
       "<!-- 4 -->\n",
       "<g id=\"node5\" class=\"node\">\n",
       "<title>4</title>\n",
       "<path fill=\"#fbeee4\" stroke=\"black\" d=\"M264,-68C264,-68 159,-68 159,-68 153,-68 147,-62 147,-56 147,-56 147,-12 147,-12 147,-6 153,0 159,0 159,0 264,0 264,0 270,0 276,-6 276,-12 276,-12 276,-56 276,-56 276,-62 270,-68 264,-68\"/>\n",
       "<text text-anchor=\"start\" x=\"174\" y=\"-52.8\" font-family=\"Helvetica,sans-Serif\" font-size=\"14.00\">gini = 0.615</text>\n",
       "<text text-anchor=\"start\" x=\"168\" y=\"-37.8\" font-family=\"Helvetica,sans-Serif\" font-size=\"14.00\">samples = 58</text>\n",
       "<text text-anchor=\"start\" x=\"155\" y=\"-22.8\" font-family=\"Helvetica,sans-Serif\" font-size=\"14.00\">value = [27, 22, 9]</text>\n",
       "<text text-anchor=\"start\" x=\"182.5\" y=\"-7.8\" font-family=\"Helvetica,sans-Serif\" font-size=\"14.00\">class = L</text>\n",
       "</g>\n",
       "<!-- 2&#45;&gt;4 -->\n",
       "<g id=\"edge4\" class=\"edge\">\n",
       "<title>2&#45;&gt;4</title>\n",
       "<path fill=\"none\" stroke=\"black\" d=\"M211.5,-103.73C211.5,-95.52 211.5,-86.86 211.5,-78.56\"/>\n",
       "<polygon fill=\"black\" stroke=\"black\" points=\"215,-78.3 211.5,-68.3 208,-78.3 215,-78.3\"/>\n",
       "</g>\n",
       "<!-- 6 -->\n",
       "<g id=\"node7\" class=\"node\">\n",
       "<title>6</title>\n",
       "<path fill=\"#8139e5\" stroke=\"black\" d=\"M395,-68C395,-68 306,-68 306,-68 300,-68 294,-62 294,-56 294,-56 294,-12 294,-12 294,-6 300,0 306,0 306,0 395,0 395,0 401,0 407,-6 407,-12 407,-12 407,-56 407,-56 407,-62 401,-68 395,-68\"/>\n",
       "<text text-anchor=\"start\" x=\"321.5\" y=\"-52.8\" font-family=\"Helvetica,sans-Serif\" font-size=\"14.00\">gini = 0.0</text>\n",
       "<text text-anchor=\"start\" x=\"311\" y=\"-37.8\" font-family=\"Helvetica,sans-Serif\" font-size=\"14.00\">samples = 1</text>\n",
       "<text text-anchor=\"start\" x=\"302\" y=\"-22.8\" font-family=\"Helvetica,sans-Serif\" font-size=\"14.00\">value = [0, 0, 1]</text>\n",
       "<text text-anchor=\"start\" x=\"320\" y=\"-7.8\" font-family=\"Helvetica,sans-Serif\" font-size=\"14.00\">class = M</text>\n",
       "</g>\n",
       "<!-- 5&#45;&gt;6 -->\n",
       "<g id=\"edge6\" class=\"edge\">\n",
       "<title>5&#45;&gt;6</title>\n",
       "<path fill=\"none\" stroke=\"black\" d=\"M380.63,-103.73C376.91,-95.24 372.98,-86.28 369.23,-77.73\"/>\n",
       "<polygon fill=\"black\" stroke=\"black\" points=\"372.32,-76.05 365.1,-68.3 365.91,-78.86 372.32,-76.05\"/>\n",
       "</g>\n",
       "<!-- 7 -->\n",
       "<g id=\"node8\" class=\"node\">\n",
       "<title>7</title>\n",
       "<path fill=\"#e9965a\" stroke=\"black\" d=\"M534,-68C534,-68 437,-68 437,-68 431,-68 425,-62 425,-56 425,-56 425,-12 425,-12 425,-6 431,0 437,0 437,0 534,0 534,0 540,0 546,-6 546,-12 546,-12 546,-56 546,-56 546,-62 540,-68 534,-68\"/>\n",
       "<text text-anchor=\"start\" x=\"448\" y=\"-52.8\" font-family=\"Helvetica,sans-Serif\" font-size=\"14.00\">gini = 0.258</text>\n",
       "<text text-anchor=\"start\" x=\"442\" y=\"-37.8\" font-family=\"Helvetica,sans-Serif\" font-size=\"14.00\">samples = 34</text>\n",
       "<text text-anchor=\"start\" x=\"433\" y=\"-22.8\" font-family=\"Helvetica,sans-Serif\" font-size=\"14.00\">value = [29, 4, 1]</text>\n",
       "<text text-anchor=\"start\" x=\"456.5\" y=\"-7.8\" font-family=\"Helvetica,sans-Serif\" font-size=\"14.00\">class = L</text>\n",
       "</g>\n",
       "<!-- 5&#45;&gt;7 -->\n",
       "<g id=\"edge7\" class=\"edge\">\n",
       "<title>5&#45;&gt;7</title>\n",
       "<path fill=\"none\" stroke=\"black\" d=\"M430.9,-103.73C438,-94.79 445.52,-85.32 452.64,-76.36\"/>\n",
       "<polygon fill=\"black\" stroke=\"black\" points=\"455.56,-78.31 459.04,-68.3 450.08,-73.95 455.56,-78.31\"/>\n",
       "</g>\n",
       "<!-- 9 -->\n",
       "<g id=\"node10\" class=\"node\">\n",
       "<title>9</title>\n",
       "<path fill=\"#6beca0\" stroke=\"black\" d=\"M742.5,-187C742.5,-187 620.5,-187 620.5,-187 614.5,-187 608.5,-181 608.5,-175 608.5,-175 608.5,-116 608.5,-116 608.5,-110 614.5,-104 620.5,-104 620.5,-104 742.5,-104 742.5,-104 748.5,-104 754.5,-110 754.5,-116 754.5,-116 754.5,-175 754.5,-175 754.5,-181 748.5,-187 742.5,-187\"/>\n",
       "<text text-anchor=\"start\" x=\"623.5\" y=\"-171.8\" font-family=\"Helvetica,sans-Serif\" font-size=\"14.00\">remote_ratio ≤ 1.5</text>\n",
       "<text text-anchor=\"start\" x=\"644\" y=\"-156.8\" font-family=\"Helvetica,sans-Serif\" font-size=\"14.00\">gini = 0.346</text>\n",
       "<text text-anchor=\"start\" x=\"634\" y=\"-141.8\" font-family=\"Helvetica,sans-Serif\" font-size=\"14.00\">samples = 220</text>\n",
       "<text text-anchor=\"start\" x=\"616.5\" y=\"-126.8\" font-family=\"Helvetica,sans-Serif\" font-size=\"14.00\">value = [36, 174, 10]</text>\n",
       "<text text-anchor=\"start\" x=\"652\" y=\"-111.8\" font-family=\"Helvetica,sans-Serif\" font-size=\"14.00\">class = S</text>\n",
       "</g>\n",
       "<!-- 8&#45;&gt;9 -->\n",
       "<g id=\"edge9\" class=\"edge\">\n",
       "<title>8&#45;&gt;9</title>\n",
       "<path fill=\"none\" stroke=\"black\" d=\"M681.5,-222.91C681.5,-214.65 681.5,-205.86 681.5,-197.3\"/>\n",
       "<polygon fill=\"black\" stroke=\"black\" points=\"685,-197.02 681.5,-187.02 678,-197.02 685,-197.02\"/>\n",
       "</g>\n",
       "<!-- 12 -->\n",
       "<g id=\"node13\" class=\"node\">\n",
       "<title>12</title>\n",
       "<path fill=\"#f8dbc6\" stroke=\"black\" d=\"M994.5,-187C994.5,-187 846.5,-187 846.5,-187 840.5,-187 834.5,-181 834.5,-175 834.5,-175 834.5,-116 834.5,-116 834.5,-110 840.5,-104 846.5,-104 846.5,-104 994.5,-104 994.5,-104 1000.5,-104 1006.5,-110 1006.5,-116 1006.5,-116 1006.5,-175 1006.5,-175 1006.5,-181 1000.5,-187 994.5,-187\"/>\n",
       "<text text-anchor=\"start\" x=\"842.5\" y=\"-171.8\" font-family=\"Helvetica,sans-Serif\" font-size=\"14.00\">salary_in_usd ≤ 65577.0</text>\n",
       "<text text-anchor=\"start\" x=\"887\" y=\"-156.8\" font-family=\"Helvetica,sans-Serif\" font-size=\"14.00\">gini = 0.62</text>\n",
       "<text text-anchor=\"start\" x=\"877\" y=\"-141.8\" font-family=\"Helvetica,sans-Serif\" font-size=\"14.00\">samples = 50</text>\n",
       "<text text-anchor=\"start\" x=\"860\" y=\"-126.8\" font-family=\"Helvetica,sans-Serif\" font-size=\"14.00\">value = [25, 10, 15]</text>\n",
       "<text text-anchor=\"start\" x=\"891.5\" y=\"-111.8\" font-family=\"Helvetica,sans-Serif\" font-size=\"14.00\">class = L</text>\n",
       "</g>\n",
       "<!-- 8&#45;&gt;12 -->\n",
       "<g id=\"edge12\" class=\"edge\">\n",
       "<title>8&#45;&gt;12</title>\n",
       "<path fill=\"none\" stroke=\"black\" d=\"M754.51,-227.76C777.76,-216.38 803.79,-203.64 828.22,-191.68\"/>\n",
       "<polygon fill=\"black\" stroke=\"black\" points=\"830.05,-194.68 837.49,-187.14 826.97,-188.39 830.05,-194.68\"/>\n",
       "</g>\n",
       "<!-- 10 -->\n",
       "<g id=\"node11\" class=\"node\">\n",
       "<title>10</title>\n",
       "<path fill=\"#e58139\" stroke=\"black\" d=\"M665,-68C665,-68 576,-68 576,-68 570,-68 564,-62 564,-56 564,-56 564,-12 564,-12 564,-6 570,0 576,0 576,0 665,0 665,0 671,0 677,-6 677,-12 677,-12 677,-56 677,-56 677,-62 671,-68 665,-68\"/>\n",
       "<text text-anchor=\"start\" x=\"591.5\" y=\"-52.8\" font-family=\"Helvetica,sans-Serif\" font-size=\"14.00\">gini = 0.0</text>\n",
       "<text text-anchor=\"start\" x=\"581\" y=\"-37.8\" font-family=\"Helvetica,sans-Serif\" font-size=\"14.00\">samples = 8</text>\n",
       "<text text-anchor=\"start\" x=\"572\" y=\"-22.8\" font-family=\"Helvetica,sans-Serif\" font-size=\"14.00\">value = [8, 0, 0]</text>\n",
       "<text text-anchor=\"start\" x=\"591.5\" y=\"-7.8\" font-family=\"Helvetica,sans-Serif\" font-size=\"14.00\">class = L</text>\n",
       "</g>\n",
       "<!-- 9&#45;&gt;10 -->\n",
       "<g id=\"edge10\" class=\"edge\">\n",
       "<title>9&#45;&gt;10</title>\n",
       "<path fill=\"none\" stroke=\"black\" d=\"M658.79,-103.73C653.96,-95.06 648.85,-85.9 644,-77.18\"/>\n",
       "<polygon fill=\"black\" stroke=\"black\" points=\"646.97,-75.33 639.05,-68.3 640.86,-78.74 646.97,-75.33\"/>\n",
       "</g>\n",
       "<!-- 11 -->\n",
       "<g id=\"node12\" class=\"node\">\n",
       "<title>11</title>\n",
       "<path fill=\"#62ea9b\" stroke=\"black\" d=\"M829.5,-68C829.5,-68 707.5,-68 707.5,-68 701.5,-68 695.5,-62 695.5,-56 695.5,-56 695.5,-12 695.5,-12 695.5,-6 701.5,0 707.5,0 707.5,0 829.5,0 829.5,0 835.5,0 841.5,-6 841.5,-12 841.5,-12 841.5,-56 841.5,-56 841.5,-62 835.5,-68 829.5,-68\"/>\n",
       "<text text-anchor=\"start\" x=\"731\" y=\"-52.8\" font-family=\"Helvetica,sans-Serif\" font-size=\"14.00\">gini = 0.307</text>\n",
       "<text text-anchor=\"start\" x=\"721\" y=\"-37.8\" font-family=\"Helvetica,sans-Serif\" font-size=\"14.00\">samples = 212</text>\n",
       "<text text-anchor=\"start\" x=\"703.5\" y=\"-22.8\" font-family=\"Helvetica,sans-Serif\" font-size=\"14.00\">value = [28, 174, 10]</text>\n",
       "<text text-anchor=\"start\" x=\"739\" y=\"-7.8\" font-family=\"Helvetica,sans-Serif\" font-size=\"14.00\">class = S</text>\n",
       "</g>\n",
       "<!-- 9&#45;&gt;11 -->\n",
       "<g id=\"edge11\" class=\"edge\">\n",
       "<title>9&#45;&gt;11</title>\n",
       "<path fill=\"none\" stroke=\"black\" d=\"M713.9,-103.73C721,-94.79 728.52,-85.32 735.64,-76.36\"/>\n",
       "<polygon fill=\"black\" stroke=\"black\" points=\"738.56,-78.31 742.04,-68.3 733.08,-73.95 738.56,-78.31\"/>\n",
       "</g>\n",
       "<!-- 13 -->\n",
       "<g id=\"node14\" class=\"node\">\n",
       "<title>13</title>\n",
       "<path fill=\"#c7a7f3\" stroke=\"black\" d=\"M969,-68C969,-68 872,-68 872,-68 866,-68 860,-62 860,-56 860,-56 860,-12 860,-12 860,-6 866,0 872,0 872,0 969,0 969,0 975,0 981,-6 981,-12 981,-12 981,-56 981,-56 981,-62 975,-68 969,-68\"/>\n",
       "<text text-anchor=\"start\" x=\"883\" y=\"-52.8\" font-family=\"Helvetica,sans-Serif\" font-size=\"14.00\">gini = 0.586</text>\n",
       "<text text-anchor=\"start\" x=\"877\" y=\"-37.8\" font-family=\"Helvetica,sans-Serif\" font-size=\"14.00\">samples = 23</text>\n",
       "<text text-anchor=\"start\" x=\"868\" y=\"-22.8\" font-family=\"Helvetica,sans-Serif\" font-size=\"14.00\">value = [5, 5, 13]</text>\n",
       "<text text-anchor=\"start\" x=\"890\" y=\"-7.8\" font-family=\"Helvetica,sans-Serif\" font-size=\"14.00\">class = M</text>\n",
       "</g>\n",
       "<!-- 12&#45;&gt;13 -->\n",
       "<g id=\"edge13\" class=\"edge\">\n",
       "<title>12&#45;&gt;13</title>\n",
       "<path fill=\"none\" stroke=\"black\" d=\"M920.5,-103.73C920.5,-95.52 920.5,-86.86 920.5,-78.56\"/>\n",
       "<polygon fill=\"black\" stroke=\"black\" points=\"924,-78.3 920.5,-68.3 917,-78.3 924,-78.3\"/>\n",
       "</g>\n",
       "<!-- 14 -->\n",
       "<g id=\"node15\" class=\"node\">\n",
       "<title>14</title>\n",
       "<path fill=\"#eda978\" stroke=\"black\" d=\"M1108,-68C1108,-68 1011,-68 1011,-68 1005,-68 999,-62 999,-56 999,-56 999,-12 999,-12 999,-6 1005,0 1011,0 1011,0 1108,0 1108,0 1114,0 1120,-6 1120,-12 1120,-12 1120,-56 1120,-56 1120,-62 1114,-68 1108,-68\"/>\n",
       "<text text-anchor=\"start\" x=\"1022\" y=\"-52.8\" font-family=\"Helvetica,sans-Serif\" font-size=\"14.00\">gini = 0.412</text>\n",
       "<text text-anchor=\"start\" x=\"1016\" y=\"-37.8\" font-family=\"Helvetica,sans-Serif\" font-size=\"14.00\">samples = 27</text>\n",
       "<text text-anchor=\"start\" x=\"1007\" y=\"-22.8\" font-family=\"Helvetica,sans-Serif\" font-size=\"14.00\">value = [20, 5, 2]</text>\n",
       "<text text-anchor=\"start\" x=\"1030.5\" y=\"-7.8\" font-family=\"Helvetica,sans-Serif\" font-size=\"14.00\">class = L</text>\n",
       "</g>\n",
       "<!-- 12&#45;&gt;14 -->\n",
       "<g id=\"edge14\" class=\"edge\">\n",
       "<title>12&#45;&gt;14</title>\n",
       "<path fill=\"none\" stroke=\"black\" d=\"M972.26,-103.73C984.3,-94.24 997.1,-84.16 1009.08,-74.72\"/>\n",
       "<polygon fill=\"black\" stroke=\"black\" points=\"1011.54,-77.24 1017.23,-68.3 1007.21,-71.74 1011.54,-77.24\"/>\n",
       "</g>\n",
       "</g>\n",
       "</svg>\n"
      ],
      "text/plain": [
       "<graphviz.sources.Source at 0x2685f357490>"
      ]
     },
     "execution_count": 27,
     "metadata": {},
     "output_type": "execute_result"
    }
   ],
   "source": [
    "dot_data = tree.export_graphviz(clf_gini, out_file=None, \n",
    "                              feature_names=X.columns,  \n",
    "                              class_names=y,  \n",
    "                              filled=True, rounded=True,  \n",
    "                              special_characters=True)\n",
    "graph = graphviz.Source(dot_data) \n",
    "\n",
    "graph "
   ]
  },
  {
   "cell_type": "markdown",
   "id": "n0P6CVLdy-66",
   "metadata": {
    "id": "n0P6CVLdy-66"
   },
   "source": [
    "## 6.0 Post-processing"
   ]
  },
  {
   "cell_type": "markdown",
   "id": "t0FT4YCO0IhD",
   "metadata": {
    "id": "t0FT4YCO0IhD"
   },
   "source": [
    "* Measure the performance of the decision tree"
   ]
  },
  {
   "cell_type": "markdown",
   "id": "zdnNaJWV0W3J",
   "metadata": {
    "id": "zdnNaJWV0W3J"
   },
   "source": [
    "### 6.1 Hold-out cross-validation Performance"
   ]
  },
  {
   "cell_type": "code",
   "execution_count": 28,
   "id": "7Pk4aApK0mQN",
   "metadata": {
    "colab": {
     "base_uri": "https://localhost:8080/"
    },
    "id": "7Pk4aApK0mQN",
    "outputId": "cf0a74af-e1e5-4341-f064-40dee6504e28"
   },
   "outputs": [
    {
     "name": "stdout",
     "output_type": "stream",
     "text": [
      "Model accuracy score with criterion gini index: 0.6716\n"
     ]
    }
   ],
   "source": [
    "print('Model accuracy score with criterion gini index: {0:0.4f}'. format(accuracy_score(y_test, y_pred_gini)))"
   ]
  },
  {
   "cell_type": "markdown",
   "id": "HfmjrQ3g05zE",
   "metadata": {
    "id": "HfmjrQ3g05zE"
   },
   "source": [
    "* Significa 67% de acerto nas ramificações da árvore."
   ]
  },
  {
   "cell_type": "code",
   "execution_count": 29,
   "id": "30SIpn3e1FxV",
   "metadata": {
    "colab": {
     "base_uri": "https://localhost:8080/"
    },
    "id": "30SIpn3e1FxV",
    "outputId": "65ca2ba7-b877-4c34-be87-8f566f97e683"
   },
   "outputs": [
    {
     "name": "stdout",
     "output_type": "stream",
     "text": [
      "Confusion matrix\n",
      "\n",
      " [[49  9  4]\n",
      " [27 82  1]\n",
      " [22  3  4]]\n"
     ]
    }
   ],
   "source": [
    "cm = confusion_matrix(y_test, y_pred_gini)\n",
    "\n",
    "print('Confusion matrix\\n\\n', cm)"
   ]
  },
  {
   "cell_type": "code",
   "execution_count": 30,
   "id": "VQ620XEq1Jfj",
   "metadata": {
    "colab": {
     "base_uri": "https://localhost:8080/",
     "height": 296
    },
    "id": "VQ620XEq1Jfj",
    "outputId": "b5549aca-c6cf-43c9-83f1-d415c2130cb7"
   },
   "outputs": [
    {
     "data": {
      "text/plain": [
       "<sklearn.metrics._plot.confusion_matrix.ConfusionMatrixDisplay at 0x2685f1292d0>"
      ]
     },
     "execution_count": 30,
     "metadata": {},
     "output_type": "execute_result"
    },
    {
     "data": {
      "image/png": "[encoded data removed]",
      "text/plain": [
       "<Figure size 640x480 with 2 Axes>"
      ]
     },
     "metadata": {},
     "output_type": "display_data"
    }
   ],
   "source": [
    "ConfusionMatrixDisplay(confusion_matrix=cm, display_labels=clf_gini.classes_).plot()"
   ]
  },
  {
   "cell_type": "code",
   "execution_count": 31,
   "id": "WQggWh2H1pt_",
   "metadata": {
    "colab": {
     "base_uri": "https://localhost:8080/"
    },
    "id": "WQggWh2H1pt_",
    "outputId": "3ce4b3f7-8e61-4c8b-c463-8ba90d409843"
   },
   "outputs": [
    {
     "name": "stdout",
     "output_type": "stream",
     "text": [
      "Training-set accuracy score: 0.7167\n"
     ]
    }
   ],
   "source": [
    "print('Training-set accuracy score: {0:0.4f}'. format(accuracy_score(y_train, y_pred_train_gini)))"
   ]
  },
  {
   "cell_type": "code",
   "execution_count": 32,
   "id": "y5ahggEw1sBk",
   "metadata": {
    "colab": {
     "base_uri": "https://localhost:8080/"
    },
    "id": "y5ahggEw1sBk",
    "outputId": "5f806a20-3dfa-478f-be56-2aeac26ac0ff"
   },
   "outputs": [
    {
     "name": "stdout",
     "output_type": "stream",
     "text": [
      "Training set ACC score: 0.7167\n",
      "Test set ACC score: 0.6716\n"
     ]
    }
   ],
   "source": [
    "print('Training set ACC score: {:.4f}'.format(clf_gini.score(X_train, y_train)))\n",
    "\n",
    "print('Test set ACC score: {:.4f}'.format(clf_gini.score(X_test, y_test)))"
   ]
  },
  {
   "cell_type": "markdown",
   "id": "6wOTxKzq1-64",
   "metadata": {
    "id": "6wOTxKzq1-64"
   },
   "source": [
    "### 6.1 Matthews Correlaction Coefficient"
   ]
  },
  {
   "cell_type": "code",
   "execution_count": 33,
   "id": "Bcj1dVdO2EqU",
   "metadata": {
    "colab": {
     "base_uri": "https://localhost:8080/"
    },
    "id": "Bcj1dVdO2EqU",
    "outputId": "ce926870-0a97-4029-cdc1-2ab82ff7290a"
   },
   "outputs": [
    {
     "data": {
      "text/plain": [
       "0.46006776863980026"
      ]
     },
     "execution_count": 33,
     "metadata": {},
     "output_type": "execute_result"
    }
   ],
   "source": [
    "matthews_corrcoef(y_test, y_pred_gini) # Test data"
   ]
  },
  {
   "cell_type": "code",
   "execution_count": 35,
   "id": "lFnfBepu2LXV",
   "metadata": {
    "colab": {
     "base_uri": "https://localhost:8080/"
    },
    "id": "lFnfBepu2LXV",
    "outputId": "e66eb6d9-5f29-433b-9f39-5cab4baba6b1"
   },
   "outputs": [
    {
     "data": {
      "text/plain": [
       "0.5124970660935605"
      ]
     },
     "execution_count": 35,
     "metadata": {},
     "output_type": "execute_result"
    }
   ],
   "source": [
    "matthews_corrcoef(y_train, y_pred_train_gini) # Train data"
   ]
  }
 ],
 "metadata": {
  "colab": {
   "collapsed_sections": [],
   "provenance": []
  },
  "kernelspec": {
   "display_name": "Python 3 (ipykernel)",
   "language": "python",
   "name": "python3"
  },
  "language_info": {
   "codemirror_mode": {
    "name": "ipython",
    "version": 3
   },
   "file_extension": ".py",
   "mimetype": "text/x-python",
   "name": "python",
   "nbconvert_exporter": "python",
   "pygments_lexer": "ipython3",
   "version": "3.11.0"
  },
  "vscode": {
   "interpreter": {
    "hash": "b443154265002040221aa76392d8d67f0a943ba0393075094dd1cf7f7808809b"
   }
  }
 },
 "nbformat": 4,
 "nbformat_minor": 5
}
