{
 "cells": [
  {
   "cell_type": "markdown",
   "id": "61fe0a61-f24f-43cd-bbac-aae8e9c51801",
   "metadata": {},
   "source": [
    "# Practical task 2"
   ]
  },
  {
   "cell_type": "raw",
   "id": "3c01656d-d3c6-420e-9002-c4f179473555",
   "metadata": {},
   "source": [
    "work_year\n",
    "    The year the salary was paid.\n",
    "experience_level \n",
    "    The experience level in the job during the year with the following possible values: \n",
    "        EN Entry-level / \n",
    "        Junior MI Mid-level / \n",
    "        Intermediate SE Senior-level / \n",
    "        Expert EX Executive-level / \n",
    "        Director\n",
    "employment_type \n",
    "    The type of employement for the role: \n",
    "        PT Part-time \n",
    "        FT Full-time \n",
    "        CT Contract \n",
    "        FL Freelance\n",
    "job_title \n",
    "    The role worked in during the year.\n",
    "salary \n",
    "    The total gross salary amount paid.\n",
    "salary_currency \n",
    "    The currency of the salary paid as an ISO 4217 currency code.\n",
    "salaryinusd \n",
    "    The salary in USD (FX rate divided by avg. USD rate for the respective year via fxdata.foorilla.com).\n",
    "employee_residence \n",
    "    Employee's primary country of residence in during the work year as an ISO 3166 country code.\n",
    "remote_ratio \n",
    "    The overall amount of work done remotely; possible values are as follows: \n",
    "      0 No remote work (less than 20%) \n",
    "     50 Partially remote \n",
    "    100 Fully remote (more than 80%)\n",
    "company_location \n",
    "    The country of the employer's main office or contracting branch as an ISO 3166 country code.\n",
    "company_size \n",
    "    The average number of people that worked for the company during the year: \n",
    "        S less than 50 employees (small) \n",
    "        M 50 to 250 employees    (medium) \n",
    "        L more than 250 employees (large)"
   ]
  },
  {
   "cell_type": "code",
   "execution_count": 1,
   "id": "72f97ec6-cbe3-4a79-a886-bca4101c121f",
   "metadata": {},
   "outputs": [],
   "source": [
    "import pandas as pd\n",
    "# import datetime\n",
    "\n",
    "from sklearn.model_selection import train_test_split # to split the data\n",
    "from sklearn.tree import DecisionTreeClassifier # criamos nosso modelo básico de árvore de classificação\n",
    "from sklearn.metrics import accuracy_score # to evaluate the accuracy\n",
    "from sklearn import tree\n",
    "from sklearn.metrics import confusion_matrix # to evaluate the confusion matrix\n",
    "from sklearn.metrics import matthews_corrcoef # to evaluate the MCC\n",
    "\n",
    "import matplotlib.pyplot as plt # data visualization"
   ]
  },
  {
   "cell_type": "code",
   "execution_count": 2,
   "id": "da0c2451-4c9d-425c-8327-c76682581e60",
   "metadata": {},
   "outputs": [],
   "source": [
    "df = pd.read_csv(\"https://raw.githubusercontent.com/renatoquiliche/DataScience-PUCRio-FB/main/Data/DS_salarios/ds_salaries.csv\")\n",
    "df.drop(columns = [\"Unnamed: 0\"], errors = \"ignore\",inplace = True)"
   ]
  },
  {
   "cell_type": "markdown",
   "id": "e551a9b9-91fb-4794-a53b-0b98e5a68b34",
   "metadata": {
    "tags": []
   },
   "source": [
    "### Pre-processing\n",
    "1. Transform the categorical features into binary variables (dummy variables). Dummy variables are accepted by almost any classifier. (1 point)"
   ]
  },
  {
   "cell_type": "code",
   "execution_count": 3,
   "id": "46725d1a-7550-4581-a467-eacbec9e7b0f",
   "metadata": {},
   "outputs": [],
   "source": [
    "def faixas(remote_ratio): \n",
    "    if remote_ratio == 0:        \n",
    "        return 'remote_no'\n",
    "    elif remote_ratio == 50:        \n",
    "        return 'remote_partially'    \n",
    "    elif remote_ratio == 100:  \n",
    "        return 'remote_fully'\n",
    "\n",
    "df['remote'] = df['remote_ratio'].map(faixas)"
   ]
  },
  {
   "cell_type": "code",
   "execution_count": 4,
   "id": "14a4cac0-b506-49ef-9386-770fd589801a",
   "metadata": {},
   "outputs": [],
   "source": [
    "def faixas(work_year): \n",
    "    if work_year == 2022:        \n",
    "        return 1\n",
    "    else:\n",
    "        return 0\n",
    "\n",
    "df['ano_recente'] = df['work_year'].map(faixas)"
   ]
  },
  {
   "cell_type": "code",
   "execution_count": 5,
   "id": "5b2f1fac-d710-4cdf-ae01-8c191f0bcbfb",
   "metadata": {},
   "outputs": [],
   "source": [
    "# df"
   ]
  },
  {
   "cell_type": "code",
   "execution_count": 6,
   "id": "620e8427-8603-4384-9a35-5ff36ae82afa",
   "metadata": {},
   "outputs": [],
   "source": [
    "df.drop(columns = ['work_year', 'work_month', 'data', 'salary','salary_currency','remote_ratio','employee_residence','company_location'], errors = \"ignore\",inplace = True)"
   ]
  },
  {
   "cell_type": "code",
   "execution_count": 7,
   "id": "d52e724f-451d-4ad6-8b5c-8df5883adc11",
   "metadata": {},
   "outputs": [
    {
     "data": {
      "text/html": [
       "<div>\n",
       "<style scoped>\n",
       "    .dataframe tbody tr th:only-of-type {\n",
       "        vertical-align: middle;\n",
       "    }\n",
       "\n",
       "    .dataframe tbody tr th {\n",
       "        vertical-align: top;\n",
       "    }\n",
       "\n",
       "    .dataframe thead th {\n",
       "        text-align: right;\n",
       "    }\n",
       "</style>\n",
       "<table border=\"1\" class=\"dataframe\">\n",
       "  <thead>\n",
       "    <tr style=\"text-align: right;\">\n",
       "      <th></th>\n",
       "      <th>experience_level</th>\n",
       "      <th>employment_type</th>\n",
       "      <th>job_title</th>\n",
       "      <th>salary_in_usd</th>\n",
       "      <th>company_size</th>\n",
       "      <th>remote</th>\n",
       "      <th>ano_recente</th>\n",
       "    </tr>\n",
       "  </thead>\n",
       "  <tbody>\n",
       "    <tr>\n",
       "      <th>0</th>\n",
       "      <td>MI</td>\n",
       "      <td>FT</td>\n",
       "      <td>Data Scientist</td>\n",
       "      <td>79833</td>\n",
       "      <td>L</td>\n",
       "      <td>remote_no</td>\n",
       "      <td>0</td>\n",
       "    </tr>\n",
       "    <tr>\n",
       "      <th>1</th>\n",
       "      <td>SE</td>\n",
       "      <td>FT</td>\n",
       "      <td>Machine Learning Scientist</td>\n",
       "      <td>260000</td>\n",
       "      <td>S</td>\n",
       "      <td>remote_no</td>\n",
       "      <td>0</td>\n",
       "    </tr>\n",
       "    <tr>\n",
       "      <th>2</th>\n",
       "      <td>SE</td>\n",
       "      <td>FT</td>\n",
       "      <td>Big Data Engineer</td>\n",
       "      <td>109024</td>\n",
       "      <td>M</td>\n",
       "      <td>remote_partially</td>\n",
       "      <td>0</td>\n",
       "    </tr>\n",
       "    <tr>\n",
       "      <th>3</th>\n",
       "      <td>MI</td>\n",
       "      <td>FT</td>\n",
       "      <td>Product Data Analyst</td>\n",
       "      <td>20000</td>\n",
       "      <td>S</td>\n",
       "      <td>remote_no</td>\n",
       "      <td>0</td>\n",
       "    </tr>\n",
       "    <tr>\n",
       "      <th>4</th>\n",
       "      <td>SE</td>\n",
       "      <td>FT</td>\n",
       "      <td>Machine Learning Engineer</td>\n",
       "      <td>150000</td>\n",
       "      <td>L</td>\n",
       "      <td>remote_partially</td>\n",
       "      <td>0</td>\n",
       "    </tr>\n",
       "    <tr>\n",
       "      <th>...</th>\n",
       "      <td>...</td>\n",
       "      <td>...</td>\n",
       "      <td>...</td>\n",
       "      <td>...</td>\n",
       "      <td>...</td>\n",
       "      <td>...</td>\n",
       "      <td>...</td>\n",
       "    </tr>\n",
       "    <tr>\n",
       "      <th>602</th>\n",
       "      <td>SE</td>\n",
       "      <td>FT</td>\n",
       "      <td>Data Engineer</td>\n",
       "      <td>154000</td>\n",
       "      <td>M</td>\n",
       "      <td>remote_fully</td>\n",
       "      <td>1</td>\n",
       "    </tr>\n",
       "    <tr>\n",
       "      <th>603</th>\n",
       "      <td>SE</td>\n",
       "      <td>FT</td>\n",
       "      <td>Data Engineer</td>\n",
       "      <td>126000</td>\n",
       "      <td>M</td>\n",
       "      <td>remote_fully</td>\n",
       "      <td>1</td>\n",
       "    </tr>\n",
       "    <tr>\n",
       "      <th>604</th>\n",
       "      <td>SE</td>\n",
       "      <td>FT</td>\n",
       "      <td>Data Analyst</td>\n",
       "      <td>129000</td>\n",
       "      <td>M</td>\n",
       "      <td>remote_no</td>\n",
       "      <td>1</td>\n",
       "    </tr>\n",
       "    <tr>\n",
       "      <th>605</th>\n",
       "      <td>SE</td>\n",
       "      <td>FT</td>\n",
       "      <td>Data Analyst</td>\n",
       "      <td>150000</td>\n",
       "      <td>M</td>\n",
       "      <td>remote_fully</td>\n",
       "      <td>1</td>\n",
       "    </tr>\n",
       "    <tr>\n",
       "      <th>606</th>\n",
       "      <td>MI</td>\n",
       "      <td>FT</td>\n",
       "      <td>AI Scientist</td>\n",
       "      <td>200000</td>\n",
       "      <td>L</td>\n",
       "      <td>remote_fully</td>\n",
       "      <td>1</td>\n",
       "    </tr>\n",
       "  </tbody>\n",
       "</table>\n",
       "<p>607 rows × 7 columns</p>\n",
       "</div>"
      ],
      "text/plain": [
       "    experience_level employment_type                   job_title  \\\n",
       "0                 MI              FT              Data Scientist   \n",
       "1                 SE              FT  Machine Learning Scientist   \n",
       "2                 SE              FT           Big Data Engineer   \n",
       "3                 MI              FT        Product Data Analyst   \n",
       "4                 SE              FT   Machine Learning Engineer   \n",
       "..               ...             ...                         ...   \n",
       "602               SE              FT               Data Engineer   \n",
       "603               SE              FT               Data Engineer   \n",
       "604               SE              FT                Data Analyst   \n",
       "605               SE              FT                Data Analyst   \n",
       "606               MI              FT                AI Scientist   \n",
       "\n",
       "     salary_in_usd company_size            remote  ano_recente  \n",
       "0            79833            L         remote_no            0  \n",
       "1           260000            S         remote_no            0  \n",
       "2           109024            M  remote_partially            0  \n",
       "3            20000            S         remote_no            0  \n",
       "4           150000            L  remote_partially            0  \n",
       "..             ...          ...               ...          ...  \n",
       "602         154000            M      remote_fully            1  \n",
       "603         126000            M      remote_fully            1  \n",
       "604         129000            M         remote_no            1  \n",
       "605         150000            M      remote_fully            1  \n",
       "606         200000            L      remote_fully            1  \n",
       "\n",
       "[607 rows x 7 columns]"
      ]
     },
     "execution_count": 7,
     "metadata": {},
     "output_type": "execute_result"
    }
   ],
   "source": [
    "df"
   ]
  },
  {
   "cell_type": "code",
   "execution_count": 8,
   "id": "e417e0b4-2962-4eaa-9e7c-72d3cc64f868",
   "metadata": {},
   "outputs": [
    {
     "data": {
      "text/plain": [
       "Index(['experience_level', 'employment_type', 'job_title', 'salary_in_usd',\n",
       "       'company_size', 'remote', 'ano_recente'],\n",
       "      dtype='object')"
      ]
     },
     "execution_count": 8,
     "metadata": {},
     "output_type": "execute_result"
    }
   ],
   "source": [
    "df.columns"
   ]
  },
  {
   "cell_type": "code",
   "execution_count": 9,
   "id": "22d91d9e-f9d3-47f4-81fa-5d8a5d9a88d2",
   "metadata": {},
   "outputs": [
    {
     "data": {
      "text/plain": [
       "array(['MI', 'SE', 'EN', 'EX'], dtype=object)"
      ]
     },
     "execution_count": 9,
     "metadata": {},
     "output_type": "execute_result"
    }
   ],
   "source": [
    "df.experience_level.unique()"
   ]
  },
  {
   "cell_type": "code",
   "execution_count": 10,
   "id": "32d25136-af88-4d5e-ac9a-fdf162edf9b4",
   "metadata": {},
   "outputs": [
    {
     "data": {
      "text/plain": [
       "array(['FT', 'CT', 'PT', 'FL'], dtype=object)"
      ]
     },
     "execution_count": 10,
     "metadata": {},
     "output_type": "execute_result"
    }
   ],
   "source": [
    "df.employment_type.unique()"
   ]
  },
  {
   "cell_type": "code",
   "execution_count": 11,
   "id": "49580cd5-d281-484b-a4d4-c331d3ed7453",
   "metadata": {},
   "outputs": [
    {
     "data": {
      "text/plain": [
       "array(['Data Scientist', 'Machine Learning Scientist',\n",
       "       'Big Data Engineer', 'Product Data Analyst',\n",
       "       'Machine Learning Engineer', 'Data Analyst', 'Lead Data Scientist',\n",
       "       'Business Data Analyst', 'Lead Data Engineer', 'Lead Data Analyst',\n",
       "       'Data Engineer', 'Data Science Consultant', 'BI Data Analyst',\n",
       "       'Director of Data Science', 'Research Scientist',\n",
       "       'Machine Learning Manager', 'Data Engineering Manager',\n",
       "       'Machine Learning Infrastructure Engineer', 'ML Engineer',\n",
       "       'AI Scientist', 'Computer Vision Engineer',\n",
       "       'Principal Data Scientist', 'Data Science Manager', 'Head of Data',\n",
       "       '3D Computer Vision Researcher', 'Data Analytics Engineer',\n",
       "       'Applied Data Scientist', 'Marketing Data Analyst',\n",
       "       'Cloud Data Engineer', 'Financial Data Analyst',\n",
       "       'Computer Vision Software Engineer',\n",
       "       'Director of Data Engineering', 'Data Science Engineer',\n",
       "       'Principal Data Engineer', 'Machine Learning Developer',\n",
       "       'Applied Machine Learning Scientist', 'Data Analytics Manager',\n",
       "       'Head of Data Science', 'Data Specialist', 'Data Architect',\n",
       "       'Finance Data Analyst', 'Principal Data Analyst',\n",
       "       'Big Data Architect', 'Staff Data Scientist', 'Analytics Engineer',\n",
       "       'ETL Developer', 'Head of Machine Learning', 'NLP Engineer',\n",
       "       'Lead Machine Learning Engineer', 'Data Analytics Lead'],\n",
       "      dtype=object)"
      ]
     },
     "execution_count": 11,
     "metadata": {},
     "output_type": "execute_result"
    }
   ],
   "source": [
    "df.job_title.unique()"
   ]
  },
  {
   "cell_type": "code",
   "execution_count": 12,
   "id": "3d00ffc9-84e0-49b1-9852-4df2dffcbb5b",
   "metadata": {},
   "outputs": [
    {
     "data": {
      "text/plain": [
       "array(['remote_no', 'remote_partially', 'remote_fully'], dtype=object)"
      ]
     },
     "execution_count": 12,
     "metadata": {},
     "output_type": "execute_result"
    }
   ],
   "source": [
    "df.remote.unique()"
   ]
  },
  {
   "cell_type": "code",
   "execution_count": 13,
   "id": "8ec550e1-ed96-4efa-923a-1a88ffc723b9",
   "metadata": {},
   "outputs": [],
   "source": [
    "# Dummies\n",
    "\n",
    "experience_level = pd.get_dummies(df[\"experience_level\"])\n",
    "employment_type = pd.get_dummies(df[\"employment_type\"])\n",
    "job_title = pd.get_dummies(df[\"job_title\"])\n",
    "remote = pd.get_dummies(df[\"remote\"])"
   ]
  },
  {
   "cell_type": "code",
   "execution_count": 14,
   "id": "b65c6968-c422-4a7f-9c60-264051ed64cf",
   "metadata": {},
   "outputs": [],
   "source": [
    "df_dummy = df.join(experience_level).join(employment_type).join(job_title).join(remote)\n",
    "df_dummy.drop(columns = ['experience_level', 'employment_type','job_title','remote'], errors = \"ignore\",inplace = True)"
   ]
  },
  {
   "cell_type": "code",
   "execution_count": 15,
   "id": "35853884-c7f3-4583-9bdd-53bcb2c9d961",
   "metadata": {},
   "outputs": [
    {
     "data": {
      "text/html": [
       "<div>\n",
       "<style scoped>\n",
       "    .dataframe tbody tr th:only-of-type {\n",
       "        vertical-align: middle;\n",
       "    }\n",
       "\n",
       "    .dataframe tbody tr th {\n",
       "        vertical-align: top;\n",
       "    }\n",
       "\n",
       "    .dataframe thead th {\n",
       "        text-align: right;\n",
       "    }\n",
       "</style>\n",
       "<table border=\"1\" class=\"dataframe\">\n",
       "  <thead>\n",
       "    <tr style=\"text-align: right;\">\n",
       "      <th></th>\n",
       "      <th>salary_in_usd</th>\n",
       "      <th>company_size</th>\n",
       "      <th>ano_recente</th>\n",
       "      <th>EN</th>\n",
       "      <th>EX</th>\n",
       "      <th>MI</th>\n",
       "      <th>SE</th>\n",
       "      <th>CT</th>\n",
       "      <th>FL</th>\n",
       "      <th>FT</th>\n",
       "      <th>...</th>\n",
       "      <th>NLP Engineer</th>\n",
       "      <th>Principal Data Analyst</th>\n",
       "      <th>Principal Data Engineer</th>\n",
       "      <th>Principal Data Scientist</th>\n",
       "      <th>Product Data Analyst</th>\n",
       "      <th>Research Scientist</th>\n",
       "      <th>Staff Data Scientist</th>\n",
       "      <th>remote_fully</th>\n",
       "      <th>remote_no</th>\n",
       "      <th>remote_partially</th>\n",
       "    </tr>\n",
       "  </thead>\n",
       "  <tbody>\n",
       "    <tr>\n",
       "      <th>0</th>\n",
       "      <td>79833</td>\n",
       "      <td>L</td>\n",
       "      <td>0</td>\n",
       "      <td>0</td>\n",
       "      <td>0</td>\n",
       "      <td>1</td>\n",
       "      <td>0</td>\n",
       "      <td>0</td>\n",
       "      <td>0</td>\n",
       "      <td>1</td>\n",
       "      <td>...</td>\n",
       "      <td>0</td>\n",
       "      <td>0</td>\n",
       "      <td>0</td>\n",
       "      <td>0</td>\n",
       "      <td>0</td>\n",
       "      <td>0</td>\n",
       "      <td>0</td>\n",
       "      <td>0</td>\n",
       "      <td>1</td>\n",
       "      <td>0</td>\n",
       "    </tr>\n",
       "    <tr>\n",
       "      <th>1</th>\n",
       "      <td>260000</td>\n",
       "      <td>S</td>\n",
       "      <td>0</td>\n",
       "      <td>0</td>\n",
       "      <td>0</td>\n",
       "      <td>0</td>\n",
       "      <td>1</td>\n",
       "      <td>0</td>\n",
       "      <td>0</td>\n",
       "      <td>1</td>\n",
       "      <td>...</td>\n",
       "      <td>0</td>\n",
       "      <td>0</td>\n",
       "      <td>0</td>\n",
       "      <td>0</td>\n",
       "      <td>0</td>\n",
       "      <td>0</td>\n",
       "      <td>0</td>\n",
       "      <td>0</td>\n",
       "      <td>1</td>\n",
       "      <td>0</td>\n",
       "    </tr>\n",
       "    <tr>\n",
       "      <th>2</th>\n",
       "      <td>109024</td>\n",
       "      <td>M</td>\n",
       "      <td>0</td>\n",
       "      <td>0</td>\n",
       "      <td>0</td>\n",
       "      <td>0</td>\n",
       "      <td>1</td>\n",
       "      <td>0</td>\n",
       "      <td>0</td>\n",
       "      <td>1</td>\n",
       "      <td>...</td>\n",
       "      <td>0</td>\n",
       "      <td>0</td>\n",
       "      <td>0</td>\n",
       "      <td>0</td>\n",
       "      <td>0</td>\n",
       "      <td>0</td>\n",
       "      <td>0</td>\n",
       "      <td>0</td>\n",
       "      <td>0</td>\n",
       "      <td>1</td>\n",
       "    </tr>\n",
       "    <tr>\n",
       "      <th>3</th>\n",
       "      <td>20000</td>\n",
       "      <td>S</td>\n",
       "      <td>0</td>\n",
       "      <td>0</td>\n",
       "      <td>0</td>\n",
       "      <td>1</td>\n",
       "      <td>0</td>\n",
       "      <td>0</td>\n",
       "      <td>0</td>\n",
       "      <td>1</td>\n",
       "      <td>...</td>\n",
       "      <td>0</td>\n",
       "      <td>0</td>\n",
       "      <td>0</td>\n",
       "      <td>0</td>\n",
       "      <td>1</td>\n",
       "      <td>0</td>\n",
       "      <td>0</td>\n",
       "      <td>0</td>\n",
       "      <td>1</td>\n",
       "      <td>0</td>\n",
       "    </tr>\n",
       "    <tr>\n",
       "      <th>4</th>\n",
       "      <td>150000</td>\n",
       "      <td>L</td>\n",
       "      <td>0</td>\n",
       "      <td>0</td>\n",
       "      <td>0</td>\n",
       "      <td>0</td>\n",
       "      <td>1</td>\n",
       "      <td>0</td>\n",
       "      <td>0</td>\n",
       "      <td>1</td>\n",
       "      <td>...</td>\n",
       "      <td>0</td>\n",
       "      <td>0</td>\n",
       "      <td>0</td>\n",
       "      <td>0</td>\n",
       "      <td>0</td>\n",
       "      <td>0</td>\n",
       "      <td>0</td>\n",
       "      <td>0</td>\n",
       "      <td>0</td>\n",
       "      <td>1</td>\n",
       "    </tr>\n",
       "    <tr>\n",
       "      <th>...</th>\n",
       "      <td>...</td>\n",
       "      <td>...</td>\n",
       "      <td>...</td>\n",
       "      <td>...</td>\n",
       "      <td>...</td>\n",
       "      <td>...</td>\n",
       "      <td>...</td>\n",
       "      <td>...</td>\n",
       "      <td>...</td>\n",
       "      <td>...</td>\n",
       "      <td>...</td>\n",
       "      <td>...</td>\n",
       "      <td>...</td>\n",
       "      <td>...</td>\n",
       "      <td>...</td>\n",
       "      <td>...</td>\n",
       "      <td>...</td>\n",
       "      <td>...</td>\n",
       "      <td>...</td>\n",
       "      <td>...</td>\n",
       "      <td>...</td>\n",
       "    </tr>\n",
       "    <tr>\n",
       "      <th>602</th>\n",
       "      <td>154000</td>\n",
       "      <td>M</td>\n",
       "      <td>1</td>\n",
       "      <td>0</td>\n",
       "      <td>0</td>\n",
       "      <td>0</td>\n",
       "      <td>1</td>\n",
       "      <td>0</td>\n",
       "      <td>0</td>\n",
       "      <td>1</td>\n",
       "      <td>...</td>\n",
       "      <td>0</td>\n",
       "      <td>0</td>\n",
       "      <td>0</td>\n",
       "      <td>0</td>\n",
       "      <td>0</td>\n",
       "      <td>0</td>\n",
       "      <td>0</td>\n",
       "      <td>1</td>\n",
       "      <td>0</td>\n",
       "      <td>0</td>\n",
       "    </tr>\n",
       "    <tr>\n",
       "      <th>603</th>\n",
       "      <td>126000</td>\n",
       "      <td>M</td>\n",
       "      <td>1</td>\n",
       "      <td>0</td>\n",
       "      <td>0</td>\n",
       "      <td>0</td>\n",
       "      <td>1</td>\n",
       "      <td>0</td>\n",
       "      <td>0</td>\n",
       "      <td>1</td>\n",
       "      <td>...</td>\n",
       "      <td>0</td>\n",
       "      <td>0</td>\n",
       "      <td>0</td>\n",
       "      <td>0</td>\n",
       "      <td>0</td>\n",
       "      <td>0</td>\n",
       "      <td>0</td>\n",
       "      <td>1</td>\n",
       "      <td>0</td>\n",
       "      <td>0</td>\n",
       "    </tr>\n",
       "    <tr>\n",
       "      <th>604</th>\n",
       "      <td>129000</td>\n",
       "      <td>M</td>\n",
       "      <td>1</td>\n",
       "      <td>0</td>\n",
       "      <td>0</td>\n",
       "      <td>0</td>\n",
       "      <td>1</td>\n",
       "      <td>0</td>\n",
       "      <td>0</td>\n",
       "      <td>1</td>\n",
       "      <td>...</td>\n",
       "      <td>0</td>\n",
       "      <td>0</td>\n",
       "      <td>0</td>\n",
       "      <td>0</td>\n",
       "      <td>0</td>\n",
       "      <td>0</td>\n",
       "      <td>0</td>\n",
       "      <td>0</td>\n",
       "      <td>1</td>\n",
       "      <td>0</td>\n",
       "    </tr>\n",
       "    <tr>\n",
       "      <th>605</th>\n",
       "      <td>150000</td>\n",
       "      <td>M</td>\n",
       "      <td>1</td>\n",
       "      <td>0</td>\n",
       "      <td>0</td>\n",
       "      <td>0</td>\n",
       "      <td>1</td>\n",
       "      <td>0</td>\n",
       "      <td>0</td>\n",
       "      <td>1</td>\n",
       "      <td>...</td>\n",
       "      <td>0</td>\n",
       "      <td>0</td>\n",
       "      <td>0</td>\n",
       "      <td>0</td>\n",
       "      <td>0</td>\n",
       "      <td>0</td>\n",
       "      <td>0</td>\n",
       "      <td>1</td>\n",
       "      <td>0</td>\n",
       "      <td>0</td>\n",
       "    </tr>\n",
       "    <tr>\n",
       "      <th>606</th>\n",
       "      <td>200000</td>\n",
       "      <td>L</td>\n",
       "      <td>1</td>\n",
       "      <td>0</td>\n",
       "      <td>0</td>\n",
       "      <td>1</td>\n",
       "      <td>0</td>\n",
       "      <td>0</td>\n",
       "      <td>0</td>\n",
       "      <td>1</td>\n",
       "      <td>...</td>\n",
       "      <td>0</td>\n",
       "      <td>0</td>\n",
       "      <td>0</td>\n",
       "      <td>0</td>\n",
       "      <td>0</td>\n",
       "      <td>0</td>\n",
       "      <td>0</td>\n",
       "      <td>1</td>\n",
       "      <td>0</td>\n",
       "      <td>0</td>\n",
       "    </tr>\n",
       "  </tbody>\n",
       "</table>\n",
       "<p>607 rows × 64 columns</p>\n",
       "</div>"
      ],
      "text/plain": [
       "     salary_in_usd company_size  ano_recente  EN  EX  MI  SE  CT  FL  FT  ...  \\\n",
       "0            79833            L            0   0   0   1   0   0   0   1  ...   \n",
       "1           260000            S            0   0   0   0   1   0   0   1  ...   \n",
       "2           109024            M            0   0   0   0   1   0   0   1  ...   \n",
       "3            20000            S            0   0   0   1   0   0   0   1  ...   \n",
       "4           150000            L            0   0   0   0   1   0   0   1  ...   \n",
       "..             ...          ...          ...  ..  ..  ..  ..  ..  ..  ..  ...   \n",
       "602         154000            M            1   0   0   0   1   0   0   1  ...   \n",
       "603         126000            M            1   0   0   0   1   0   0   1  ...   \n",
       "604         129000            M            1   0   0   0   1   0   0   1  ...   \n",
       "605         150000            M            1   0   0   0   1   0   0   1  ...   \n",
       "606         200000            L            1   0   0   1   0   0   0   1  ...   \n",
       "\n",
       "     NLP Engineer  Principal Data Analyst  Principal Data Engineer  \\\n",
       "0               0                       0                        0   \n",
       "1               0                       0                        0   \n",
       "2               0                       0                        0   \n",
       "3               0                       0                        0   \n",
       "4               0                       0                        0   \n",
       "..            ...                     ...                      ...   \n",
       "602             0                       0                        0   \n",
       "603             0                       0                        0   \n",
       "604             0                       0                        0   \n",
       "605             0                       0                        0   \n",
       "606             0                       0                        0   \n",
       "\n",
       "     Principal Data Scientist  Product Data Analyst  Research Scientist  \\\n",
       "0                           0                     0                   0   \n",
       "1                           0                     0                   0   \n",
       "2                           0                     0                   0   \n",
       "3                           0                     1                   0   \n",
       "4                           0                     0                   0   \n",
       "..                        ...                   ...                 ...   \n",
       "602                         0                     0                   0   \n",
       "603                         0                     0                   0   \n",
       "604                         0                     0                   0   \n",
       "605                         0                     0                   0   \n",
       "606                         0                     0                   0   \n",
       "\n",
       "     Staff Data Scientist  remote_fully  remote_no  remote_partially  \n",
       "0                       0             0          1                 0  \n",
       "1                       0             0          1                 0  \n",
       "2                       0             0          0                 1  \n",
       "3                       0             0          1                 0  \n",
       "4                       0             0          0                 1  \n",
       "..                    ...           ...        ...               ...  \n",
       "602                     0             1          0                 0  \n",
       "603                     0             1          0                 0  \n",
       "604                     0             0          1                 0  \n",
       "605                     0             1          0                 0  \n",
       "606                     0             1          0                 0  \n",
       "\n",
       "[607 rows x 64 columns]"
      ]
     },
     "execution_count": 15,
     "metadata": {},
     "output_type": "execute_result"
    }
   ],
   "source": [
    "df_dummy"
   ]
  },
  {
   "cell_type": "code",
   "execution_count": 16,
   "id": "f6c8f028-2b86-4993-9763-69071ce51b6b",
   "metadata": {},
   "outputs": [
    {
     "data": {
      "text/plain": [
       "Index(['salary_in_usd', 'company_size', 'ano_recente', 'EN', 'EX', 'MI', 'SE',\n",
       "       'CT', 'FL', 'FT', 'PT', '3D Computer Vision Researcher', 'AI Scientist',\n",
       "       'Analytics Engineer', 'Applied Data Scientist',\n",
       "       'Applied Machine Learning Scientist', 'BI Data Analyst',\n",
       "       'Big Data Architect', 'Big Data Engineer', 'Business Data Analyst',\n",
       "       'Cloud Data Engineer', 'Computer Vision Engineer',\n",
       "       'Computer Vision Software Engineer', 'Data Analyst',\n",
       "       'Data Analytics Engineer', 'Data Analytics Lead',\n",
       "       'Data Analytics Manager', 'Data Architect', 'Data Engineer',\n",
       "       'Data Engineering Manager', 'Data Science Consultant',\n",
       "       'Data Science Engineer', 'Data Science Manager', 'Data Scientist',\n",
       "       'Data Specialist', 'Director of Data Engineering',\n",
       "       'Director of Data Science', 'ETL Developer', 'Finance Data Analyst',\n",
       "       'Financial Data Analyst', 'Head of Data', 'Head of Data Science',\n",
       "       'Head of Machine Learning', 'Lead Data Analyst', 'Lead Data Engineer',\n",
       "       'Lead Data Scientist', 'Lead Machine Learning Engineer', 'ML Engineer',\n",
       "       'Machine Learning Developer', 'Machine Learning Engineer',\n",
       "       'Machine Learning Infrastructure Engineer', 'Machine Learning Manager',\n",
       "       'Machine Learning Scientist', 'Marketing Data Analyst', 'NLP Engineer',\n",
       "       'Principal Data Analyst', 'Principal Data Engineer',\n",
       "       'Principal Data Scientist', 'Product Data Analyst',\n",
       "       'Research Scientist', 'Staff Data Scientist', 'remote_fully',\n",
       "       'remote_no', 'remote_partially'],\n",
       "      dtype='object')"
      ]
     },
     "execution_count": 16,
     "metadata": {},
     "output_type": "execute_result"
    }
   ],
   "source": [
    "df_dummy.columns"
   ]
  },
  {
   "cell_type": "markdown",
   "id": "19c50ab9-3c2e-423c-8d39-3030cc22ac8b",
   "metadata": {
    "tags": []
   },
   "source": [
    "### Processing\n",
    "2. Fit a Decision Tree to classify the size of company in which each data scientist work. This is represented by the feature ‘company_size’, which is the target variable. (3 points)\n",
    "\n",
    "    2.1. Set the maximum depth of the tree to 3. (1 point)\n",
    "\n",
    "    2.2. Plot the decision tree. (2 point)\n",
    "\n",
    "3. Interpret the results of the decision tree (3 points)\n",
    "\n",
    "    3.1. Write a paragraph interpreting the structure of the decision tree."
   ]
  },
  {
   "cell_type": "code",
   "execution_count": 17,
   "id": "69607439-6c07-4458-a6b1-212a9993a2bd",
   "metadata": {},
   "outputs": [],
   "source": [
    "y = df_dummy['company_size']"
   ]
  },
  {
   "cell_type": "code",
   "execution_count": 18,
   "id": "174838e5-9b4b-4365-b95d-27e58e2fc651",
   "metadata": {},
   "outputs": [],
   "source": [
    "x = df_dummy.drop(['company_size'], axis=1)"
   ]
  },
  {
   "cell_type": "code",
   "execution_count": 19,
   "id": "bc4c9540-236b-4323-8fe6-4174370ca092",
   "metadata": {},
   "outputs": [],
   "source": [
    "# Divisão em treinamento e teste\n",
    "\n",
    "x_train, x_test, y_train, y_test = train_test_split(x, y, test_size = 0.30, random_state=0)"
   ]
  },
  {
   "cell_type": "code",
   "execution_count": 20,
   "id": "db3df022-771a-4970-81a2-55ad3d057cc8",
   "metadata": {},
   "outputs": [
    {
     "data": {
      "text/plain": [
       "((424, 63), (183, 63))"
      ]
     },
     "execution_count": 20,
     "metadata": {},
     "output_type": "execute_result"
    }
   ],
   "source": [
    "x_train.shape, x_test.shape"
   ]
  },
  {
   "cell_type": "code",
   "execution_count": 21,
   "id": "d3e36e1c-17e9-4220-a781-0c7b5d90cb4d",
   "metadata": {},
   "outputs": [],
   "source": [
    "# y\n",
    "# x\n",
    "# x_train\n",
    "# x_test\n",
    "# y_train\n",
    "# y_test"
   ]
  },
  {
   "cell_type": "code",
   "execution_count": 22,
   "id": "5c15bbb2-d4cd-430d-8d29-892368c4a6b0",
   "metadata": {},
   "outputs": [],
   "source": [
    "# criamos nosso modelo básico de árvore de classificação -clf_gini\n",
    "model = DecisionTreeClassifier(criterion='gini', max_depth=3, random_state=0)"
   ]
  },
  {
   "cell_type": "code",
   "execution_count": 23,
   "id": "9cb480af-f46d-49ca-aca4-ef422783c534",
   "metadata": {},
   "outputs": [
    {
     "data": {
      "text/plain": [
       "DecisionTreeClassifier(max_depth=3, random_state=0)"
      ]
     },
     "execution_count": 23,
     "metadata": {},
     "output_type": "execute_result"
    }
   ],
   "source": [
    "# treinamos nossa árvore em nossos dados reservados para treinamento (x_train e y_train)\n",
    "model.fit(x_train, y_train)"
   ]
  },
  {
   "cell_type": "code",
   "execution_count": 24,
   "id": "59865cfb-f045-4b95-bf41-f8193068908e",
   "metadata": {},
   "outputs": [],
   "source": [
    "# damos ao nosso modelo dados que ele nunca viu antes\n",
    "predictions = model.predict(x_test)"
   ]
  },
  {
   "cell_type": "code",
   "execution_count": 25,
   "id": "31f2eedc-96f6-460c-8f5d-41f13e9ff37a",
   "metadata": {},
   "outputs": [
    {
     "data": {
      "text/plain": [
       "183"
      ]
     },
     "execution_count": 25,
     "metadata": {},
     "output_type": "execute_result"
    }
   ],
   "source": [
    "predictions.size"
   ]
  },
  {
   "cell_type": "code",
   "execution_count": 26,
   "id": "b5820a68-7809-4e42-aac7-2bf1c3347886",
   "metadata": {},
   "outputs": [
    {
     "data": {
      "text/plain": [
       "array(['M', 'L', 'M', 'M', 'L', 'L', 'M', 'M', 'L', 'M', 'M', 'M', 'L',\n",
       "       'M', 'M', 'M', 'M', 'M', 'M', 'M', 'L', 'L', 'L', 'M', 'L', 'M',\n",
       "       'L', 'L', 'L', 'M', 'M', 'M', 'M', 'L', 'L', 'M', 'M', 'M', 'M',\n",
       "       'M', 'L', 'L', 'L', 'M', 'M', 'M', 'M', 'M', 'L', 'M', 'M', 'M',\n",
       "       'M', 'M', 'M', 'L', 'M', 'M', 'L', 'L', 'L', 'L', 'M', 'L', 'M',\n",
       "       'M', 'L', 'L', 'M', 'L', 'M', 'M', 'M', 'L', 'L', 'L', 'L', 'L',\n",
       "       'M', 'L', 'M', 'M', 'M', 'M', 'L', 'M', 'M', 'L', 'M', 'L', 'M',\n",
       "       'L', 'L', 'L', 'M', 'L', 'L', 'M', 'L', 'L', 'M', 'L', 'L', 'M',\n",
       "       'M', 'M', 'M', 'L', 'L', 'M', 'L', 'M', 'L', 'L', 'L', 'M', 'M',\n",
       "       'M', 'M', 'M', 'L', 'L', 'M', 'L', 'M', 'M', 'L', 'L', 'L', 'L',\n",
       "       'M', 'M', 'M', 'M', 'M', 'M', 'L', 'M', 'L', 'M', 'M', 'M', 'L',\n",
       "       'M', 'M', 'L', 'M', 'L', 'M', 'M', 'L', 'L', 'M', 'M', 'L', 'L',\n",
       "       'L', 'L', 'L', 'M', 'M', 'L', 'M', 'L', 'M', 'L', 'M', 'L', 'L',\n",
       "       'M', 'M', 'M', 'M', 'L', 'M', 'M', 'L', 'M', 'M', 'M', 'L', 'L',\n",
       "       'L'], dtype=object)"
      ]
     },
     "execution_count": 26,
     "metadata": {},
     "output_type": "execute_result"
    }
   ],
   "source": [
    "predictions"
   ]
  },
  {
   "cell_type": "code",
   "execution_count": 27,
   "id": "8e87cda9-0306-4914-a300-d270ee475590",
   "metadata": {},
   "outputs": [
    {
     "data": {
      "text/plain": [
       "575    M\n",
       "52     S\n",
       "530    M\n",
       "345    M\n",
       "55     M\n",
       "      ..\n",
       "504    M\n",
       "354    M\n",
       "495    M\n",
       "452    L\n",
       "224    L\n",
       "Name: company_size, Length: 183, dtype: object"
      ]
     },
     "execution_count": 27,
     "metadata": {},
     "output_type": "execute_result"
    }
   ],
   "source": [
    "y_test"
   ]
  },
  {
   "cell_type": "code",
   "execution_count": 28,
   "id": "7b2262d9-1c28-454e-b1ea-9d1a880c074d",
   "metadata": {},
   "outputs": [
    {
     "data": {
      "text/plain": [
       "M    233\n",
       "L    137\n",
       "S     54\n",
       "Name: company_size, dtype: int64"
      ]
     },
     "execution_count": 28,
     "metadata": {},
     "output_type": "execute_result"
    }
   ],
   "source": [
    "y_train.value_counts()"
   ]
  },
  {
   "cell_type": "code",
   "execution_count": 29,
   "id": "1043394a-9edd-4f64-85b8-3f9597937a3f",
   "metadata": {},
   "outputs": [
    {
     "data": {
      "text/plain": [
       "array([0.11370652, 0.70842254, 0.        , 0.        , 0.        ,\n",
       "       0.        , 0.        , 0.        , 0.0162593 , 0.        ,\n",
       "       0.        , 0.        , 0.        , 0.06149657, 0.        ,\n",
       "       0.        , 0.        , 0.        , 0.        , 0.        ,\n",
       "       0.        , 0.        , 0.        , 0.        , 0.        ,\n",
       "       0.        , 0.        , 0.        , 0.        , 0.        ,\n",
       "       0.        , 0.        , 0.03871261, 0.        , 0.        ,\n",
       "       0.        , 0.        , 0.        , 0.        , 0.        ,\n",
       "       0.        , 0.        , 0.        , 0.        , 0.        ,\n",
       "       0.        , 0.        , 0.        , 0.        , 0.        ,\n",
       "       0.        , 0.        , 0.        , 0.        , 0.        ,\n",
       "       0.        , 0.        , 0.        , 0.        , 0.        ,\n",
       "       0.        , 0.        , 0.06140246])"
      ]
     },
     "execution_count": 29,
     "metadata": {},
     "output_type": "execute_result"
    }
   ],
   "source": [
    "model.feature_importances_"
   ]
  },
  {
   "cell_type": "code",
   "execution_count": 30,
   "id": "ae400d84-f3b9-491f-902b-cb998e8d9594",
   "metadata": {},
   "outputs": [
    {
     "data": {
      "text/plain": [
       "Index(['salary_in_usd', 'ano_recente', 'EN', 'EX', 'MI', 'SE', 'CT', 'FL',\n",
       "       'FT', 'PT', '3D Computer Vision Researcher', 'AI Scientist',\n",
       "       'Analytics Engineer', 'Applied Data Scientist',\n",
       "       'Applied Machine Learning Scientist', 'BI Data Analyst',\n",
       "       'Big Data Architect', 'Big Data Engineer', 'Business Data Analyst',\n",
       "       'Cloud Data Engineer', 'Computer Vision Engineer',\n",
       "       'Computer Vision Software Engineer', 'Data Analyst',\n",
       "       'Data Analytics Engineer', 'Data Analytics Lead',\n",
       "       'Data Analytics Manager', 'Data Architect', 'Data Engineer',\n",
       "       'Data Engineering Manager', 'Data Science Consultant',\n",
       "       'Data Science Engineer', 'Data Science Manager', 'Data Scientist',\n",
       "       'Data Specialist', 'Director of Data Engineering',\n",
       "       'Director of Data Science', 'ETL Developer', 'Finance Data Analyst',\n",
       "       'Financial Data Analyst', 'Head of Data', 'Head of Data Science',\n",
       "       'Head of Machine Learning', 'Lead Data Analyst', 'Lead Data Engineer',\n",
       "       'Lead Data Scientist', 'Lead Machine Learning Engineer', 'ML Engineer',\n",
       "       'Machine Learning Developer', 'Machine Learning Engineer',\n",
       "       'Machine Learning Infrastructure Engineer', 'Machine Learning Manager',\n",
       "       'Machine Learning Scientist', 'Marketing Data Analyst', 'NLP Engineer',\n",
       "       'Principal Data Analyst', 'Principal Data Engineer',\n",
       "       'Principal Data Scientist', 'Product Data Analyst',\n",
       "       'Research Scientist', 'Staff Data Scientist', 'remote_fully',\n",
       "       'remote_no', 'remote_partially'],\n",
       "      dtype='object')"
      ]
     },
     "execution_count": 30,
     "metadata": {},
     "output_type": "execute_result"
    }
   ],
   "source": [
    "x_train.columns\n",
    "#ano recente desempenha papel mais significativo na identificação do tamanho da empresa"
   ]
  },
  {
   "cell_type": "code",
   "execution_count": 31,
   "id": "2eb74f3e-d128-4a13-beb8-9f02ecacfba1",
   "metadata": {},
   "outputs": [
    {
     "data": {
      "image/png": "[encoded data removed]",
      "text/plain": [
       "<Figure size 1000x800 with 1 Axes>"
      ]
     },
     "metadata": {
      "needs_background": "light"
     },
     "output_type": "display_data"
    }
   ],
   "source": [
    "from sklearn.tree import plot_tree\n",
    "plt.figure(figsize=(10,8), dpi=100)\n",
    "plot_tree(model, feature_names=x.columns,filled=True);"
   ]
  },
  {
   "cell_type": "markdown",
   "id": "39b9e6d8-9716-4019-aa28-76c49ffdaefd",
   "metadata": {},
   "source": [
    "## árvore divida com os nós: \n",
    "    - ano_recente <= 0.5  (49%true, 51%false), \n",
    "      - salary_in_usd <= 12700 (5%true, 95%false),remote_partially <= 0,5 (10%true, 90%false), \n",
    "        - FT <= 0.5 (40%true, 60%false), salary_in_usd <= 13917 (0.8%true, 0.2%false), Applied Data Scientist <= 0.5 (0.99%true, 0.01%false) e Data Scientist <= 0.5(0.7%true, 0.3%false)\n"
   ]
  },
  {
   "cell_type": "markdown",
   "id": "db8a5a81-3779-435e-b17b-3879d59f3c1d",
   "metadata": {},
   "source": [
    "### Post-processing\n",
    "\n",
    "4. Measure the performance of the decision tree to make accurate predictions.\n",
    "\n",
    "    4.1. By hold-out cross-validation performance (3 points)\n",
    "\n",
    "        4.1.1.Estimate the accuracy, interpret the results. (1.5 points)\n",
    "\n",
    "        4.1.2.Estimate the Matthews correlation coefficient, interpret the results (1.5 points)"
   ]
  },
  {
   "cell_type": "code",
   "execution_count": 34,
   "id": "85ed993b-191f-4ee4-8908-d4b4ff179749",
   "metadata": {},
   "outputs": [
    {
     "name": "stdout",
     "output_type": "stream",
     "text": [
      "Model accuracy score with criterion gini index: 0.6831\n"
     ]
    }
   ],
   "source": [
    "print('Model accuracy score with criterion gini index: {0:0.4f}'. format(accuracy_score(y_test, predictions)))"
   ]
  },
  {
   "cell_type": "markdown",
   "id": "9551477b-9ddb-4370-9078-285f583c2ccf",
   "metadata": {},
   "source": [
    "68% de acerto na divisão da árvore"
   ]
  },
  {
   "cell_type": "code",
   "execution_count": 35,
   "id": "766ce6ca-c351-46ca-b9e9-10df86e4cd0e",
   "metadata": {},
   "outputs": [
    {
     "name": "stdout",
     "output_type": "stream",
     "text": [
      "Confusion matrix\n",
      "\n",
      " [[45 16  0]\n",
      " [13 80  0]\n",
      " [22  7  0]]\n"
     ]
    }
   ],
   "source": [
    "# Print the Confusion Matrix and slice it into four pieces\n",
    "\n",
    "cm = confusion_matrix(y_test, predictions)\n",
    "\n",
    "print('Confusion matrix\\n\\n', cm)"
   ]
  },
  {
   "cell_type": "code",
   "execution_count": 37,
   "id": "4fd4e0e4-027b-453d-bd27-66bef1b997d7",
   "metadata": {},
   "outputs": [
    {
     "data": {
      "text/plain": [
       "0.4603780019799986"
      ]
     },
     "execution_count": 37,
     "metadata": {},
     "output_type": "execute_result"
    }
   ],
   "source": [
    "matthews_corrcoef(y_test, predictions)"
   ]
  },
  {
   "cell_type": "markdown",
   "id": "0bacdf4c-6490-48e8-a56b-8c46867c4b0f",
   "metadata": {},
   "source": [
    "46% de qualidade nas classificações para o tamanho da empresa"
   ]
  },
  {
   "cell_type": "code",
   "execution_count": null,
   "id": "90f727c0-010a-4ecc-8e25-d7bf2f092c92",
   "metadata": {},
   "outputs": [],
   "source": []
  }
 ],
 "metadata": {
  "kernelspec": {
   "display_name": "Python 3 (ipykernel)",
   "language": "python",
   "name": "python3"
  },
  "language_info": {
   "codemirror_mode": {
    "name": "ipython",
    "version": 3
   },
   "file_extension": ".py",
   "mimetype": "text/x-python",
   "name": "python",
   "nbconvert_exporter": "python",
   "pygments_lexer": "ipython3",
   "version": "3.9.2"
  }
 },
 "nbformat": 4,
 "nbformat_minor": 5
}
