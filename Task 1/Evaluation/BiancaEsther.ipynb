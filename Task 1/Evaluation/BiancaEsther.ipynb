{
  "nbformat": 4,
  "nbformat_minor": 0,
  "metadata": {
    "colab": {
      "provenance": []
    },
    "kernelspec": {
      "name": "ir",
      "display_name": "R"
    },
    "language_info": {
      "name": "R"
    }
  },
  "cells": [
    {
      "cell_type": "code",
      "execution_count": 1,
      "metadata": {
        "colab": {
          "base_uri": "https://localhost:8080/"
        },
        "id": "gL2p2lXmESnY",
        "outputId": "473e4514-6d61-452e-9428-43d891ad6f75"
      },
      "outputs": [
        {
          "output_type": "stream",
          "name": "stderr",
          "text": [
            "Warning message in system(\"timedatectl\", intern = TRUE):\n",
            "“running command 'timedatectl' had status 1”\n",
            "── \u001b[1mAttaching packages\u001b[22m ─────────────────────────────────────── tidyverse 1.3.1 ──\n",
            "\n",
            "\u001b[32m✔\u001b[39m \u001b[34mtibble \u001b[39m 3.1.7      \u001b[32m✔\u001b[39m \u001b[34mdplyr  \u001b[39m 1.0.10\n",
            "\u001b[32m✔\u001b[39m \u001b[34mtidyr  \u001b[39m 1.2.0      \u001b[32m✔\u001b[39m \u001b[34mstringr\u001b[39m 1.4.1 \n",
            "\u001b[32m✔\u001b[39m \u001b[34mreadr  \u001b[39m 2.1.2      \u001b[32m✔\u001b[39m \u001b[34mforcats\u001b[39m 0.5.2 \n",
            "\u001b[32m✔\u001b[39m \u001b[34mpurrr  \u001b[39m 0.3.4      \n",
            "\n",
            "── \u001b[1mConflicts\u001b[22m ────────────────────────────────────────── tidyverse_conflicts() ──\n",
            "\u001b[31m✖\u001b[39m \u001b[34mdplyr\u001b[39m::\u001b[32mfilter()\u001b[39m masks \u001b[34mstats\u001b[39m::filter()\n",
            "\u001b[31m✖\u001b[39m \u001b[34mdplyr\u001b[39m::\u001b[32mlag()\u001b[39m    masks \u001b[34mstats\u001b[39m::lag()\n",
            "\n"
          ]
        }
      ],
      "source": [
        "##Carregar Pacotes#####\n",
        "\n",
        "library(ggplot2)\n",
        "library(readxl)\n",
        "library(tidyverse)"
      ]
    },
    {
      "cell_type": "code",
      "source": [
        "##Carregar o dataset Data Science Job Salaries no software utilizado##\n",
        "\n",
        "dados <- read.csv(\"https://raw.githubusercontent.com/renatoquiliche/DataScience-PUCRio-FB/main/Data/DS_salarios/ds_salaries.csv\")"
      ],
      "metadata": {
        "id": "e0aD_a6wEdUg"
      },
      "execution_count": 2,
      "outputs": []
    },
    {
      "cell_type": "code",
      "source": [
        "#gerar estatísticas descritivas#\n",
        "\n",
        "mean(dados$salary_in_usd) # média dos salários em dólar\n",
        "\n",
        "median(dados$salary_in_usd) # mediana dos salários em dólar\n",
        "\n",
        "var(dados$salary_in_usd) # variância dos salários em dólar\n",
        "\n",
        "summary(dados) #resumo de outras estatísticas"
      ],
      "metadata": {
        "colab": {
          "base_uri": "https://localhost:8080/",
          "height": 555
        },
        "id": "KU8-7ilTEjbz",
        "outputId": "b84e110f-64a7-4139-802f-76ddf30a762e"
      },
      "execution_count": 3,
      "outputs": [
        {
          "output_type": "display_data",
          "data": {
            "text/html": [
              "112297.86985173"
            ],
            "text/markdown": "112297.86985173",
            "text/latex": "112297.86985173",
            "text/plain": [
              "[1] 112297.9"
            ]
          },
          "metadata": {}
        },
        {
          "output_type": "display_data",
          "data": {
            "text/html": [
              "101570"
            ],
            "text/markdown": "101570",
            "text/latex": "101570",
            "text/plain": [
              "[1] 101570"
            ]
          },
          "metadata": {}
        },
        {
          "output_type": "display_data",
          "data": {
            "text/html": [
              "5034932663.1761"
            ],
            "text/markdown": "5034932663.1761",
            "text/latex": "5034932663.1761",
            "text/plain": [
              "[1] 5034932663"
            ]
          },
          "metadata": {}
        },
        {
          "output_type": "display_data",
          "data": {
            "text/plain": [
              "       X           work_year      work_month     experience_level  \n",
              " Min.   :  0.0   Min.   :2020   Min.   : 1.000   Length:607        \n",
              " 1st Qu.:151.5   1st Qu.:2021   1st Qu.: 4.000   Class :character  \n",
              " Median :303.0   Median :2022   Median : 6.000   Mode  :character  \n",
              " Mean   :303.0   Mean   :2021   Mean   : 6.473                     \n",
              " 3rd Qu.:454.5   3rd Qu.:2022   3rd Qu.: 9.000                     \n",
              " Max.   :606.0   Max.   :2022   Max.   :12.000                     \n",
              " employment_type     job_title             salary         salary_currency   \n",
              " Length:607         Length:607         Min.   :    4000   Length:607        \n",
              " Class :character   Class :character   1st Qu.:   70000   Class :character  \n",
              " Mode  :character   Mode  :character   Median :  115000   Mode  :character  \n",
              "                                       Mean   :  324000                     \n",
              "                                       3rd Qu.:  165000                     \n",
              "                                       Max.   :30400000                     \n",
              " salary_in_usd    employee_residence  remote_ratio    company_location  \n",
              " Min.   :  2859   Length:607         Min.   :  0.00   Length:607        \n",
              " 1st Qu.: 62726   Class :character   1st Qu.: 50.00   Class :character  \n",
              " Median :101570   Mode  :character   Median :100.00   Mode  :character  \n",
              " Mean   :112298                      Mean   : 70.92                     \n",
              " 3rd Qu.:150000                      3rd Qu.:100.00                     \n",
              " Max.   :600000                      Max.   :100.00                     \n",
              " company_size      \n",
              " Length:607        \n",
              " Class :character  \n",
              " Mode  :character  \n",
              "                   \n",
              "                   \n",
              "                   "
            ]
          },
          "metadata": {}
        }
      ]
    },
    {
      "cell_type": "code",
      "source": [
        "#------------------------------------------------------------------------#\n",
        "#Aplicar uma técnica de amostragem (sugestão: aplicar bootstrap)#\n",
        "#Bootstrapping é uma técnica de reamostragem para se realizar inferências sobre acurácia de estimativas por amostras. #\n",
        "\n",
        "\n",
        "# Criar um vetor para armazenar o valor da reamostragem:\n",
        "reamostras = rep(NA, 10000)\n",
        "\n",
        "# Simular a reamostragem 10.000 vezes:\n",
        "for (i in 1:10000) {\n",
        "  reamostra = sample(dados$salary_in_usd, replace = T) # Reamostragem dos salários com reposição\n",
        "  reamostras[i] = mean(reamostra) # Calcular a média de cada reamostra\n",
        "}\n",
        "\n",
        "# Transformar o vetor em formato tidy:\n",
        "reamostras = data.frame(salarios = reamostras)\n",
        "\n",
        "# Criar o gráfico de distribuição da média bootstrap:\n",
        "reamostras  %>%\n",
        "  ggplot(aes(x = salarios)) +\n",
        "  geom_histogram(alpha = 0.3, fill = \"red\") +\n",
        "  labs(\n",
        "    title = \"Distribuição dos Salários da Reamostragem\",\n",
        "    subtitle = paste0(\"Media: \", round(mean(dados$salary_in_usd),1),\".\")\n",
        "  ) + \n",
        "  theme_light()"
      ],
      "metadata": {
        "colab": {
          "base_uri": "https://localhost:8080/",
          "height": 472
        },
        "id": "vNsAMNmwEvW0",
        "outputId": "b737a032-e9bf-4b59-e8a8-377b4c21d79d"
      },
      "execution_count": 5,
      "outputs": [
        {
          "output_type": "stream",
          "name": "stderr",
          "text": [
            "`stat_bin()` using `bins = 30`. Pick better value with `binwidth`.\n",
            "\n"
          ]
        },
        {
          "output_type": "display_data",
          "data": {
            "text/plain": [
              "plot without title"
            ],
            "image/png": "[encoded data removed]"
          },
          "metadata": {
            "image/png": {
              "width": 420,
              "height": 420
            }
          }
        }
      ]
    },
    {
      "cell_type": "code",
      "source": [
        "#------------------------------------------------------------------------#\n",
        "#Aplicar uma técnica de discretização (sugestão: transformar variável numérica em quantiles)#\n",
        "\n",
        "#Categorizar a coluna de salários em USD em faixas salariais#\n",
        "\n",
        "dados$faixa_salarial<-rep(NA,length(dados$salary_in_usd))\n",
        "summary(dados$salary_in_usd)\n",
        "sd(dados$salary_in_usd,na.rm=T)\n",
        "dados$faixa_salarial[dados$salary_in_usd<summary(dados$salary_in_usd)[2]]<-'Salario muito baixo'\n",
        "dados$faixa_salarial[summary(dados$salary_in_usd)[2]<=dados$salary_in_usd&dados$salary_in_usd<summary(dados$salary_in_usd)[3]]<-'Salario baixo'\n",
        "dados$faixa_salarial[summary(dados$salary_in_usd)[3]<=dados$salary_in_usd&dados$salary_in_usd<summary(dados$salary_in_usd)[5]]<-'Salario medio'\n",
        "dados$faixa_salarial[dados$salary_in_usd>=summary(dados$salary_in_usd)[5]]<-'Salario alto'"
      ],
      "metadata": {
        "colab": {
          "base_uri": "https://localhost:8080/",
          "height": 69
        },
        "id": "yjlEeVVTFFMA",
        "outputId": "53b2530d-30c2-4942-e97f-ca60deb08a88"
      },
      "execution_count": 6,
      "outputs": [
        {
          "output_type": "display_data",
          "data": {
            "text/plain": [
              "   Min. 1st Qu.  Median    Mean 3rd Qu.    Max. \n",
              "   2859   62726  101570  112298  150000  600000 "
            ]
          },
          "metadata": {}
        },
        {
          "output_type": "display_data",
          "data": {
            "text/html": [
              "70957.2594113957"
            ],
            "text/markdown": "70957.2594113957",
            "text/latex": "70957.2594113957",
            "text/plain": [
              "[1] 70957.26"
            ]
          },
          "metadata": {}
        }
      ]
    },
    {
      "cell_type": "code",
      "source": [
        "table(dados$faixa_salarial)"
      ],
      "metadata": {
        "colab": {
          "base_uri": "https://localhost:8080/",
          "height": 69
        },
        "id": "sDGHRhfHFMfI",
        "outputId": "f2c1fbdf-c7d4-4f3f-9735-16cb5f250f98"
      },
      "execution_count": 8,
      "outputs": [
        {
          "output_type": "display_data",
          "data": {
            "text/plain": [
              "\n",
              "       Salario alto       Salario baixo       Salario medio Salario muito baixo \n",
              "                159                 152                 145                 151 "
            ]
          },
          "metadata": {}
        }
      ]
    },
    {
      "cell_type": "code",
      "source": [
        "#------------------------------------------------------------------------#\n",
        "#Aplicar uma técnica de Feature Engineering \n",
        "#(sugestão: aplicar uma funçao que transforme os campos de ano e mês na quantidade de meses transcorrido desde uma data inicial. Por exemplo, ano 2020/mês 6 representariam 30 meses de antiguidade)#\n",
        "\n",
        "j = length(dados$salary_in_usd)\n",
        "intervalo_meses<-c()\n",
        "for(i in 1:j) {intervalo_meses[i]=(((dados$work_year[i]-1996)*12)+((12-5)+1)+((dados$work_month[i]-1)))}\n",
        "dados$intervalo_meses\n",
        "tail(dados)"
      ],
      "metadata": {
        "colab": {
          "base_uri": "https://localhost:8080/",
          "height": 428
        },
        "id": "-KTuWCdHFdix",
        "outputId": "a28229a9-5132-4557-a7b0-107ec2f5e2d5"
      },
      "execution_count": 11,
      "outputs": [
        {
          "output_type": "display_data",
          "data": {
            "text/plain": [
              "NULL"
            ]
          },
          "metadata": {}
        },
        {
          "output_type": "display_data",
          "data": {
            "text/html": [
              "<table class=\"dataframe\">\n",
              "<caption>A data.frame: 6 × 14</caption>\n",
              "<thead>\n",
              "\t<tr><th></th><th scope=col>X</th><th scope=col>work_year</th><th scope=col>work_month</th><th scope=col>experience_level</th><th scope=col>employment_type</th><th scope=col>job_title</th><th scope=col>salary</th><th scope=col>salary_currency</th><th scope=col>salary_in_usd</th><th scope=col>employee_residence</th><th scope=col>remote_ratio</th><th scope=col>company_location</th><th scope=col>company_size</th><th scope=col>faixa_salarial</th></tr>\n",
              "\t<tr><th></th><th scope=col>&lt;int&gt;</th><th scope=col>&lt;int&gt;</th><th scope=col>&lt;int&gt;</th><th scope=col>&lt;chr&gt;</th><th scope=col>&lt;chr&gt;</th><th scope=col>&lt;chr&gt;</th><th scope=col>&lt;int&gt;</th><th scope=col>&lt;chr&gt;</th><th scope=col>&lt;int&gt;</th><th scope=col>&lt;chr&gt;</th><th scope=col>&lt;int&gt;</th><th scope=col>&lt;chr&gt;</th><th scope=col>&lt;chr&gt;</th><th scope=col>&lt;chr&gt;</th></tr>\n",
              "</thead>\n",
              "<tbody>\n",
              "\t<tr><th scope=row>602</th><td>601</td><td>2022</td><td> 7</td><td>EN</td><td>FT</td><td>Data Analyst </td><td> 52000</td><td>USD</td><td> 52000</td><td>CA</td><td>  0</td><td>CA</td><td>M</td><td>Salario muito baixo</td></tr>\n",
              "\t<tr><th scope=row>603</th><td>602</td><td>2022</td><td> 5</td><td>SE</td><td>FT</td><td>Data Engineer</td><td>154000</td><td>USD</td><td>154000</td><td>US</td><td>100</td><td>US</td><td>M</td><td>Salario alto       </td></tr>\n",
              "\t<tr><th scope=row>604</th><td>603</td><td>2022</td><td> 6</td><td>SE</td><td>FT</td><td>Data Engineer</td><td>126000</td><td>USD</td><td>126000</td><td>US</td><td>100</td><td>US</td><td>M</td><td>Salario medio      </td></tr>\n",
              "\t<tr><th scope=row>605</th><td>604</td><td>2022</td><td>11</td><td>SE</td><td>FT</td><td>Data Analyst </td><td>129000</td><td>USD</td><td>129000</td><td>US</td><td>  0</td><td>US</td><td>M</td><td>Salario medio      </td></tr>\n",
              "\t<tr><th scope=row>606</th><td>605</td><td>2022</td><td> 2</td><td>SE</td><td>FT</td><td>Data Analyst </td><td>150000</td><td>USD</td><td>150000</td><td>US</td><td>100</td><td>US</td><td>M</td><td>Salario alto       </td></tr>\n",
              "\t<tr><th scope=row>607</th><td>606</td><td>2022</td><td> 3</td><td>MI</td><td>FT</td><td>AI Scientist </td><td>200000</td><td>USD</td><td>200000</td><td>IN</td><td>100</td><td>US</td><td>L</td><td>Salario alto       </td></tr>\n",
              "</tbody>\n",
              "</table>\n"
            ],
            "text/markdown": "\nA data.frame: 6 × 14\n\n| <!--/--> | X &lt;int&gt; | work_year &lt;int&gt; | work_month &lt;int&gt; | experience_level &lt;chr&gt; | employment_type &lt;chr&gt; | job_title &lt;chr&gt; | salary &lt;int&gt; | salary_currency &lt;chr&gt; | salary_in_usd &lt;int&gt; | employee_residence &lt;chr&gt; | remote_ratio &lt;int&gt; | company_location &lt;chr&gt; | company_size &lt;chr&gt; | faixa_salarial &lt;chr&gt; |\n|---|---|---|---|---|---|---|---|---|---|---|---|---|---|---|\n| 602 | 601 | 2022 |  7 | EN | FT | Data Analyst  |  52000 | USD |  52000 | CA |   0 | CA | M | Salario muito baixo |\n| 603 | 602 | 2022 |  5 | SE | FT | Data Engineer | 154000 | USD | 154000 | US | 100 | US | M | Salario alto        |\n| 604 | 603 | 2022 |  6 | SE | FT | Data Engineer | 126000 | USD | 126000 | US | 100 | US | M | Salario medio       |\n| 605 | 604 | 2022 | 11 | SE | FT | Data Analyst  | 129000 | USD | 129000 | US |   0 | US | M | Salario medio       |\n| 606 | 605 | 2022 |  2 | SE | FT | Data Analyst  | 150000 | USD | 150000 | US | 100 | US | M | Salario alto        |\n| 607 | 606 | 2022 |  3 | MI | FT | AI Scientist  | 200000 | USD | 200000 | IN | 100 | US | L | Salario alto        |\n\n",
            "text/latex": "A data.frame: 6 × 14\n\\begin{tabular}{r|llllllllllllll}\n  & X & work\\_year & work\\_month & experience\\_level & employment\\_type & job\\_title & salary & salary\\_currency & salary\\_in\\_usd & employee\\_residence & remote\\_ratio & company\\_location & company\\_size & faixa\\_salarial\\\\\n  & <int> & <int> & <int> & <chr> & <chr> & <chr> & <int> & <chr> & <int> & <chr> & <int> & <chr> & <chr> & <chr>\\\\\n\\hline\n\t602 & 601 & 2022 &  7 & EN & FT & Data Analyst  &  52000 & USD &  52000 & CA &   0 & CA & M & Salario muito baixo\\\\\n\t603 & 602 & 2022 &  5 & SE & FT & Data Engineer & 154000 & USD & 154000 & US & 100 & US & M & Salario alto       \\\\\n\t604 & 603 & 2022 &  6 & SE & FT & Data Engineer & 126000 & USD & 126000 & US & 100 & US & M & Salario medio      \\\\\n\t605 & 604 & 2022 & 11 & SE & FT & Data Analyst  & 129000 & USD & 129000 & US &   0 & US & M & Salario medio      \\\\\n\t606 & 605 & 2022 &  2 & SE & FT & Data Analyst  & 150000 & USD & 150000 & US & 100 & US & M & Salario alto       \\\\\n\t607 & 606 & 2022 &  3 & MI & FT & AI Scientist  & 200000 & USD & 200000 & IN & 100 & US & L & Salario alto       \\\\\n\\end{tabular}\n",
            "text/plain": [
              "    X   work_year work_month experience_level employment_type job_title    \n",
              "602 601 2022       7         EN               FT              Data Analyst \n",
              "603 602 2022       5         SE               FT              Data Engineer\n",
              "604 603 2022       6         SE               FT              Data Engineer\n",
              "605 604 2022      11         SE               FT              Data Analyst \n",
              "606 605 2022       2         SE               FT              Data Analyst \n",
              "607 606 2022       3         MI               FT              AI Scientist \n",
              "    salary salary_currency salary_in_usd employee_residence remote_ratio\n",
              "602  52000 USD              52000        CA                   0         \n",
              "603 154000 USD             154000        US                 100         \n",
              "604 126000 USD             126000        US                 100         \n",
              "605 129000 USD             129000        US                   0         \n",
              "606 150000 USD             150000        US                 100         \n",
              "607 200000 USD             200000        IN                 100         \n",
              "    company_location company_size faixa_salarial     \n",
              "602 CA               M            Salario muito baixo\n",
              "603 US               M            Salario alto       \n",
              "604 US               M            Salario medio      \n",
              "605 US               M            Salario medio      \n",
              "606 US               M            Salario alto       \n",
              "607 US               L            Salario alto       "
            ]
          },
          "metadata": {}
        }
      ]
    },
    {
      "cell_type": "markdown",
      "source": [
        "**Observations: this code is clear and it includes a visualization of bootstrap, the sample() function is ok to perform bootstrap on a single column. To use the bootstrap method for data-mining it would be helpfull to research other methods that can bootstrap an entire dataframe, as all the features will be required to train algorithms on re-sampled dataframes.**"
      ],
      "metadata": {
        "id": "F0fnOuDaGZu7"
      }
    }
  ]
}