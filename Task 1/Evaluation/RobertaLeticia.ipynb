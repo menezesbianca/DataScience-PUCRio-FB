{
  "nbformat": 4,
  "nbformat_minor": 0,
  "metadata": {
    "colab": {
      "provenance": [],
      "authorship_tag": "ABX9TyOkeUoI+MjgSkkx6YdKh9no",
      "include_colab_link": true
    },
    "kernelspec": {
      "name": "ir",
      "display_name": "R"
    },
    "language_info": {
      "name": "R"
    }
  },
  "cells": [
    {
      "cell_type": "markdown",
      "metadata": {
        "id": "view-in-github",
        "colab_type": "text"
      },
      "source": [
        "<a href=\"https://colab.research.google.com/github/renatoquiliche/DataScience-PUCRio-FB/blob/main/Task%201/RobertaLeticia.ipynb\" target=\"_parent\"><img src=\"https://colab.research.google.com/assets/colab-badge.svg\" alt=\"Open In Colab\"/></a>"
      ]
    },
    {
      "cell_type": "code",
      "execution_count": 8,
      "metadata": {
        "colab": {
          "base_uri": "https://localhost:8080/"
        },
        "id": "Qn9pyxIcfkRC",
        "outputId": "6f24bd49-b5f1-4d4a-d51d-f74d4ed7159a"
      },
      "outputs": [
        {
          "output_type": "stream",
          "name": "stderr",
          "text": [
            "Loading required package: lattice\n",
            "\n",
            "Loading required package: survival\n",
            "\n",
            "Loading required package: Formula\n",
            "\n",
            "Loading required package: ggplot2\n",
            "\n",
            "\n",
            "Attaching package: ‘Hmisc’\n",
            "\n",
            "\n",
            "The following objects are masked from ‘package:dplyr’:\n",
            "\n",
            "    src, summarize\n",
            "\n",
            "\n",
            "The following objects are masked from ‘package:base’:\n",
            "\n",
            "    format.pval, units\n",
            "\n",
            "\n"
          ]
        }
      ],
      "source": [
        "#1)Carregar o dataset Data Science Job Salaries no software utilizado e \n",
        "#gerar estatísticas descritivas (extra: desenvolver os exercícios 1, 2, 3 e 4 usando o \n",
        "#dataset do seus projetos da disciplina)\n",
        "\n",
        "library(data.table)\n",
        "library(dplyr)\n",
        "df <- read.csv(\"https://raw.githubusercontent.com/renatoquiliche/DataScience-PUCRio-FB/main/Data/DS_salarios/ds_salaries.csv\")\n",
        "\n",
        "library(Hmisc)\n",
        "\n",
        "\n",
        "#install.packages('data.table')\n",
        "library(data.table)"
      ]
    },
    {
      "cell_type": "code",
      "source": [
        "summary(df)  \n",
        "#mostra um resumo estatístico de df, como mínimos, medianas, médias, tamanho, \n",
        "#máximos, dentre outros."
      ],
      "metadata": {
        "colab": {
          "base_uri": "https://localhost:8080/",
          "height": 503
        },
        "id": "9kmH9v5PgT75",
        "outputId": "522e085b-e5c2-446a-ff1e-4450c4a7873c"
      },
      "execution_count": 9,
      "outputs": [
        {
          "output_type": "display_data",
          "data": {
            "text/plain": [
              "       X           work_year      work_month     experience_level  \n",
              " Min.   :  0.0   Min.   :2020   Min.   : 1.000   Length:607        \n",
              " 1st Qu.:151.5   1st Qu.:2021   1st Qu.: 4.000   Class :character  \n",
              " Median :303.0   Median :2022   Median : 6.000   Mode  :character  \n",
              " Mean   :303.0   Mean   :2021   Mean   : 6.473                     \n",
              " 3rd Qu.:454.5   3rd Qu.:2022   3rd Qu.: 9.000                     \n",
              " Max.   :606.0   Max.   :2022   Max.   :12.000                     \n",
              " employment_type     job_title             salary         salary_currency   \n",
              " Length:607         Length:607         Min.   :    4000   Length:607        \n",
              " Class :character   Class :character   1st Qu.:   70000   Class :character  \n",
              " Mode  :character   Mode  :character   Median :  115000   Mode  :character  \n",
              "                                       Mean   :  324000                     \n",
              "                                       3rd Qu.:  165000                     \n",
              "                                       Max.   :30400000                     \n",
              " salary_in_usd    employee_residence  remote_ratio    company_location  \n",
              " Min.   :  2859   Length:607         Min.   :  0.00   Length:607        \n",
              " 1st Qu.: 62726   Class :character   1st Qu.: 50.00   Class :character  \n",
              " Median :101570   Mode  :character   Median :100.00   Mode  :character  \n",
              " Mean   :112298                      Mean   : 70.92                     \n",
              " 3rd Qu.:150000                      3rd Qu.:100.00                     \n",
              " Max.   :600000                      Max.   :100.00                     \n",
              " company_size      \n",
              " Length:607        \n",
              " Class :character  \n",
              " Mode  :character  \n",
              "                   \n",
              "                   \n",
              "                   "
            ]
          },
          "metadata": {}
        }
      ]
    },
    {
      "cell_type": "code",
      "source": [
        "# 2) Aplicar uma técnica de amostragem (sugestão: aplicar bootstrap)\n",
        "transpose(sample(transpose(df), size = 200, replace = TRUE)) "
      ],
      "metadata": {
        "colab": {
          "base_uri": "https://localhost:8080/",
          "height": 1000
        },
        "id": "Z0fW0HgZgZEQ",
        "outputId": "f844616f-73eb-4263-b372-66e2c8532ab5"
      },
      "execution_count": 10,
      "outputs": [
        {
          "output_type": "display_data",
          "data": {
            "text/html": [
              "<table class=\"dataframe\">\n",
              "<caption>A data.frame: 200 × 13</caption>\n",
              "<thead>\n",
              "\t<tr><th scope=col>V1</th><th scope=col>V2</th><th scope=col>V3</th><th scope=col>V4</th><th scope=col>V5</th><th scope=col>V6</th><th scope=col>V7</th><th scope=col>V8</th><th scope=col>V9</th><th scope=col>V10</th><th scope=col>V11</th><th scope=col>V12</th><th scope=col>V13</th></tr>\n",
              "\t<tr><th scope=col>&lt;chr&gt;</th><th scope=col>&lt;chr&gt;</th><th scope=col>&lt;chr&gt;</th><th scope=col>&lt;chr&gt;</th><th scope=col>&lt;chr&gt;</th><th scope=col>&lt;chr&gt;</th><th scope=col>&lt;chr&gt;</th><th scope=col>&lt;chr&gt;</th><th scope=col>&lt;chr&gt;</th><th scope=col>&lt;chr&gt;</th><th scope=col>&lt;chr&gt;</th><th scope=col>&lt;chr&gt;</th><th scope=col>&lt;chr&gt;</th></tr>\n",
              "</thead>\n",
              "<tbody>\n",
              "\t<tr><td>526</td><td>2022</td><td>3 </td><td>MI</td><td>FT</td><td>Data Scientist                    </td><td>78000 </td><td>USD</td><td>78000 </td><td>US</td><td>100</td><td>US</td><td>M</td></tr>\n",
              "\t<tr><td>305</td><td>2022</td><td>1 </td><td>SE</td><td>FT</td><td>Data Analyst                      </td><td>99000 </td><td>USD</td><td>99000 </td><td>US</td><td>0  </td><td>US</td><td>M</td></tr>\n",
              "\t<tr><td>403</td><td>2022</td><td>6 </td><td>SE</td><td>FT</td><td>Data Analyst                      </td><td>81666 </td><td>USD</td><td>81666 </td><td>US</td><td>0  </td><td>US</td><td>M</td></tr>\n",
              "\t<tr><td>551</td><td>2022</td><td>9 </td><td>SE</td><td>FT</td><td>Data Scientist                    </td><td>140400</td><td>USD</td><td>140400</td><td>US</td><td>0  </td><td>US</td><td>L</td></tr>\n",
              "\t<tr><td>466</td><td>2022</td><td>4 </td><td>SE</td><td>FT</td><td>Research Scientist                </td><td>144000</td><td>USD</td><td>144000</td><td>US</td><td>50 </td><td>US</td><td>L</td></tr>\n",
              "\t<tr><td>559</td><td>2022</td><td>11</td><td>SE</td><td>FT</td><td>Data Scientist                    </td><td>140400</td><td>USD</td><td>140400</td><td>US</td><td>0  </td><td>US</td><td>M</td></tr>\n",
              "\t<tr><td>228</td><td>2021</td><td>11</td><td>SE</td><td>FT</td><td>Data Scientist                    </td><td>135000</td><td>USD</td><td>135000</td><td>US</td><td>0  </td><td>US</td><td>L</td></tr>\n",
              "\t<tr><td>436</td><td>2022</td><td>8 </td><td>MI</td><td>FT</td><td>Data Engineer                     </td><td>60000 </td><td>EUR</td><td>65949 </td><td>ES</td><td>100</td><td>ES</td><td>M</td></tr>\n",
              "\t<tr><td>152</td><td>2021</td><td>10</td><td>MI</td><td>FT</td><td>Data Scientist                    </td><td>95000 </td><td>CAD</td><td>75774 </td><td>CA</td><td>100</td><td>CA</td><td>L</td></tr>\n",
              "\t<tr><td>155</td><td>2021</td><td>10</td><td>SE</td><td>FT</td><td>Data Science Engineer             </td><td>159500</td><td>CAD</td><td>127221</td><td>CA</td><td>50 </td><td>CA</td><td>L</td></tr>\n",
              "\t<tr><td>6  </td><td>2020</td><td>2 </td><td>SE</td><td>FT</td><td>Lead Data Scientist               </td><td>190000</td><td>USD</td><td>190000</td><td>US</td><td>100</td><td>US</td><td>S</td></tr>\n",
              "\t<tr><td>340</td><td>2022</td><td>10</td><td>SE</td><td>FT</td><td>Data Engineer                     </td><td>128875</td><td>USD</td><td>128875</td><td>US</td><td>100</td><td>US</td><td>M</td></tr>\n",
              "\t<tr><td>284</td><td>2021</td><td>10</td><td>MI</td><td>FT</td><td>Research Scientist                </td><td>69999 </td><td>USD</td><td>69999 </td><td>CZ</td><td>50 </td><td>CZ</td><td>L</td></tr>\n",
              "\t<tr><td>241</td><td>2021</td><td>6 </td><td>MI</td><td>FT</td><td>Data Analyst                      </td><td>80000 </td><td>USD</td><td>80000 </td><td>US</td><td>100</td><td>US</td><td>L</td></tr>\n",
              "\t<tr><td>593</td><td>2022</td><td>1 </td><td>SE</td><td>FT</td><td>Data Scientist                    </td><td>150000</td><td>USD</td><td>150000</td><td>US</td><td>100</td><td>US</td><td>M</td></tr>\n",
              "\t<tr><td>533</td><td>2022</td><td>8 </td><td>SE</td><td>FT</td><td>Machine Learning Engineer         </td><td>192600</td><td>USD</td><td>192600</td><td>US</td><td>100</td><td>US</td><td>M</td></tr>\n",
              "\t<tr><td>249</td><td>2021</td><td>6 </td><td>SE</td><td>FT</td><td>Principal Data Analyst            </td><td>170000</td><td>USD</td><td>170000</td><td>US</td><td>100</td><td>US</td><td>M</td></tr>\n",
              "\t<tr><td>145</td><td>2021</td><td>12</td><td>SE</td><td>FT</td><td>Machine Learning Engineer         </td><td>70000 </td><td>EUR</td><td>82744 </td><td>BE</td><td>50 </td><td>BE</td><td>M</td></tr>\n",
              "\t<tr><td>348</td><td>2022</td><td>9 </td><td>SE</td><td>FT</td><td>Data Engineer                     </td><td>113000</td><td>USD</td><td>113000</td><td>US</td><td>0  </td><td>US</td><td>L</td></tr>\n",
              "\t<tr><td>220</td><td>2021</td><td>8 </td><td>MI</td><td>FT</td><td>Machine Learning Engineer         </td><td>180000</td><td>PLN</td><td>46597 </td><td>PL</td><td>100</td><td>PL</td><td>L</td></tr>\n",
              "\t<tr><td>15 </td><td>2020</td><td>7 </td><td>MI</td><td>FT</td><td>Data Analyst                      </td><td>8000  </td><td>USD</td><td>8000  </td><td>PK</td><td>50 </td><td>PK</td><td>L</td></tr>\n",
              "\t<tr><td>401</td><td>2022</td><td>7 </td><td>SE</td><td>FT</td><td>Data Engineer                     </td><td>154600</td><td>USD</td><td>154600</td><td>US</td><td>100</td><td>US</td><td>L</td></tr>\n",
              "\t<tr><td>301</td><td>2022</td><td>8 </td><td>SE</td><td>FT</td><td>Data Scientist                    </td><td>80000 </td><td>GBP</td><td>104702</td><td>GB</td><td>0  </td><td>GB</td><td>M</td></tr>\n",
              "\t<tr><td>81 </td><td>2021</td><td>7 </td><td>MI</td><td>FT</td><td>Data Engineer                     </td><td>140000</td><td>USD</td><td>140000</td><td>US</td><td>100</td><td>US</td><td>L</td></tr>\n",
              "\t<tr><td>9  </td><td>2020</td><td>6 </td><td>SE</td><td>FT</td><td>Lead Data Engineer                </td><td>125000</td><td>USD</td><td>125000</td><td>NZ</td><td>50 </td><td>NZ</td><td>S</td></tr>\n",
              "\t<tr><td>181</td><td>2021</td><td>12</td><td>MI</td><td>FT</td><td>Data Scientist                    </td><td>76760 </td><td>EUR</td><td>90734 </td><td>DE</td><td>50 </td><td>DE</td><td>L</td></tr>\n",
              "\t<tr><td>489</td><td>2022</td><td>6 </td><td>EN</td><td>CT</td><td>Applied Machine Learning Scientist</td><td>29000 </td><td>EUR</td><td>31875 </td><td>TN</td><td>100</td><td>CZ</td><td>M</td></tr>\n",
              "\t<tr><td>142</td><td>2021</td><td>11</td><td>SE</td><td>FT</td><td>Data Engineering Manager          </td><td>150000</td><td>USD</td><td>150000</td><td>US</td><td>0  </td><td>US</td><td>L</td></tr>\n",
              "\t<tr><td>128</td><td>2021</td><td>5 </td><td>EN</td><td>FT</td><td>Machine Learning Engineer         </td><td>20000 </td><td>USD</td><td>20000 </td><td>IN</td><td>100</td><td>IN</td><td>S</td></tr>\n",
              "\t<tr><td>552</td><td>2022</td><td>9 </td><td>SE</td><td>FT</td><td>Data Scientist                    </td><td>176000</td><td>USD</td><td>176000</td><td>US</td><td>100</td><td>US</td><td>M</td></tr>\n",
              "\t<tr><td>⋮</td><td>⋮</td><td>⋮</td><td>⋮</td><td>⋮</td><td>⋮</td><td>⋮</td><td>⋮</td><td>⋮</td><td>⋮</td><td>⋮</td><td>⋮</td><td>⋮</td></tr>\n",
              "\t<tr><td>556</td><td>2022</td><td>4 </td><td>SE</td><td>FT</td><td>Data Engineer                     </td><td>145000 </td><td>USD</td><td>145000</td><td>US</td><td>100</td><td>US</td><td>M</td></tr>\n",
              "\t<tr><td>93 </td><td>2021</td><td>10</td><td>SE</td><td>FT</td><td>Lead Data Engineer                </td><td>276000 </td><td>USD</td><td>276000</td><td>US</td><td>0  </td><td>US</td><td>L</td></tr>\n",
              "\t<tr><td>431</td><td>2022</td><td>1 </td><td>MI</td><td>FT</td><td>Data Analyst                      </td><td>30000  </td><td>EUR</td><td>32974 </td><td>ES</td><td>100</td><td>ES</td><td>M</td></tr>\n",
              "\t<tr><td>470</td><td>2022</td><td>10</td><td>MI</td><td>FT</td><td>Data Analyst                      </td><td>135000 </td><td>USD</td><td>135000</td><td>US</td><td>100</td><td>US</td><td>M</td></tr>\n",
              "\t<tr><td>489</td><td>2022</td><td>6 </td><td>EN</td><td>CT</td><td>Applied Machine Learning Scientist</td><td>29000  </td><td>EUR</td><td>31875 </td><td>TN</td><td>100</td><td>CZ</td><td>M</td></tr>\n",
              "\t<tr><td>564</td><td>2022</td><td>8 </td><td>SE</td><td>FT</td><td>Data Analyst                      </td><td>116150 </td><td>USD</td><td>116150</td><td>US</td><td>100</td><td>US</td><td>M</td></tr>\n",
              "\t<tr><td>220</td><td>2021</td><td>8 </td><td>MI</td><td>FT</td><td>Machine Learning Engineer         </td><td>180000 </td><td>PLN</td><td>46597 </td><td>PL</td><td>100</td><td>PL</td><td>L</td></tr>\n",
              "\t<tr><td>261</td><td>2021</td><td>5 </td><td>SE</td><td>FT</td><td>Data Analyst                      </td><td>54000  </td><td>EUR</td><td>63831 </td><td>DE</td><td>50 </td><td>DE</td><td>L</td></tr>\n",
              "\t<tr><td>196</td><td>2021</td><td>7 </td><td>EN</td><td>FT</td><td>BI Data Analyst                   </td><td>9272   </td><td>USD</td><td>9272  </td><td>KE</td><td>100</td><td>KE</td><td>S</td></tr>\n",
              "\t<tr><td>503</td><td>2022</td><td>3 </td><td>MI</td><td>FT</td><td>Machine Learning Engineer         </td><td>121000 </td><td>AUD</td><td>87425 </td><td>AU</td><td>100</td><td>AU</td><td>L</td></tr>\n",
              "\t<tr><td>491</td><td>2022</td><td>5 </td><td>MI</td><td>FT</td><td>Principal Data Analyst            </td><td>75000  </td><td>USD</td><td>75000 </td><td>CA</td><td>100</td><td>CA</td><td>S</td></tr>\n",
              "\t<tr><td>112</td><td>2021</td><td>2 </td><td>SE</td><td>FT</td><td>Lead Data Engineer                </td><td>75000  </td><td>GBP</td><td>103160</td><td>GB</td><td>100</td><td>GB</td><td>S</td></tr>\n",
              "\t<tr><td>11 </td><td>2020</td><td>4 </td><td>MI</td><td>FT</td><td>Data Scientist                    </td><td>3000000</td><td>INR</td><td>40481 </td><td>IN</td><td>0  </td><td>IN</td><td>L</td></tr>\n",
              "\t<tr><td>265</td><td>2021</td><td>9 </td><td>SE</td><td>FT</td><td>Lead Data Engineer                </td><td>160000 </td><td>USD</td><td>160000</td><td>PR</td><td>50 </td><td>US</td><td>S</td></tr>\n",
              "\t<tr><td>420</td><td>2022</td><td>2 </td><td>MI</td><td>FT</td><td>Machine Learning Scientist        </td><td>112300 </td><td>USD</td><td>112300</td><td>US</td><td>100</td><td>US</td><td>L</td></tr>\n",
              "\t<tr><td>296</td><td>2022</td><td>7 </td><td>SE</td><td>FT</td><td>Data Analyst                      </td><td>102100 </td><td>USD</td><td>102100</td><td>US</td><td>100</td><td>US</td><td>M</td></tr>\n",
              "\t<tr><td>85 </td><td>2021</td><td>7 </td><td>MI</td><td>FT</td><td>Data Engineer                     </td><td>110000 </td><td>PLN</td><td>28476 </td><td>PL</td><td>100</td><td>PL</td><td>L</td></tr>\n",
              "\t<tr><td>359</td><td>2022</td><td>3 </td><td>SE</td><td>FT</td><td>Data Architect                    </td><td>90700  </td><td>USD</td><td>90700 </td><td>CA</td><td>100</td><td>CA</td><td>M</td></tr>\n",
              "\t<tr><td>462</td><td>2022</td><td>11</td><td>MI</td><td>PT</td><td>Data Engineer                     </td><td>50000  </td><td>EUR</td><td>54957 </td><td>DE</td><td>50 </td><td>DE</td><td>L</td></tr>\n",
              "\t<tr><td>371</td><td>2022</td><td>8 </td><td>SE</td><td>FT</td><td>Machine Learning Engineer         </td><td>189650 </td><td>USD</td><td>189650</td><td>US</td><td>0  </td><td>US</td><td>M</td></tr>\n",
              "\t<tr><td>587</td><td>2022</td><td>6 </td><td>SE</td><td>FT</td><td>Data Scientist                    </td><td>140000 </td><td>USD</td><td>140000</td><td>US</td><td>100</td><td>US</td><td>M</td></tr>\n",
              "\t<tr><td>462</td><td>2022</td><td>11</td><td>MI</td><td>PT</td><td>Data Engineer                     </td><td>50000  </td><td>EUR</td><td>54957 </td><td>DE</td><td>50 </td><td>DE</td><td>L</td></tr>\n",
              "\t<tr><td>496</td><td>2022</td><td>4 </td><td>EN</td><td>FT</td><td>Data Engineer                     </td><td>52800  </td><td>EUR</td><td>58035 </td><td>PK</td><td>100</td><td>DE</td><td>M</td></tr>\n",
              "\t<tr><td>65 </td><td>2020</td><td>4 </td><td>EN</td><td>FT</td><td>Data Scientist                    </td><td>55000  </td><td>EUR</td><td>62726 </td><td>DE</td><td>50 </td><td>DE</td><td>S</td></tr>\n",
              "\t<tr><td>108</td><td>2021</td><td>5 </td><td>SE</td><td>FT</td><td>Data Engineer                     </td><td>150000 </td><td>USD</td><td>150000</td><td>US</td><td>100</td><td>US</td><td>M</td></tr>\n",
              "\t<tr><td>436</td><td>2022</td><td>8 </td><td>MI</td><td>FT</td><td>Data Engineer                     </td><td>60000  </td><td>EUR</td><td>65949 </td><td>ES</td><td>100</td><td>ES</td><td>M</td></tr>\n",
              "\t<tr><td>510</td><td>2022</td><td>12</td><td>EN</td><td>FT</td><td>Computer Vision Software Engineer </td><td>150000 </td><td>USD</td><td>150000</td><td>AU</td><td>100</td><td>AU</td><td>S</td></tr>\n",
              "\t<tr><td>322</td><td>2022</td><td>7 </td><td>SE</td><td>FT</td><td>Data Engineer                     </td><td>160080 </td><td>USD</td><td>160080</td><td>US</td><td>0  </td><td>US</td><td>M</td></tr>\n",
              "\t<tr><td>589</td><td>2022</td><td>3 </td><td>SE</td><td>FT</td><td>Data Analyst                      </td><td>60000  </td><td>USD</td><td>60000 </td><td>US</td><td>100</td><td>US</td><td>M</td></tr>\n",
              "\t<tr><td>353</td><td>2022</td><td>5 </td><td>SE</td><td>FT</td><td>Data Scientist                    </td><td>123000 </td><td>USD</td><td>123000</td><td>US</td><td>100</td><td>US</td><td>M</td></tr>\n",
              "</tbody>\n",
              "</table>\n"
            ],
            "text/markdown": "\nA data.frame: 200 × 13\n\n| V1 &lt;chr&gt; | V2 &lt;chr&gt; | V3 &lt;chr&gt; | V4 &lt;chr&gt; | V5 &lt;chr&gt; | V6 &lt;chr&gt; | V7 &lt;chr&gt; | V8 &lt;chr&gt; | V9 &lt;chr&gt; | V10 &lt;chr&gt; | V11 &lt;chr&gt; | V12 &lt;chr&gt; | V13 &lt;chr&gt; |\n|---|---|---|---|---|---|---|---|---|---|---|---|---|\n| 526 | 2022 | 3  | MI | FT | Data Scientist                     | 78000  | USD | 78000  | US | 100 | US | M |\n| 305 | 2022 | 1  | SE | FT | Data Analyst                       | 99000  | USD | 99000  | US | 0   | US | M |\n| 403 | 2022 | 6  | SE | FT | Data Analyst                       | 81666  | USD | 81666  | US | 0   | US | M |\n| 551 | 2022 | 9  | SE | FT | Data Scientist                     | 140400 | USD | 140400 | US | 0   | US | L |\n| 466 | 2022 | 4  | SE | FT | Research Scientist                 | 144000 | USD | 144000 | US | 50  | US | L |\n| 559 | 2022 | 11 | SE | FT | Data Scientist                     | 140400 | USD | 140400 | US | 0   | US | M |\n| 228 | 2021 | 11 | SE | FT | Data Scientist                     | 135000 | USD | 135000 | US | 0   | US | L |\n| 436 | 2022 | 8  | MI | FT | Data Engineer                      | 60000  | EUR | 65949  | ES | 100 | ES | M |\n| 152 | 2021 | 10 | MI | FT | Data Scientist                     | 95000  | CAD | 75774  | CA | 100 | CA | L |\n| 155 | 2021 | 10 | SE | FT | Data Science Engineer              | 159500 | CAD | 127221 | CA | 50  | CA | L |\n| 6   | 2020 | 2  | SE | FT | Lead Data Scientist                | 190000 | USD | 190000 | US | 100 | US | S |\n| 340 | 2022 | 10 | SE | FT | Data Engineer                      | 128875 | USD | 128875 | US | 100 | US | M |\n| 284 | 2021 | 10 | MI | FT | Research Scientist                 | 69999  | USD | 69999  | CZ | 50  | CZ | L |\n| 241 | 2021 | 6  | MI | FT | Data Analyst                       | 80000  | USD | 80000  | US | 100 | US | L |\n| 593 | 2022 | 1  | SE | FT | Data Scientist                     | 150000 | USD | 150000 | US | 100 | US | M |\n| 533 | 2022 | 8  | SE | FT | Machine Learning Engineer          | 192600 | USD | 192600 | US | 100 | US | M |\n| 249 | 2021 | 6  | SE | FT | Principal Data Analyst             | 170000 | USD | 170000 | US | 100 | US | M |\n| 145 | 2021 | 12 | SE | FT | Machine Learning Engineer          | 70000  | EUR | 82744  | BE | 50  | BE | M |\n| 348 | 2022 | 9  | SE | FT | Data Engineer                      | 113000 | USD | 113000 | US | 0   | US | L |\n| 220 | 2021 | 8  | MI | FT | Machine Learning Engineer          | 180000 | PLN | 46597  | PL | 100 | PL | L |\n| 15  | 2020 | 7  | MI | FT | Data Analyst                       | 8000   | USD | 8000   | PK | 50  | PK | L |\n| 401 | 2022 | 7  | SE | FT | Data Engineer                      | 154600 | USD | 154600 | US | 100 | US | L |\n| 301 | 2022 | 8  | SE | FT | Data Scientist                     | 80000  | GBP | 104702 | GB | 0   | GB | M |\n| 81  | 2021 | 7  | MI | FT | Data Engineer                      | 140000 | USD | 140000 | US | 100 | US | L |\n| 9   | 2020 | 6  | SE | FT | Lead Data Engineer                 | 125000 | USD | 125000 | NZ | 50  | NZ | S |\n| 181 | 2021 | 12 | MI | FT | Data Scientist                     | 76760  | EUR | 90734  | DE | 50  | DE | L |\n| 489 | 2022 | 6  | EN | CT | Applied Machine Learning Scientist | 29000  | EUR | 31875  | TN | 100 | CZ | M |\n| 142 | 2021 | 11 | SE | FT | Data Engineering Manager           | 150000 | USD | 150000 | US | 0   | US | L |\n| 128 | 2021 | 5  | EN | FT | Machine Learning Engineer          | 20000  | USD | 20000  | IN | 100 | IN | S |\n| 552 | 2022 | 9  | SE | FT | Data Scientist                     | 176000 | USD | 176000 | US | 100 | US | M |\n| ⋮ | ⋮ | ⋮ | ⋮ | ⋮ | ⋮ | ⋮ | ⋮ | ⋮ | ⋮ | ⋮ | ⋮ | ⋮ |\n| 556 | 2022 | 4  | SE | FT | Data Engineer                      | 145000  | USD | 145000 | US | 100 | US | M |\n| 93  | 2021 | 10 | SE | FT | Lead Data Engineer                 | 276000  | USD | 276000 | US | 0   | US | L |\n| 431 | 2022 | 1  | MI | FT | Data Analyst                       | 30000   | EUR | 32974  | ES | 100 | ES | M |\n| 470 | 2022 | 10 | MI | FT | Data Analyst                       | 135000  | USD | 135000 | US | 100 | US | M |\n| 489 | 2022 | 6  | EN | CT | Applied Machine Learning Scientist | 29000   | EUR | 31875  | TN | 100 | CZ | M |\n| 564 | 2022 | 8  | SE | FT | Data Analyst                       | 116150  | USD | 116150 | US | 100 | US | M |\n| 220 | 2021 | 8  | MI | FT | Machine Learning Engineer          | 180000  | PLN | 46597  | PL | 100 | PL | L |\n| 261 | 2021 | 5  | SE | FT | Data Analyst                       | 54000   | EUR | 63831  | DE | 50  | DE | L |\n| 196 | 2021 | 7  | EN | FT | BI Data Analyst                    | 9272    | USD | 9272   | KE | 100 | KE | S |\n| 503 | 2022 | 3  | MI | FT | Machine Learning Engineer          | 121000  | AUD | 87425  | AU | 100 | AU | L |\n| 491 | 2022 | 5  | MI | FT | Principal Data Analyst             | 75000   | USD | 75000  | CA | 100 | CA | S |\n| 112 | 2021 | 2  | SE | FT | Lead Data Engineer                 | 75000   | GBP | 103160 | GB | 100 | GB | S |\n| 11  | 2020 | 4  | MI | FT | Data Scientist                     | 3000000 | INR | 40481  | IN | 0   | IN | L |\n| 265 | 2021 | 9  | SE | FT | Lead Data Engineer                 | 160000  | USD | 160000 | PR | 50  | US | S |\n| 420 | 2022 | 2  | MI | FT | Machine Learning Scientist         | 112300  | USD | 112300 | US | 100 | US | L |\n| 296 | 2022 | 7  | SE | FT | Data Analyst                       | 102100  | USD | 102100 | US | 100 | US | M |\n| 85  | 2021 | 7  | MI | FT | Data Engineer                      | 110000  | PLN | 28476  | PL | 100 | PL | L |\n| 359 | 2022 | 3  | SE | FT | Data Architect                     | 90700   | USD | 90700  | CA | 100 | CA | M |\n| 462 | 2022 | 11 | MI | PT | Data Engineer                      | 50000   | EUR | 54957  | DE | 50  | DE | L |\n| 371 | 2022 | 8  | SE | FT | Machine Learning Engineer          | 189650  | USD | 189650 | US | 0   | US | M |\n| 587 | 2022 | 6  | SE | FT | Data Scientist                     | 140000  | USD | 140000 | US | 100 | US | M |\n| 462 | 2022 | 11 | MI | PT | Data Engineer                      | 50000   | EUR | 54957  | DE | 50  | DE | L |\n| 496 | 2022 | 4  | EN | FT | Data Engineer                      | 52800   | EUR | 58035  | PK | 100 | DE | M |\n| 65  | 2020 | 4  | EN | FT | Data Scientist                     | 55000   | EUR | 62726  | DE | 50  | DE | S |\n| 108 | 2021 | 5  | SE | FT | Data Engineer                      | 150000  | USD | 150000 | US | 100 | US | M |\n| 436 | 2022 | 8  | MI | FT | Data Engineer                      | 60000   | EUR | 65949  | ES | 100 | ES | M |\n| 510 | 2022 | 12 | EN | FT | Computer Vision Software Engineer  | 150000  | USD | 150000 | AU | 100 | AU | S |\n| 322 | 2022 | 7  | SE | FT | Data Engineer                      | 160080  | USD | 160080 | US | 0   | US | M |\n| 589 | 2022 | 3  | SE | FT | Data Analyst                       | 60000   | USD | 60000  | US | 100 | US | M |\n| 353 | 2022 | 5  | SE | FT | Data Scientist                     | 123000  | USD | 123000 | US | 100 | US | M |\n\n",
            "text/latex": "A data.frame: 200 × 13\n\\begin{tabular}{lllllllllllll}\n V1 & V2 & V3 & V4 & V5 & V6 & V7 & V8 & V9 & V10 & V11 & V12 & V13\\\\\n <chr> & <chr> & <chr> & <chr> & <chr> & <chr> & <chr> & <chr> & <chr> & <chr> & <chr> & <chr> & <chr>\\\\\n\\hline\n\t 526 & 2022 & 3  & MI & FT & Data Scientist                     & 78000  & USD & 78000  & US & 100 & US & M\\\\\n\t 305 & 2022 & 1  & SE & FT & Data Analyst                       & 99000  & USD & 99000  & US & 0   & US & M\\\\\n\t 403 & 2022 & 6  & SE & FT & Data Analyst                       & 81666  & USD & 81666  & US & 0   & US & M\\\\\n\t 551 & 2022 & 9  & SE & FT & Data Scientist                     & 140400 & USD & 140400 & US & 0   & US & L\\\\\n\t 466 & 2022 & 4  & SE & FT & Research Scientist                 & 144000 & USD & 144000 & US & 50  & US & L\\\\\n\t 559 & 2022 & 11 & SE & FT & Data Scientist                     & 140400 & USD & 140400 & US & 0   & US & M\\\\\n\t 228 & 2021 & 11 & SE & FT & Data Scientist                     & 135000 & USD & 135000 & US & 0   & US & L\\\\\n\t 436 & 2022 & 8  & MI & FT & Data Engineer                      & 60000  & EUR & 65949  & ES & 100 & ES & M\\\\\n\t 152 & 2021 & 10 & MI & FT & Data Scientist                     & 95000  & CAD & 75774  & CA & 100 & CA & L\\\\\n\t 155 & 2021 & 10 & SE & FT & Data Science Engineer              & 159500 & CAD & 127221 & CA & 50  & CA & L\\\\\n\t 6   & 2020 & 2  & SE & FT & Lead Data Scientist                & 190000 & USD & 190000 & US & 100 & US & S\\\\\n\t 340 & 2022 & 10 & SE & FT & Data Engineer                      & 128875 & USD & 128875 & US & 100 & US & M\\\\\n\t 284 & 2021 & 10 & MI & FT & Research Scientist                 & 69999  & USD & 69999  & CZ & 50  & CZ & L\\\\\n\t 241 & 2021 & 6  & MI & FT & Data Analyst                       & 80000  & USD & 80000  & US & 100 & US & L\\\\\n\t 593 & 2022 & 1  & SE & FT & Data Scientist                     & 150000 & USD & 150000 & US & 100 & US & M\\\\\n\t 533 & 2022 & 8  & SE & FT & Machine Learning Engineer          & 192600 & USD & 192600 & US & 100 & US & M\\\\\n\t 249 & 2021 & 6  & SE & FT & Principal Data Analyst             & 170000 & USD & 170000 & US & 100 & US & M\\\\\n\t 145 & 2021 & 12 & SE & FT & Machine Learning Engineer          & 70000  & EUR & 82744  & BE & 50  & BE & M\\\\\n\t 348 & 2022 & 9  & SE & FT & Data Engineer                      & 113000 & USD & 113000 & US & 0   & US & L\\\\\n\t 220 & 2021 & 8  & MI & FT & Machine Learning Engineer          & 180000 & PLN & 46597  & PL & 100 & PL & L\\\\\n\t 15  & 2020 & 7  & MI & FT & Data Analyst                       & 8000   & USD & 8000   & PK & 50  & PK & L\\\\\n\t 401 & 2022 & 7  & SE & FT & Data Engineer                      & 154600 & USD & 154600 & US & 100 & US & L\\\\\n\t 301 & 2022 & 8  & SE & FT & Data Scientist                     & 80000  & GBP & 104702 & GB & 0   & GB & M\\\\\n\t 81  & 2021 & 7  & MI & FT & Data Engineer                      & 140000 & USD & 140000 & US & 100 & US & L\\\\\n\t 9   & 2020 & 6  & SE & FT & Lead Data Engineer                 & 125000 & USD & 125000 & NZ & 50  & NZ & S\\\\\n\t 181 & 2021 & 12 & MI & FT & Data Scientist                     & 76760  & EUR & 90734  & DE & 50  & DE & L\\\\\n\t 489 & 2022 & 6  & EN & CT & Applied Machine Learning Scientist & 29000  & EUR & 31875  & TN & 100 & CZ & M\\\\\n\t 142 & 2021 & 11 & SE & FT & Data Engineering Manager           & 150000 & USD & 150000 & US & 0   & US & L\\\\\n\t 128 & 2021 & 5  & EN & FT & Machine Learning Engineer          & 20000  & USD & 20000  & IN & 100 & IN & S\\\\\n\t 552 & 2022 & 9  & SE & FT & Data Scientist                     & 176000 & USD & 176000 & US & 100 & US & M\\\\\n\t ⋮ & ⋮ & ⋮ & ⋮ & ⋮ & ⋮ & ⋮ & ⋮ & ⋮ & ⋮ & ⋮ & ⋮ & ⋮\\\\\n\t 556 & 2022 & 4  & SE & FT & Data Engineer                      & 145000  & USD & 145000 & US & 100 & US & M\\\\\n\t 93  & 2021 & 10 & SE & FT & Lead Data Engineer                 & 276000  & USD & 276000 & US & 0   & US & L\\\\\n\t 431 & 2022 & 1  & MI & FT & Data Analyst                       & 30000   & EUR & 32974  & ES & 100 & ES & M\\\\\n\t 470 & 2022 & 10 & MI & FT & Data Analyst                       & 135000  & USD & 135000 & US & 100 & US & M\\\\\n\t 489 & 2022 & 6  & EN & CT & Applied Machine Learning Scientist & 29000   & EUR & 31875  & TN & 100 & CZ & M\\\\\n\t 564 & 2022 & 8  & SE & FT & Data Analyst                       & 116150  & USD & 116150 & US & 100 & US & M\\\\\n\t 220 & 2021 & 8  & MI & FT & Machine Learning Engineer          & 180000  & PLN & 46597  & PL & 100 & PL & L\\\\\n\t 261 & 2021 & 5  & SE & FT & Data Analyst                       & 54000   & EUR & 63831  & DE & 50  & DE & L\\\\\n\t 196 & 2021 & 7  & EN & FT & BI Data Analyst                    & 9272    & USD & 9272   & KE & 100 & KE & S\\\\\n\t 503 & 2022 & 3  & MI & FT & Machine Learning Engineer          & 121000  & AUD & 87425  & AU & 100 & AU & L\\\\\n\t 491 & 2022 & 5  & MI & FT & Principal Data Analyst             & 75000   & USD & 75000  & CA & 100 & CA & S\\\\\n\t 112 & 2021 & 2  & SE & FT & Lead Data Engineer                 & 75000   & GBP & 103160 & GB & 100 & GB & S\\\\\n\t 11  & 2020 & 4  & MI & FT & Data Scientist                     & 3000000 & INR & 40481  & IN & 0   & IN & L\\\\\n\t 265 & 2021 & 9  & SE & FT & Lead Data Engineer                 & 160000  & USD & 160000 & PR & 50  & US & S\\\\\n\t 420 & 2022 & 2  & MI & FT & Machine Learning Scientist         & 112300  & USD & 112300 & US & 100 & US & L\\\\\n\t 296 & 2022 & 7  & SE & FT & Data Analyst                       & 102100  & USD & 102100 & US & 100 & US & M\\\\\n\t 85  & 2021 & 7  & MI & FT & Data Engineer                      & 110000  & PLN & 28476  & PL & 100 & PL & L\\\\\n\t 359 & 2022 & 3  & SE & FT & Data Architect                     & 90700   & USD & 90700  & CA & 100 & CA & M\\\\\n\t 462 & 2022 & 11 & MI & PT & Data Engineer                      & 50000   & EUR & 54957  & DE & 50  & DE & L\\\\\n\t 371 & 2022 & 8  & SE & FT & Machine Learning Engineer          & 189650  & USD & 189650 & US & 0   & US & M\\\\\n\t 587 & 2022 & 6  & SE & FT & Data Scientist                     & 140000  & USD & 140000 & US & 100 & US & M\\\\\n\t 462 & 2022 & 11 & MI & PT & Data Engineer                      & 50000   & EUR & 54957  & DE & 50  & DE & L\\\\\n\t 496 & 2022 & 4  & EN & FT & Data Engineer                      & 52800   & EUR & 58035  & PK & 100 & DE & M\\\\\n\t 65  & 2020 & 4  & EN & FT & Data Scientist                     & 55000   & EUR & 62726  & DE & 50  & DE & S\\\\\n\t 108 & 2021 & 5  & SE & FT & Data Engineer                      & 150000  & USD & 150000 & US & 100 & US & M\\\\\n\t 436 & 2022 & 8  & MI & FT & Data Engineer                      & 60000   & EUR & 65949  & ES & 100 & ES & M\\\\\n\t 510 & 2022 & 12 & EN & FT & Computer Vision Software Engineer  & 150000  & USD & 150000 & AU & 100 & AU & S\\\\\n\t 322 & 2022 & 7  & SE & FT & Data Engineer                      & 160080  & USD & 160080 & US & 0   & US & M\\\\\n\t 589 & 2022 & 3  & SE & FT & Data Analyst                       & 60000   & USD & 60000  & US & 100 & US & M\\\\\n\t 353 & 2022 & 5  & SE & FT & Data Scientist                     & 123000  & USD & 123000 & US & 100 & US & M\\\\\n\\end{tabular}\n",
            "text/plain": [
              "    V1  V2   V3 V4 V5 V6                                 V7      V8  V9     V10\n",
              "1   526 2022 3  MI FT Data Scientist                     78000   USD 78000  US \n",
              "2   305 2022 1  SE FT Data Analyst                       99000   USD 99000  US \n",
              "3   403 2022 6  SE FT Data Analyst                       81666   USD 81666  US \n",
              "4   551 2022 9  SE FT Data Scientist                     140400  USD 140400 US \n",
              "5   466 2022 4  SE FT Research Scientist                 144000  USD 144000 US \n",
              "6   559 2022 11 SE FT Data Scientist                     140400  USD 140400 US \n",
              "7   228 2021 11 SE FT Data Scientist                     135000  USD 135000 US \n",
              "8   436 2022 8  MI FT Data Engineer                      60000   EUR 65949  ES \n",
              "9   152 2021 10 MI FT Data Scientist                     95000   CAD 75774  CA \n",
              "10  155 2021 10 SE FT Data Science Engineer              159500  CAD 127221 CA \n",
              "11  6   2020 2  SE FT Lead Data Scientist                190000  USD 190000 US \n",
              "12  340 2022 10 SE FT Data Engineer                      128875  USD 128875 US \n",
              "13  284 2021 10 MI FT Research Scientist                 69999   USD 69999  CZ \n",
              "14  241 2021 6  MI FT Data Analyst                       80000   USD 80000  US \n",
              "15  593 2022 1  SE FT Data Scientist                     150000  USD 150000 US \n",
              "16  533 2022 8  SE FT Machine Learning Engineer          192600  USD 192600 US \n",
              "17  249 2021 6  SE FT Principal Data Analyst             170000  USD 170000 US \n",
              "18  145 2021 12 SE FT Machine Learning Engineer          70000   EUR 82744  BE \n",
              "19  348 2022 9  SE FT Data Engineer                      113000  USD 113000 US \n",
              "20  220 2021 8  MI FT Machine Learning Engineer          180000  PLN 46597  PL \n",
              "21  15  2020 7  MI FT Data Analyst                       8000    USD 8000   PK \n",
              "22  401 2022 7  SE FT Data Engineer                      154600  USD 154600 US \n",
              "23  301 2022 8  SE FT Data Scientist                     80000   GBP 104702 GB \n",
              "24  81  2021 7  MI FT Data Engineer                      140000  USD 140000 US \n",
              "25  9   2020 6  SE FT Lead Data Engineer                 125000  USD 125000 NZ \n",
              "26  181 2021 12 MI FT Data Scientist                     76760   EUR 90734  DE \n",
              "27  489 2022 6  EN CT Applied Machine Learning Scientist 29000   EUR 31875  TN \n",
              "28  142 2021 11 SE FT Data Engineering Manager           150000  USD 150000 US \n",
              "29  128 2021 5  EN FT Machine Learning Engineer          20000   USD 20000  IN \n",
              "30  552 2022 9  SE FT Data Scientist                     176000  USD 176000 US \n",
              "⋮   ⋮   ⋮    ⋮  ⋮  ⋮  ⋮                                  ⋮       ⋮   ⋮      ⋮  \n",
              "171 556 2022 4  SE FT Data Engineer                      145000  USD 145000 US \n",
              "172 93  2021 10 SE FT Lead Data Engineer                 276000  USD 276000 US \n",
              "173 431 2022 1  MI FT Data Analyst                       30000   EUR 32974  ES \n",
              "174 470 2022 10 MI FT Data Analyst                       135000  USD 135000 US \n",
              "175 489 2022 6  EN CT Applied Machine Learning Scientist 29000   EUR 31875  TN \n",
              "176 564 2022 8  SE FT Data Analyst                       116150  USD 116150 US \n",
              "177 220 2021 8  MI FT Machine Learning Engineer          180000  PLN 46597  PL \n",
              "178 261 2021 5  SE FT Data Analyst                       54000   EUR 63831  DE \n",
              "179 196 2021 7  EN FT BI Data Analyst                    9272    USD 9272   KE \n",
              "180 503 2022 3  MI FT Machine Learning Engineer          121000  AUD 87425  AU \n",
              "181 491 2022 5  MI FT Principal Data Analyst             75000   USD 75000  CA \n",
              "182 112 2021 2  SE FT Lead Data Engineer                 75000   GBP 103160 GB \n",
              "183 11  2020 4  MI FT Data Scientist                     3000000 INR 40481  IN \n",
              "184 265 2021 9  SE FT Lead Data Engineer                 160000  USD 160000 PR \n",
              "185 420 2022 2  MI FT Machine Learning Scientist         112300  USD 112300 US \n",
              "186 296 2022 7  SE FT Data Analyst                       102100  USD 102100 US \n",
              "187 85  2021 7  MI FT Data Engineer                      110000  PLN 28476  PL \n",
              "188 359 2022 3  SE FT Data Architect                     90700   USD 90700  CA \n",
              "189 462 2022 11 MI PT Data Engineer                      50000   EUR 54957  DE \n",
              "190 371 2022 8  SE FT Machine Learning Engineer          189650  USD 189650 US \n",
              "191 587 2022 6  SE FT Data Scientist                     140000  USD 140000 US \n",
              "192 462 2022 11 MI PT Data Engineer                      50000   EUR 54957  DE \n",
              "193 496 2022 4  EN FT Data Engineer                      52800   EUR 58035  PK \n",
              "194 65  2020 4  EN FT Data Scientist                     55000   EUR 62726  DE \n",
              "195 108 2021 5  SE FT Data Engineer                      150000  USD 150000 US \n",
              "196 436 2022 8  MI FT Data Engineer                      60000   EUR 65949  ES \n",
              "197 510 2022 12 EN FT Computer Vision Software Engineer  150000  USD 150000 AU \n",
              "198 322 2022 7  SE FT Data Engineer                      160080  USD 160080 US \n",
              "199 589 2022 3  SE FT Data Analyst                       60000   USD 60000  US \n",
              "200 353 2022 5  SE FT Data Scientist                     123000  USD 123000 US \n",
              "    V11 V12 V13\n",
              "1   100 US  M  \n",
              "2   0   US  M  \n",
              "3   0   US  M  \n",
              "4   0   US  L  \n",
              "5   50  US  L  \n",
              "6   0   US  M  \n",
              "7   0   US  L  \n",
              "8   100 ES  M  \n",
              "9   100 CA  L  \n",
              "10  50  CA  L  \n",
              "11  100 US  S  \n",
              "12  100 US  M  \n",
              "13  50  CZ  L  \n",
              "14  100 US  L  \n",
              "15  100 US  M  \n",
              "16  100 US  M  \n",
              "17  100 US  M  \n",
              "18  50  BE  M  \n",
              "19  0   US  L  \n",
              "20  100 PL  L  \n",
              "21  50  PK  L  \n",
              "22  100 US  L  \n",
              "23  0   GB  M  \n",
              "24  100 US  L  \n",
              "25  50  NZ  S  \n",
              "26  50  DE  L  \n",
              "27  100 CZ  M  \n",
              "28  0   US  L  \n",
              "29  100 IN  S  \n",
              "30  100 US  M  \n",
              "⋮   ⋮   ⋮   ⋮  \n",
              "171 100 US  M  \n",
              "172 0   US  L  \n",
              "173 100 ES  M  \n",
              "174 100 US  M  \n",
              "175 100 CZ  M  \n",
              "176 100 US  M  \n",
              "177 100 PL  L  \n",
              "178 50  DE  L  \n",
              "179 100 KE  S  \n",
              "180 100 AU  L  \n",
              "181 100 CA  S  \n",
              "182 100 GB  S  \n",
              "183 0   IN  L  \n",
              "184 50  US  S  \n",
              "185 100 US  L  \n",
              "186 100 US  M  \n",
              "187 100 PL  L  \n",
              "188 100 CA  M  \n",
              "189 50  DE  L  \n",
              "190 0   US  M  \n",
              "191 100 US  M  \n",
              "192 50  DE  L  \n",
              "193 100 DE  M  \n",
              "194 50  DE  S  \n",
              "195 100 US  M  \n",
              "196 100 ES  M  \n",
              "197 100 AU  S  \n",
              "198 0   US  M  \n",
              "199 100 US  M  \n",
              "200 100 US  M  "
            ]
          },
          "metadata": {}
        }
      ]
    },
    {
      "cell_type": "code",
      "source": [
        "# 3) Aplicar uma técnica de discretização (Primeiro foi calculada a mediana para \n",
        "#salary_in_usd(salários em dólar) e posteriormente atribuído o valor 0, \n",
        "#caso o valor estivesse abaixo ou igual a mediana e 1, caso estivesse acima da mediana)\n",
        "\n",
        "#install.packages(\"dplyr\")\n",
        "library(dplyr)\n",
        "\n",
        "(avg_salary <- median(as.numeric(df$salary_in_usd)))\n",
        "\n",
        "df_salaries_discr <- df %>% mutate(df_salaries_discr= \n",
        "ifelse(salary_in_usd <= avg_salary, \"0\", \"1\"))"
      ],
      "metadata": {
        "colab": {
          "base_uri": "https://localhost:8080/",
          "height": 34
        },
        "id": "-2z1cNLSgcQB",
        "outputId": "f91cdee3-7d21-4d6a-f8d1-3ab9136db93f"
      },
      "execution_count": 11,
      "outputs": [
        {
          "output_type": "display_data",
          "data": {
            "text/html": [
              "101570"
            ],
            "text/markdown": "101570",
            "text/latex": "101570",
            "text/plain": [
              "[1] 101570"
            ]
          },
          "metadata": {}
        }
      ]
    },
    {
      "cell_type": "code",
      "source": [
        "#Aplicar uma técnica de Feature Engineering (sugestão: aplicar uma funçao que \n",
        "#transforme os campos de ano e mês na quantidade de meses transcorrido desde uma \n",
        "#data inicial. Por exemplo, ano 2020/mês 6 representariam 30 meses de antiguidade)\n",
        "\n",
        "#Considerada como data inicial 01 de julho de 2018 e considerando que no dataframe(df) o mês\n",
        "#é contabilizado iniciando dia 01. Dessa forma, a quantidade de meses dos anos inteiros é\n",
        "#calculada como o ano do df(dataframe) menos o ano escolhido como inicial (2018),multiplicado por 12 \n",
        "#(quantidade de meses no ano). A quantidade de meses do ano inicial é calculada como 12 (quantidade de \n",
        "#meses no ano) menos o mês escolhido como inicial (7), mais 1, pois como foi considerado que o mês \n",
        "#se incia no dia 1, ele deve ser contabilizado. A quantidade de meses do ano final é calculada como\n",
        "# o mes no data frame menos um, pois como foi considerado que o mês começa no dia 01, ele não foi \n",
        "#contabilizado.\n",
        "\n",
        "ano_inicial<-2018\n",
        "mes_inicial<-7\n",
        "j = length(df$salary_in_usd)\n",
        "antiguidade_meses<-c()\n",
        "for(i in 1:j) {antiguidade_meses[i]=(((df$work_year[i]-ano_inicial)*12)+((12-mes_inicial)+1)+((df$work_month[i]-1)))}\n",
        "df$antiguidade_meses\n",
        "tail(df)"
      ],
      "metadata": {
        "colab": {
          "base_uri": "https://localhost:8080/",
          "height": 428
        },
        "id": "e3XZi1dtgefW",
        "outputId": "dbcfb907-a0f7-402a-fd26-8859640d929d"
      },
      "execution_count": 12,
      "outputs": [
        {
          "output_type": "display_data",
          "data": {
            "text/plain": [
              "NULL"
            ]
          },
          "metadata": {}
        },
        {
          "output_type": "display_data",
          "data": {
            "text/html": [
              "<table class=\"dataframe\">\n",
              "<caption>A data.frame: 6 × 13</caption>\n",
              "<thead>\n",
              "\t<tr><th></th><th scope=col>X</th><th scope=col>work_year</th><th scope=col>work_month</th><th scope=col>experience_level</th><th scope=col>employment_type</th><th scope=col>job_title</th><th scope=col>salary</th><th scope=col>salary_currency</th><th scope=col>salary_in_usd</th><th scope=col>employee_residence</th><th scope=col>remote_ratio</th><th scope=col>company_location</th><th scope=col>company_size</th></tr>\n",
              "\t<tr><th></th><th scope=col>&lt;int&gt;</th><th scope=col>&lt;int&gt;</th><th scope=col>&lt;int&gt;</th><th scope=col>&lt;chr&gt;</th><th scope=col>&lt;chr&gt;</th><th scope=col>&lt;chr&gt;</th><th scope=col>&lt;int&gt;</th><th scope=col>&lt;chr&gt;</th><th scope=col>&lt;int&gt;</th><th scope=col>&lt;chr&gt;</th><th scope=col>&lt;int&gt;</th><th scope=col>&lt;chr&gt;</th><th scope=col>&lt;chr&gt;</th></tr>\n",
              "</thead>\n",
              "<tbody>\n",
              "\t<tr><th scope=row>602</th><td>601</td><td>2022</td><td> 7</td><td>EN</td><td>FT</td><td>Data Analyst </td><td> 52000</td><td>USD</td><td> 52000</td><td>CA</td><td>  0</td><td>CA</td><td>M</td></tr>\n",
              "\t<tr><th scope=row>603</th><td>602</td><td>2022</td><td> 5</td><td>SE</td><td>FT</td><td>Data Engineer</td><td>154000</td><td>USD</td><td>154000</td><td>US</td><td>100</td><td>US</td><td>M</td></tr>\n",
              "\t<tr><th scope=row>604</th><td>603</td><td>2022</td><td> 6</td><td>SE</td><td>FT</td><td>Data Engineer</td><td>126000</td><td>USD</td><td>126000</td><td>US</td><td>100</td><td>US</td><td>M</td></tr>\n",
              "\t<tr><th scope=row>605</th><td>604</td><td>2022</td><td>11</td><td>SE</td><td>FT</td><td>Data Analyst </td><td>129000</td><td>USD</td><td>129000</td><td>US</td><td>  0</td><td>US</td><td>M</td></tr>\n",
              "\t<tr><th scope=row>606</th><td>605</td><td>2022</td><td> 2</td><td>SE</td><td>FT</td><td>Data Analyst </td><td>150000</td><td>USD</td><td>150000</td><td>US</td><td>100</td><td>US</td><td>M</td></tr>\n",
              "\t<tr><th scope=row>607</th><td>606</td><td>2022</td><td> 3</td><td>MI</td><td>FT</td><td>AI Scientist </td><td>200000</td><td>USD</td><td>200000</td><td>IN</td><td>100</td><td>US</td><td>L</td></tr>\n",
              "</tbody>\n",
              "</table>\n"
            ],
            "text/markdown": "\nA data.frame: 6 × 13\n\n| <!--/--> | X &lt;int&gt; | work_year &lt;int&gt; | work_month &lt;int&gt; | experience_level &lt;chr&gt; | employment_type &lt;chr&gt; | job_title &lt;chr&gt; | salary &lt;int&gt; | salary_currency &lt;chr&gt; | salary_in_usd &lt;int&gt; | employee_residence &lt;chr&gt; | remote_ratio &lt;int&gt; | company_location &lt;chr&gt; | company_size &lt;chr&gt; |\n|---|---|---|---|---|---|---|---|---|---|---|---|---|---|\n| 602 | 601 | 2022 |  7 | EN | FT | Data Analyst  |  52000 | USD |  52000 | CA |   0 | CA | M |\n| 603 | 602 | 2022 |  5 | SE | FT | Data Engineer | 154000 | USD | 154000 | US | 100 | US | M |\n| 604 | 603 | 2022 |  6 | SE | FT | Data Engineer | 126000 | USD | 126000 | US | 100 | US | M |\n| 605 | 604 | 2022 | 11 | SE | FT | Data Analyst  | 129000 | USD | 129000 | US |   0 | US | M |\n| 606 | 605 | 2022 |  2 | SE | FT | Data Analyst  | 150000 | USD | 150000 | US | 100 | US | M |\n| 607 | 606 | 2022 |  3 | MI | FT | AI Scientist  | 200000 | USD | 200000 | IN | 100 | US | L |\n\n",
            "text/latex": "A data.frame: 6 × 13\n\\begin{tabular}{r|lllllllllllll}\n  & X & work\\_year & work\\_month & experience\\_level & employment\\_type & job\\_title & salary & salary\\_currency & salary\\_in\\_usd & employee\\_residence & remote\\_ratio & company\\_location & company\\_size\\\\\n  & <int> & <int> & <int> & <chr> & <chr> & <chr> & <int> & <chr> & <int> & <chr> & <int> & <chr> & <chr>\\\\\n\\hline\n\t602 & 601 & 2022 &  7 & EN & FT & Data Analyst  &  52000 & USD &  52000 & CA &   0 & CA & M\\\\\n\t603 & 602 & 2022 &  5 & SE & FT & Data Engineer & 154000 & USD & 154000 & US & 100 & US & M\\\\\n\t604 & 603 & 2022 &  6 & SE & FT & Data Engineer & 126000 & USD & 126000 & US & 100 & US & M\\\\\n\t605 & 604 & 2022 & 11 & SE & FT & Data Analyst  & 129000 & USD & 129000 & US &   0 & US & M\\\\\n\t606 & 605 & 2022 &  2 & SE & FT & Data Analyst  & 150000 & USD & 150000 & US & 100 & US & M\\\\\n\t607 & 606 & 2022 &  3 & MI & FT & AI Scientist  & 200000 & USD & 200000 & IN & 100 & US & L\\\\\n\\end{tabular}\n",
            "text/plain": [
              "    X   work_year work_month experience_level employment_type job_title    \n",
              "602 601 2022       7         EN               FT              Data Analyst \n",
              "603 602 2022       5         SE               FT              Data Engineer\n",
              "604 603 2022       6         SE               FT              Data Engineer\n",
              "605 604 2022      11         SE               FT              Data Analyst \n",
              "606 605 2022       2         SE               FT              Data Analyst \n",
              "607 606 2022       3         MI               FT              AI Scientist \n",
              "    salary salary_currency salary_in_usd employee_residence remote_ratio\n",
              "602  52000 USD              52000        CA                   0         \n",
              "603 154000 USD             154000        US                 100         \n",
              "604 126000 USD             126000        US                 100         \n",
              "605 129000 USD             129000        US                   0         \n",
              "606 150000 USD             150000        US                 100         \n",
              "607 200000 USD             200000        IN                 100         \n",
              "    company_location company_size\n",
              "602 CA               M           \n",
              "603 US               M           \n",
              "604 US               M           \n",
              "605 US               M           \n",
              "606 US               M           \n",
              "607 US               L           "
            ]
          },
          "metadata": {}
        }
      ]
    }
  ]
}