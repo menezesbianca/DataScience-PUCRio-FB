{
  "nbformat": 4,
  "nbformat_minor": 0,
  "metadata": {
    "colab": {
      "provenance": [],
      "authorship_tag": "ABX9TyNnSNqvGSOJ28c1HwWFdQHa",
      "include_colab_link": true
    },
    "kernelspec": {
      "name": "ir",
      "display_name": "R"
    },
    "language_info": {
      "name": "R"
    }
  },
  "cells": [
    {
      "cell_type": "markdown",
      "metadata": {
        "id": "view-in-github",
        "colab_type": "text"
      },
      "source": [
        "<a href=\"https://colab.research.google.com/github/renatoquiliche/DataScience-PUCRio-FB/blob/main/Task%201/LeonardoRafael.ipynb\" target=\"_parent\"><img src=\"https://colab.research.google.com/assets/colab-badge.svg\" alt=\"Open In Colab\"/></a>"
      ]
    },
    {
      "cell_type": "code",
      "execution_count": 9,
      "metadata": {
        "id": "2jiYE7i8SbSt",
        "outputId": "0af4ddf6-b866-4d6c-d375-8945269ac120",
        "colab": {
          "base_uri": "https://localhost:8080/",
          "height": 509
        }
      },
      "outputs": [
        {
          "output_type": "stream",
          "name": "stderr",
          "text": [
            "Warning message in describeBy(salarios.c):\n",
            "“no grouping variable requested”\n"
          ]
        },
        {
          "output_type": "display_data",
          "data": {
            "text/html": [
              "<table class=\"dataframe\">\n",
              "<caption>A psych: 12 × 13</caption>\n",
              "<thead>\n",
              "\t<tr><th></th><th scope=col>vars</th><th scope=col>n</th><th scope=col>mean</th><th scope=col>sd</th><th scope=col>median</th><th scope=col>trimmed</th><th scope=col>mad</th><th scope=col>min</th><th scope=col>max</th><th scope=col>range</th><th scope=col>skew</th><th scope=col>kurtosis</th><th scope=col>se</th></tr>\n",
              "\t<tr><th></th><th scope=col>&lt;int&gt;</th><th scope=col>&lt;dbl&gt;</th><th scope=col>&lt;dbl&gt;</th><th scope=col>&lt;dbl&gt;</th><th scope=col>&lt;dbl&gt;</th><th scope=col>&lt;dbl&gt;</th><th scope=col>&lt;dbl&gt;</th><th scope=col>&lt;dbl&gt;</th><th scope=col>&lt;dbl&gt;</th><th scope=col>&lt;dbl&gt;</th><th scope=col>&lt;dbl&gt;</th><th scope=col>&lt;dbl&gt;</th><th scope=col>&lt;dbl&gt;</th></tr>\n",
              "</thead>\n",
              "<tbody>\n",
              "\t<tr><th scope=row>work_year</th><td> 1</td><td>607</td><td>2.021405e+03</td><td>6.921330e-01</td><td>  2022</td><td>2.021505e+03</td><td>    0.0000</td><td>2020</td><td>    2022</td><td>       2</td><td>-0.73218434</td><td> -0.6566735</td><td>2.809281e-02</td></tr>\n",
              "\t<tr><th scope=row>work_month</th><td> 2</td><td>607</td><td>6.472817e+00</td><td>3.344199e+00</td><td>     6</td><td>6.462012e+00</td><td>    4.4478</td><td>   1</td><td>      12</td><td>      11</td><td> 0.03830345</td><td> -1.1650795</td><td>1.357368e-01</td></tr>\n",
              "\t<tr><th scope=row>experience_level*</th><td> 3</td><td>607</td><td>3.128501e+00</td><td>1.034055e+00</td><td>     3</td><td>3.283368e+00</td><td>    1.4826</td><td>   1</td><td>       4</td><td>       3</td><td>-1.04460332</td><td> -0.1037724</td><td>4.197098e-02</td></tr>\n",
              "\t<tr><th scope=row>employment_type*</th><td> 4</td><td>607</td><td>2.993410e+00</td><td>2.367744e-01</td><td>     3</td><td>3.000000e+00</td><td>    0.0000</td><td>   1</td><td>       4</td><td>       3</td><td>-4.13636473</td><td> 45.8068788</td><td>9.610376e-03</td></tr>\n",
              "\t<tr><th scope=row>job_title*</th><td> 5</td><td>607</td><td>2.196046e+01</td><td>1.049132e+01</td><td>    18</td><td>2.100000e+01</td><td>    7.4130</td><td>   1</td><td>      50</td><td>      49</td><td> 0.87504036</td><td>  0.4033841</td><td>4.258294e-01</td></tr>\n",
              "\t<tr><th scope=row>salary</th><td> 6</td><td>607</td><td>3.240001e+05</td><td>1.544357e+06</td><td>115000</td><td>1.189191e+05</td><td>68706.6492</td><td>4000</td><td>30400000</td><td>30396000</td><td>13.98353745</td><td>244.5650398</td><td>6.268354e+04</td></tr>\n",
              "\t<tr><th scope=row>salary_currency*</th><td> 7</td><td>607</td><td>1.402965e+01</td><td>4.378063e+00</td><td>    17</td><td>1.467146e+01</td><td>    0.0000</td><td>   1</td><td>      17</td><td>      16</td><td>-1.02894140</td><td> -0.3834816</td><td>1.777001e-01</td></tr>\n",
              "\t<tr><th scope=row>salary_in_usd</th><td> 8</td><td>607</td><td>1.122979e+05</td><td>7.095726e+04</td><td>101570</td><td>1.061576e+05</td><td>62906.7180</td><td>2859</td><td>  600000</td><td>  597141</td><td> 1.65931243</td><td>  6.2611192</td><td>2.880066e+03</td></tr>\n",
              "\t<tr><th scope=row>employee_residence*</th><td> 9</td><td>607</td><td>4.140857e+01</td><td>1.827362e+01</td><td>    56</td><td>4.366324e+01</td><td>    0.0000</td><td>   1</td><td>      57</td><td>      56</td><td>-0.67289285</td><td> -1.2237463</td><td>7.417034e-01</td></tr>\n",
              "\t<tr><th scope=row>remote_ratio</th><td>10</td><td>607</td><td>7.092257e+01</td><td>4.070913e+01</td><td>   100</td><td>7.607803e+01</td><td>    0.0000</td><td>   0</td><td>     100</td><td>     100</td><td>-0.89976001</td><td> -0.8977813</td><td>1.652333e+00</td></tr>\n",
              "\t<tr><th scope=row>company_location*</th><td>11</td><td>607</td><td>3.688797e+01</td><td>1.603186e+01</td><td>    49</td><td>3.906571e+01</td><td>    0.0000</td><td>   1</td><td>      50</td><td>      49</td><td>-0.77315613</td><td> -1.0865107</td><td>6.507130e-01</td></tr>\n",
              "\t<tr><th scope=row>company_size*</th><td>12</td><td>607</td><td>1.810544e+00</td><td>6.540210e-01</td><td>     2</td><td>1.763860e+00</td><td>    0.0000</td><td>   1</td><td>       3</td><td>       2</td><td> 0.21468763</td><td> -0.7307573</td><td>2.654589e-02</td></tr>\n",
              "</tbody>\n",
              "</table>\n"
            ],
            "text/markdown": "\nA psych: 12 × 13\n\n| <!--/--> | vars &lt;int&gt; | n &lt;dbl&gt; | mean &lt;dbl&gt; | sd &lt;dbl&gt; | median &lt;dbl&gt; | trimmed &lt;dbl&gt; | mad &lt;dbl&gt; | min &lt;dbl&gt; | max &lt;dbl&gt; | range &lt;dbl&gt; | skew &lt;dbl&gt; | kurtosis &lt;dbl&gt; | se &lt;dbl&gt; |\n|---|---|---|---|---|---|---|---|---|---|---|---|---|---|\n| work_year |  1 | 607 | 2.021405e+03 | 6.921330e-01 |   2022 | 2.021505e+03 |     0.0000 | 2020 |     2022 |        2 | -0.73218434 |  -0.6566735 | 2.809281e-02 |\n| work_month |  2 | 607 | 6.472817e+00 | 3.344199e+00 |      6 | 6.462012e+00 |     4.4478 |    1 |       12 |       11 |  0.03830345 |  -1.1650795 | 1.357368e-01 |\n| experience_level* |  3 | 607 | 3.128501e+00 | 1.034055e+00 |      3 | 3.283368e+00 |     1.4826 |    1 |        4 |        3 | -1.04460332 |  -0.1037724 | 4.197098e-02 |\n| employment_type* |  4 | 607 | 2.993410e+00 | 2.367744e-01 |      3 | 3.000000e+00 |     0.0000 |    1 |        4 |        3 | -4.13636473 |  45.8068788 | 9.610376e-03 |\n| job_title* |  5 | 607 | 2.196046e+01 | 1.049132e+01 |     18 | 2.100000e+01 |     7.4130 |    1 |       50 |       49 |  0.87504036 |   0.4033841 | 4.258294e-01 |\n| salary |  6 | 607 | 3.240001e+05 | 1.544357e+06 | 115000 | 1.189191e+05 | 68706.6492 | 4000 | 30400000 | 30396000 | 13.98353745 | 244.5650398 | 6.268354e+04 |\n| salary_currency* |  7 | 607 | 1.402965e+01 | 4.378063e+00 |     17 | 1.467146e+01 |     0.0000 |    1 |       17 |       16 | -1.02894140 |  -0.3834816 | 1.777001e-01 |\n| salary_in_usd |  8 | 607 | 1.122979e+05 | 7.095726e+04 | 101570 | 1.061576e+05 | 62906.7180 | 2859 |   600000 |   597141 |  1.65931243 |   6.2611192 | 2.880066e+03 |\n| employee_residence* |  9 | 607 | 4.140857e+01 | 1.827362e+01 |     56 | 4.366324e+01 |     0.0000 |    1 |       57 |       56 | -0.67289285 |  -1.2237463 | 7.417034e-01 |\n| remote_ratio | 10 | 607 | 7.092257e+01 | 4.070913e+01 |    100 | 7.607803e+01 |     0.0000 |    0 |      100 |      100 | -0.89976001 |  -0.8977813 | 1.652333e+00 |\n| company_location* | 11 | 607 | 3.688797e+01 | 1.603186e+01 |     49 | 3.906571e+01 |     0.0000 |    1 |       50 |       49 | -0.77315613 |  -1.0865107 | 6.507130e-01 |\n| company_size* | 12 | 607 | 1.810544e+00 | 6.540210e-01 |      2 | 1.763860e+00 |     0.0000 |    1 |        3 |        2 |  0.21468763 |  -0.7307573 | 2.654589e-02 |\n\n",
            "text/latex": "A psych: 12 × 13\n\\begin{tabular}{r|lllllllllllll}\n  & vars & n & mean & sd & median & trimmed & mad & min & max & range & skew & kurtosis & se\\\\\n  & <int> & <dbl> & <dbl> & <dbl> & <dbl> & <dbl> & <dbl> & <dbl> & <dbl> & <dbl> & <dbl> & <dbl> & <dbl>\\\\\n\\hline\n\twork\\_year &  1 & 607 & 2.021405e+03 & 6.921330e-01 &   2022 & 2.021505e+03 &     0.0000 & 2020 &     2022 &        2 & -0.73218434 &  -0.6566735 & 2.809281e-02\\\\\n\twork\\_month &  2 & 607 & 6.472817e+00 & 3.344199e+00 &      6 & 6.462012e+00 &     4.4478 &    1 &       12 &       11 &  0.03830345 &  -1.1650795 & 1.357368e-01\\\\\n\texperience\\_level* &  3 & 607 & 3.128501e+00 & 1.034055e+00 &      3 & 3.283368e+00 &     1.4826 &    1 &        4 &        3 & -1.04460332 &  -0.1037724 & 4.197098e-02\\\\\n\temployment\\_type* &  4 & 607 & 2.993410e+00 & 2.367744e-01 &      3 & 3.000000e+00 &     0.0000 &    1 &        4 &        3 & -4.13636473 &  45.8068788 & 9.610376e-03\\\\\n\tjob\\_title* &  5 & 607 & 2.196046e+01 & 1.049132e+01 &     18 & 2.100000e+01 &     7.4130 &    1 &       50 &       49 &  0.87504036 &   0.4033841 & 4.258294e-01\\\\\n\tsalary &  6 & 607 & 3.240001e+05 & 1.544357e+06 & 115000 & 1.189191e+05 & 68706.6492 & 4000 & 30400000 & 30396000 & 13.98353745 & 244.5650398 & 6.268354e+04\\\\\n\tsalary\\_currency* &  7 & 607 & 1.402965e+01 & 4.378063e+00 &     17 & 1.467146e+01 &     0.0000 &    1 &       17 &       16 & -1.02894140 &  -0.3834816 & 1.777001e-01\\\\\n\tsalary\\_in\\_usd &  8 & 607 & 1.122979e+05 & 7.095726e+04 & 101570 & 1.061576e+05 & 62906.7180 & 2859 &   600000 &   597141 &  1.65931243 &   6.2611192 & 2.880066e+03\\\\\n\temployee\\_residence* &  9 & 607 & 4.140857e+01 & 1.827362e+01 &     56 & 4.366324e+01 &     0.0000 &    1 &       57 &       56 & -0.67289285 &  -1.2237463 & 7.417034e-01\\\\\n\tremote\\_ratio & 10 & 607 & 7.092257e+01 & 4.070913e+01 &    100 & 7.607803e+01 &     0.0000 &    0 &      100 &      100 & -0.89976001 &  -0.8977813 & 1.652333e+00\\\\\n\tcompany\\_location* & 11 & 607 & 3.688797e+01 & 1.603186e+01 &     49 & 3.906571e+01 &     0.0000 &    1 &       50 &       49 & -0.77315613 &  -1.0865107 & 6.507130e-01\\\\\n\tcompany\\_size* & 12 & 607 & 1.810544e+00 & 6.540210e-01 &      2 & 1.763860e+00 &     0.0000 &    1 &        3 &        2 &  0.21468763 &  -0.7307573 & 2.654589e-02\\\\\n\\end{tabular}\n",
            "text/plain": [
              "                    vars n   mean         sd           median trimmed     \n",
              "work_year            1   607 2.021405e+03 6.921330e-01   2022 2.021505e+03\n",
              "work_month           2   607 6.472817e+00 3.344199e+00      6 6.462012e+00\n",
              "experience_level*    3   607 3.128501e+00 1.034055e+00      3 3.283368e+00\n",
              "employment_type*     4   607 2.993410e+00 2.367744e-01      3 3.000000e+00\n",
              "job_title*           5   607 2.196046e+01 1.049132e+01     18 2.100000e+01\n",
              "salary               6   607 3.240001e+05 1.544357e+06 115000 1.189191e+05\n",
              "salary_currency*     7   607 1.402965e+01 4.378063e+00     17 1.467146e+01\n",
              "salary_in_usd        8   607 1.122979e+05 7.095726e+04 101570 1.061576e+05\n",
              "employee_residence*  9   607 4.140857e+01 1.827362e+01     56 4.366324e+01\n",
              "remote_ratio        10   607 7.092257e+01 4.070913e+01    100 7.607803e+01\n",
              "company_location*   11   607 3.688797e+01 1.603186e+01     49 3.906571e+01\n",
              "company_size*       12   607 1.810544e+00 6.540210e-01      2 1.763860e+00\n",
              "                    mad        min  max      range    skew        kurtosis   \n",
              "work_year               0.0000 2020     2022        2 -0.73218434  -0.6566735\n",
              "work_month              4.4478    1       12       11  0.03830345  -1.1650795\n",
              "experience_level*       1.4826    1        4        3 -1.04460332  -0.1037724\n",
              "employment_type*        0.0000    1        4        3 -4.13636473  45.8068788\n",
              "job_title*              7.4130    1       50       49  0.87504036   0.4033841\n",
              "salary              68706.6492 4000 30400000 30396000 13.98353745 244.5650398\n",
              "salary_currency*        0.0000    1       17       16 -1.02894140  -0.3834816\n",
              "salary_in_usd       62906.7180 2859   600000   597141  1.65931243   6.2611192\n",
              "employee_residence*     0.0000    1       57       56 -0.67289285  -1.2237463\n",
              "remote_ratio            0.0000    0      100      100 -0.89976001  -0.8977813\n",
              "company_location*       0.0000    1       50       49 -0.77315613  -1.0865107\n",
              "company_size*           0.0000    1        3        2  0.21468763  -0.7307573\n",
              "                    se          \n",
              "work_year           2.809281e-02\n",
              "work_month          1.357368e-01\n",
              "experience_level*   4.197098e-02\n",
              "employment_type*    9.610376e-03\n",
              "job_title*          4.258294e-01\n",
              "salary              6.268354e+04\n",
              "salary_currency*    1.777001e-01\n",
              "salary_in_usd       2.880066e+03\n",
              "employee_residence* 7.417034e-01\n",
              "remote_ratio        1.652333e+00\n",
              "company_location*   6.507130e-01\n",
              "company_size*       2.654589e-02"
            ]
          },
          "metadata": {}
        }
      ],
      "source": [
        "# Diretorio\n",
        "\n",
        "#Pacotes\n",
        "library(readr)\n",
        "library(psych)\n",
        "library(data.table)\n",
        "\n",
        "# Exercicio 1 - Carregar os dados e gerar estatísticas descritivas\n",
        "salarios.c <- read.csv(\"https://raw.githubusercontent.com/renatoquiliche/DataScience-PUCRio-FB/main/Data/DS_salarios/ds_salaries.csv\")[,-1]\n",
        "describeBy(salarios.c)"
      ]
    },
    {
      "cell_type": "code",
      "source": [
        "# Exercicio 2 - Técnica de Amostragem\n",
        "# Bootstrap\n",
        "salarios <- transpose(sample(transpose(salarios.c), size = 50, replace = TRUE))\n",
        "colnames(salarios) <- colnames(salarios.c)\n",
        "\n",
        "head(salarios)"
      ],
      "metadata": {
        "id": "8dtiYtC_SdpX",
        "colab": {
          "base_uri": "https://localhost:8080/",
          "height": 338
        },
        "outputId": "91867aea-1e27-4178-f1cb-ae207ae59c3e"
      },
      "execution_count": 10,
      "outputs": [
        {
          "output_type": "display_data",
          "data": {
            "text/html": [
              "<table class=\"dataframe\">\n",
              "<caption>A data.frame: 6 × 12</caption>\n",
              "<thead>\n",
              "\t<tr><th></th><th scope=col>work_year</th><th scope=col>work_month</th><th scope=col>experience_level</th><th scope=col>employment_type</th><th scope=col>job_title</th><th scope=col>salary</th><th scope=col>salary_currency</th><th scope=col>salary_in_usd</th><th scope=col>employee_residence</th><th scope=col>remote_ratio</th><th scope=col>company_location</th><th scope=col>company_size</th></tr>\n",
              "\t<tr><th></th><th scope=col>&lt;chr&gt;</th><th scope=col>&lt;chr&gt;</th><th scope=col>&lt;chr&gt;</th><th scope=col>&lt;chr&gt;</th><th scope=col>&lt;chr&gt;</th><th scope=col>&lt;chr&gt;</th><th scope=col>&lt;chr&gt;</th><th scope=col>&lt;chr&gt;</th><th scope=col>&lt;chr&gt;</th><th scope=col>&lt;chr&gt;</th><th scope=col>&lt;chr&gt;</th><th scope=col>&lt;chr&gt;</th></tr>\n",
              "</thead>\n",
              "<tbody>\n",
              "\t<tr><th scope=row>1</th><td>2020</td><td>11</td><td>MI</td><td>FT</td><td>Lead Data Analyst       </td><td>87000 </td><td>USD</td><td>87000 </td><td>US</td><td>100</td><td>US</td><td>L</td></tr>\n",
              "\t<tr><th scope=row>2</th><td>2022</td><td>5 </td><td>SE</td><td>FT</td><td>Data Engineer           </td><td>181940</td><td>USD</td><td>181940</td><td>US</td><td>0  </td><td>US</td><td>M</td></tr>\n",
              "\t<tr><th scope=row>3</th><td>2022</td><td>6 </td><td>SE</td><td>FT</td><td>Data Scientist          </td><td>170000</td><td>USD</td><td>170000</td><td>US</td><td>100</td><td>US</td><td>M</td></tr>\n",
              "\t<tr><th scope=row>4</th><td>2022</td><td>4 </td><td>MI</td><td>FT</td><td>Data Scientist          </td><td>115000</td><td>CHF</td><td>122346</td><td>CH</td><td>0  </td><td>CH</td><td>L</td></tr>\n",
              "\t<tr><th scope=row>5</th><td>2021</td><td>10</td><td>SE</td><td>FT</td><td>Computer Vision Engineer</td><td>102000</td><td>BRL</td><td>18907 </td><td>BR</td><td>0  </td><td>BR</td><td>M</td></tr>\n",
              "\t<tr><th scope=row>6</th><td>2021</td><td>12</td><td>EN</td><td>FT</td><td>Data Engineer           </td><td>55000 </td><td>EUR</td><td>65013 </td><td>DE</td><td>50 </td><td>DE</td><td>M</td></tr>\n",
              "</tbody>\n",
              "</table>\n"
            ],
            "text/markdown": "\nA data.frame: 6 × 12\n\n| <!--/--> | work_year &lt;chr&gt; | work_month &lt;chr&gt; | experience_level &lt;chr&gt; | employment_type &lt;chr&gt; | job_title &lt;chr&gt; | salary &lt;chr&gt; | salary_currency &lt;chr&gt; | salary_in_usd &lt;chr&gt; | employee_residence &lt;chr&gt; | remote_ratio &lt;chr&gt; | company_location &lt;chr&gt; | company_size &lt;chr&gt; |\n|---|---|---|---|---|---|---|---|---|---|---|---|---|\n| 1 | 2020 | 11 | MI | FT | Lead Data Analyst        | 87000  | USD | 87000  | US | 100 | US | L |\n| 2 | 2022 | 5  | SE | FT | Data Engineer            | 181940 | USD | 181940 | US | 0   | US | M |\n| 3 | 2022 | 6  | SE | FT | Data Scientist           | 170000 | USD | 170000 | US | 100 | US | M |\n| 4 | 2022 | 4  | MI | FT | Data Scientist           | 115000 | CHF | 122346 | CH | 0   | CH | L |\n| 5 | 2021 | 10 | SE | FT | Computer Vision Engineer | 102000 | BRL | 18907  | BR | 0   | BR | M |\n| 6 | 2021 | 12 | EN | FT | Data Engineer            | 55000  | EUR | 65013  | DE | 50  | DE | M |\n\n",
            "text/latex": "A data.frame: 6 × 12\n\\begin{tabular}{r|llllllllllll}\n  & work\\_year & work\\_month & experience\\_level & employment\\_type & job\\_title & salary & salary\\_currency & salary\\_in\\_usd & employee\\_residence & remote\\_ratio & company\\_location & company\\_size\\\\\n  & <chr> & <chr> & <chr> & <chr> & <chr> & <chr> & <chr> & <chr> & <chr> & <chr> & <chr> & <chr>\\\\\n\\hline\n\t1 & 2020 & 11 & MI & FT & Lead Data Analyst        & 87000  & USD & 87000  & US & 100 & US & L\\\\\n\t2 & 2022 & 5  & SE & FT & Data Engineer            & 181940 & USD & 181940 & US & 0   & US & M\\\\\n\t3 & 2022 & 6  & SE & FT & Data Scientist           & 170000 & USD & 170000 & US & 100 & US & M\\\\\n\t4 & 2022 & 4  & MI & FT & Data Scientist           & 115000 & CHF & 122346 & CH & 0   & CH & L\\\\\n\t5 & 2021 & 10 & SE & FT & Computer Vision Engineer & 102000 & BRL & 18907  & BR & 0   & BR & M\\\\\n\t6 & 2021 & 12 & EN & FT & Data Engineer            & 55000  & EUR & 65013  & DE & 50  & DE & M\\\\\n\\end{tabular}\n",
            "text/plain": [
              "  work_year work_month experience_level employment_type\n",
              "1 2020      11         MI               FT             \n",
              "2 2022      5          SE               FT             \n",
              "3 2022      6          SE               FT             \n",
              "4 2022      4          MI               FT             \n",
              "5 2021      10         SE               FT             \n",
              "6 2021      12         EN               FT             \n",
              "  job_title                salary salary_currency salary_in_usd\n",
              "1 Lead Data Analyst        87000  USD             87000        \n",
              "2 Data Engineer            181940 USD             181940       \n",
              "3 Data Scientist           170000 USD             170000       \n",
              "4 Data Scientist           115000 CHF             122346       \n",
              "5 Computer Vision Engineer 102000 BRL             18907        \n",
              "6 Data Engineer            55000  EUR             65013        \n",
              "  employee_residence remote_ratio company_location company_size\n",
              "1 US                 100          US               L           \n",
              "2 US                 0            US               M           \n",
              "3 US                 100          US               M           \n",
              "4 CH                 0            CH               L           \n",
              "5 BR                 0            BR               M           \n",
              "6 DE                 50           DE               M           "
            ]
          },
          "metadata": {}
        }
      ]
    },
    {
      "cell_type": "code",
      "source": [
        "# Exercicio 3 - Técnica de Discretização\n",
        "# Transformação da variável salário numérica para uma varíavel categórica\n",
        "str(salarios)\n",
        "salarios$salary_in_usd <- as.numeric(salarios$salary_in_usd)\n",
        "\n",
        "# Em relação a média\n",
        "salarios$salary_in_usd_average <- ifelse(salarios$salary_in_usd < mean(salarios$salary_in_usd),\n",
        "                           \"Below Average\", \"Above Average\")\n",
        "\n",
        "\n",
        "# Em relação aos quantis\n",
        "quartil25 <- quantile(salarios$salary_in_usd)[2]\n",
        "quartil50 <- quantile(salarios$salary_in_usd)[3]\n",
        "quartil75 <- quantile(salarios$salary_in_usd)[4]\n",
        "\n",
        "salarios$salary_in_usd_quantiles <- ifelse(salarios$salary_in_usd <= quartil25,\n",
        "                                 \"Quantile 25\", ifelse(salarios$salary_in_usd <= quartil50 & salarios$salary_in_usd > quartil25,\n",
        "                                             \"Quantile 50\", ifelse(salarios$salary_in_usd <= quartil75 & salarios$salary_in_usd > quartil50,\n",
        "                                                         \"Quantile 75\",\"Quantile 100\")))"
      ],
      "metadata": {
        "colab": {
          "base_uri": "https://localhost:8080/"
        },
        "id": "BOZOyyPOTKLt",
        "outputId": "a93dfa75-eb3a-4956-c4ca-2afd56862538"
      },
      "execution_count": 7,
      "outputs": [
        {
          "output_type": "stream",
          "name": "stdout",
          "text": [
            "'data.frame':\t50 obs. of  12 variables:\n",
            " $ work_year         : chr  \"2022\" \"2021\" \"2021\" \"2022\" ...\n",
            " $ work_month        : chr  \"2\" \"3\" \"7\" \"2\" ...\n",
            " $ experience_level  : chr  \"SE\" \"EX\" \"SE\" \"SE\" ...\n",
            " $ employment_type   : chr  \"FT\" \"FT\" \"FT\" \"FT\" ...\n",
            " $ job_title         : chr  \"Data Engineer\" \"Director of Data Science\" \"Data Analyst\" \"Data Analyst\" ...\n",
            " $ salary            : chr  \"155000\" \"130000\" \"90000\" \"106260\" ...\n",
            " $ salary_currency   : chr  \"USD\" \"EUR\" \"CAD\" \"USD\" ...\n",
            " $ salary_in_usd     : chr  \"155000\" \"153667\" \"71786\" \"106260\" ...\n",
            " $ employee_residence: chr  \"US\" \"IT\" \"CA\" \"US\" ...\n",
            " $ remote_ratio      : chr  \"100\" \"100\" \"100\" \"100\" ...\n",
            " $ company_location  : chr  \"US\" \"PL\" \"CA\" \"US\" ...\n",
            " $ company_size      : chr  \"M\" \"L\" \"M\" \"M\" ...\n"
          ]
        }
      ]
    },
    {
      "cell_type": "code",
      "source": [
        "# Exercicio 4 - Técnica de Feature Engineering\n",
        "# Criação de uma nova variável para indicar se o trabalha no mesmo país em que mora, o que representa mais informação\n",
        "salarios$residence_location <- ifelse(\n",
        "  salarios$employee_residence != salarios$company_location, \n",
        "  \"Live in a country and works for another\", \"Work and live in the same country\")"
      ],
      "metadata": {
        "id": "lUg7O44rTOHM"
      },
      "execution_count": 8,
      "outputs": []
    },
    {
      "cell_type": "markdown",
      "source": [
        "**Observations: the code is ok, but the bootstrap sample size is $n=50$, which may not lead to good data representativity**"
      ],
      "metadata": {
        "id": "0YR_0HviWP3g"
      }
    }
  ]
}